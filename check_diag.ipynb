{
 "cells": [
  {
   "cell_type": "code",
   "execution_count": 2,
   "metadata": {},
   "outputs": [],
   "source": [
    "import random\n",
    "import numpy as np\n",
    "import re\n",
    "import pandas as pd\n",
    "import matplotlib.pyplot as plt\n",
    "import matplotlib\n",
    "import math\n",
    "import seaborn as sns\n",
    "from sklearn.model_selection import GridSearchCV,ParameterGrid,cross_val_score\n",
    "from sklearn.ensemble import RandomForestClassifier,AdaBoostClassifier\n",
    "from sklearn.model_selection import train_test_split,StratifiedKFold,learning_curve,KFold\n",
    "from sklearn.preprocessing import MinMaxScaler,StandardScaler\n",
    "from sklearn.feature_selection import f_regression, mutual_info_regression\n",
    "from sklearn.pipeline import Pipeline\n",
    "\n",
    "# 导入算法库\n",
    "from sklearn.linear_model import LinearRegression,Ridge,LassoCV,BayesianRidge\n",
    "from sklearn.ensemble import GradientBoostingRegressor\n",
    "from sklearn.ensemble import RandomForestRegressor\n",
    "from sklearn.svm import SVR\n",
    "from xgboost.sklearn import XGBClassifier,XGBRegressor\n",
    "# import xgboost as xgb\n",
    "# from xgboost import plot_importance\n",
    "from sklearn.cluster import KMeans\n",
    "from sklearn import metrics\n",
    "from sklearn.decomposition import PCA\n",
    "from sklearn.metrics import confusion_matrix\n",
    "from sklearn.preprocessing import LabelEncoder\n",
    "from sklearn.tree import DecisionTreeClassifier\n",
    "from sklearn.metrics import accuracy_score\n",
    "from random import shuffle\n",
    "from matplotlib import pyplot as plt\n",
    "import seaborn as sns\n",
    "from sklearn import svm\n",
    "from scipy import stats\n",
    "import warnings\n",
    "warnings.filterwarnings('ignore')\n",
    "sns.set_style('whitegrid')\n",
    "from matplotlib.font_manager import * \n",
    "plt.style.use('ggplot')          # 配色\n",
    "matplotlib.rcParams['figure.figsize'] = [20, 6] # for square canvas\n",
    "# sns.set(font='SimHei')  # 解决Seaborn中文显示问题\n",
    "pd.set_option('display.max_colwidth', 500)       # 设置字符串显示长度\n",
    "from IPython.core.interactiveshell import InteractiveShell\n",
    "from sklearn.impute import SimpleImputer\n",
    "InteractiveShell.ast_node_interactivity = 'all'\n",
    "#指定默认字体\n",
    "myfont = FontProperties(fname='./fonts/simhei.ttf') \n",
    "matplotlib.rcParams['font.sans-serif'] = ['SimHei'] \n",
    "matplotlib.rcParams['font.family']='sans-serif'\n",
    "%config IPCompleter.greedy=True"
   ]
  },
  {
   "cell_type": "code",
   "execution_count": 3,
   "metadata": {},
   "outputs": [],
   "source": [
    "data=pd.read_pickle('../data/diag_all.pkl')"
   ]
  },
  {
   "cell_type": "code",
   "execution_count": 4,
   "metadata": {},
   "outputs": [
    {
     "data": {
      "text/plain": [
       "阳性体征    174570\n",
       "疾病诊断     27633\n",
       "Name: 诊断类型, dtype: int64"
      ]
     },
     "execution_count": 4,
     "metadata": {},
     "output_type": "execute_result"
    },
    {
     "data": {
      "text/plain": [
       "157824"
      ]
     },
     "execution_count": 4,
     "metadata": {},
     "output_type": "execute_result"
    },
    {
     "data": {
      "text/plain": [
       "(202203, 19)"
      ]
     },
     "execution_count": 4,
     "metadata": {},
     "output_type": "execute_result"
    }
   ],
   "source": [
    "data.诊断类型.value_counts()\n",
    "sum(data.病人ID.duplicated())\n",
    "data.shape"
   ]
  },
  {
   "cell_type": "code",
   "execution_count": 5,
   "metadata": {},
   "outputs": [],
   "source": [
    "data_ino=pd.read_csv('../data/Medical_INO_details_Information.csv',encoding='gbk')"
   ]
  },
  {
   "cell_type": "code",
   "execution_count": 6,
   "metadata": {},
   "outputs": [
    {
     "data": {
      "text/plain": [
       "(202203, 19)"
      ]
     },
     "execution_count": 6,
     "metadata": {},
     "output_type": "execute_result"
    },
    {
     "name": "stdout",
     "output_type": "stream",
     "text": [
      "<class 'pandas.core.frame.DataFrame'>\n",
      "RangeIndex: 3529829 entries, 0 to 3529828\n",
      "Data columns (total 14 columns):\n",
      "        int64\n",
      "病人ID    int64\n",
      "性别      object\n",
      "年龄      int64\n",
      "体检总结    object\n",
      "项目代码    int64\n",
      "项目名称    object\n",
      "检查结果    object\n",
      "结果单位    object\n",
      "参考范围    object\n",
      "异常提示    object\n",
      "正常结果    object\n",
      "异常标志    float64\n",
      "诊断标志    float64\n",
      "dtypes: float64(2), int64(4), object(8)\n",
      "memory usage: 377.0+ MB\n"
     ]
    }
   ],
   "source": [
    "data.shape\n",
    "data_ino.info()"
   ]
  },
  {
   "cell_type": "code",
   "execution_count": 7,
   "metadata": {},
   "outputs": [],
   "source": [
    "# data.head()"
   ]
  },
  {
   "cell_type": "markdown",
   "metadata": {},
   "source": [
    "### 在Excel（后面发现Excel未完全显示）中观察体检数据表INO，总结以下：\n",
    "- 1. 诊断标志9 表示**无异常**，只有一个编号759230的体检记录中 一个男的异常提示被记录为h（其他为空白）， 但是阳性为0， 考虑为录入失误, 将'诊断标志'修正为4\n",
    "  2. 诊断标志4 表示**异常**(h/阳性),除了三个：其中一个编号820410的体检记录， 一个男的异常记录为z，阳性为1， 考虑录入失误， 将'异常提示'修正为h \n",
    "  3. 诊断标志3 表示**无异常**(z/心率)   考虑转化为0\n",
    "  4. 诊断标志2 表示**异常**(h)\n",
    "  5. 诊断标志1 表示**异常**(l)/**心率**（无具体数值，并且阳性特征全部为0）\n",
    "  6. 诊断标志0 表示**无异常**(空白)，除了一个编号759224的体检记录,异常记录为'h',阳性为0， 录入失误， 将诊断标志修正为**2**"
   ]
  },
  {
   "cell_type": "code",
   "execution_count": 8,
   "metadata": {},
   "outputs": [
    {
     "data": {
      "text/html": [
       "<div>\n",
       "<style scoped>\n",
       "    .dataframe tbody tr th:only-of-type {\n",
       "        vertical-align: middle;\n",
       "    }\n",
       "\n",
       "    .dataframe tbody tr th {\n",
       "        vertical-align: top;\n",
       "    }\n",
       "\n",
       "    .dataframe thead th {\n",
       "        text-align: right;\n",
       "    }\n",
       "</style>\n",
       "<table border=\"1\" class=\"dataframe\">\n",
       "  <thead>\n",
       "    <tr style=\"text-align: right;\">\n",
       "      <th>异常提示</th>\n",
       "      <th>h</th>\n",
       "      <th>l</th>\n",
       "      <th>z</th>\n",
       "      <th>阳性</th>\n",
       "      <th>阴性</th>\n",
       "    </tr>\n",
       "    <tr>\n",
       "      <th>诊断标志</th>\n",
       "      <th></th>\n",
       "      <th></th>\n",
       "      <th></th>\n",
       "      <th></th>\n",
       "      <th></th>\n",
       "    </tr>\n",
       "  </thead>\n",
       "  <tbody>\n",
       "    <tr>\n",
       "      <th>0.0</th>\n",
       "      <td>1.0</td>\n",
       "      <td>NaN</td>\n",
       "      <td>NaN</td>\n",
       "      <td>NaN</td>\n",
       "      <td>NaN</td>\n",
       "    </tr>\n",
       "    <tr>\n",
       "      <th>1.0</th>\n",
       "      <td>NaN</td>\n",
       "      <td>64016.0</td>\n",
       "      <td>NaN</td>\n",
       "      <td>NaN</td>\n",
       "      <td>NaN</td>\n",
       "    </tr>\n",
       "    <tr>\n",
       "      <th>2.0</th>\n",
       "      <td>127360.0</td>\n",
       "      <td>NaN</td>\n",
       "      <td>NaN</td>\n",
       "      <td>NaN</td>\n",
       "      <td>NaN</td>\n",
       "    </tr>\n",
       "    <tr>\n",
       "      <th>3.0</th>\n",
       "      <td>NaN</td>\n",
       "      <td>NaN</td>\n",
       "      <td>75129.0</td>\n",
       "      <td>NaN</td>\n",
       "      <td>89745.0</td>\n",
       "    </tr>\n",
       "    <tr>\n",
       "      <th>4.0</th>\n",
       "      <td>281.0</td>\n",
       "      <td>NaN</td>\n",
       "      <td>3.0</td>\n",
       "      <td>46533.0</td>\n",
       "      <td>NaN</td>\n",
       "    </tr>\n",
       "    <tr>\n",
       "      <th>9.0</th>\n",
       "      <td>1.0</td>\n",
       "      <td>NaN</td>\n",
       "      <td>NaN</td>\n",
       "      <td>NaN</td>\n",
       "      <td>NaN</td>\n",
       "    </tr>\n",
       "  </tbody>\n",
       "</table>\n",
       "</div>"
      ],
      "text/plain": [
       "异常提示         h        l        z       阳性       阴性\n",
       "诊断标志                                              \n",
       "0.0        1.0      NaN      NaN      NaN      NaN\n",
       "1.0        NaN  64016.0      NaN      NaN      NaN\n",
       "2.0   127360.0      NaN      NaN      NaN      NaN\n",
       "3.0        NaN      NaN  75129.0      NaN  89745.0\n",
       "4.0      281.0      NaN      3.0  46533.0      NaN\n",
       "9.0        1.0      NaN      NaN      NaN      NaN"
      ]
     },
     "execution_count": 8,
     "metadata": {},
     "output_type": "execute_result"
    }
   ],
   "source": [
    "data_ino.groupby('诊断标志')['异常提示'].value_counts().unstack()"
   ]
  },
  {
   "cell_type": "code",
   "execution_count": 9,
   "metadata": {},
   "outputs": [],
   "source": [
    "data_ino.loc[759224, '诊断标志'] = 2                 # 修正 #6\n",
    "\n",
    "data_ino.at[(data_ino.异常提示 == 'z')&(data_ino.诊断标志 == 4), '异常提示'] = 'h' # 修正 #2\n",
    "\n",
    "data_ino.loc[759230, '诊断标志'] = 4              # 修正 #1\n",
    "\n",
    "data_ino['诊断标志'] = np.floor(data_ino['诊断标志'])\n",
    "\n",
    "data_ino['诊断标志'] = data_ino.apply(lambda x: 0 if x['诊断标志'] == 3 or x['诊断标志'] > 4 else x['诊断标志'], axis=1)"
   ]
  },
  {
   "cell_type": "code",
   "execution_count": 10,
   "metadata": {},
   "outputs": [
    {
     "data": {
      "text/plain": [
       "0.0    341636\n",
       "2.0    127361\n",
       "1.0     67459\n",
       "4.0     51524\n",
       "Name: 诊断标志, dtype: int64"
      ]
     },
     "execution_count": 10,
     "metadata": {},
     "output_type": "execute_result"
    }
   ],
   "source": [
    "data_ino['诊断标志'].value_counts()"
   ]
  },
  {
   "cell_type": "code",
   "execution_count": 11,
   "metadata": {},
   "outputs": [
    {
     "data": {
      "text/html": [
       "<div>\n",
       "<style scoped>\n",
       "    .dataframe tbody tr th:only-of-type {\n",
       "        vertical-align: middle;\n",
       "    }\n",
       "\n",
       "    .dataframe tbody tr th {\n",
       "        vertical-align: top;\n",
       "    }\n",
       "\n",
       "    .dataframe thead th {\n",
       "        text-align: right;\n",
       "    }\n",
       "</style>\n",
       "<table border=\"1\" class=\"dataframe\">\n",
       "  <thead>\n",
       "    <tr style=\"text-align: right;\">\n",
       "      <th>异常提示</th>\n",
       "      <th>+</th>\n",
       "      <th>-</th>\n",
       "      <th>h</th>\n",
       "      <th>l</th>\n",
       "      <th>z</th>\n",
       "      <th>阳性</th>\n",
       "      <th>阴性</th>\n",
       "    </tr>\n",
       "    <tr>\n",
       "      <th>异常标志</th>\n",
       "      <th></th>\n",
       "      <th></th>\n",
       "      <th></th>\n",
       "      <th></th>\n",
       "      <th></th>\n",
       "      <th></th>\n",
       "      <th></th>\n",
       "    </tr>\n",
       "  </thead>\n",
       "  <tbody>\n",
       "    <tr>\n",
       "      <th>0.0</th>\n",
       "      <td>4.0</td>\n",
       "      <td>415.0</td>\n",
       "      <td>2.0</td>\n",
       "      <td>1.0</td>\n",
       "      <td>1950751.0</td>\n",
       "      <td>NaN</td>\n",
       "      <td>89745.0</td>\n",
       "    </tr>\n",
       "    <tr>\n",
       "      <th>1.0</th>\n",
       "      <td>NaN</td>\n",
       "      <td>NaN</td>\n",
       "      <td>127646.0</td>\n",
       "      <td>64016.0</td>\n",
       "      <td>NaN</td>\n",
       "      <td>46533.0</td>\n",
       "      <td>NaN</td>\n",
       "    </tr>\n",
       "  </tbody>\n",
       "</table>\n",
       "</div>"
      ],
      "text/plain": [
       "异常提示    +      -         h        l          z       阳性       阴性\n",
       "异常标志                                                            \n",
       "0.0   4.0  415.0       2.0      1.0  1950751.0      NaN  89745.0\n",
       "1.0   NaN    NaN  127646.0  64016.0        NaN  46533.0      NaN"
      ]
     },
     "execution_count": 11,
     "metadata": {},
     "output_type": "execute_result"
    }
   ],
   "source": [
    "data_ino.groupby('异常标志')['异常提示'].value_counts().unstack()            ## 异常标志这个 0 值有点问题， 不可信\n",
    "# data_ino[(data_ino.异常提示 == 'z')&(data_ino.异常标志 == 1)]"
   ]
  },
  {
   "cell_type": "code",
   "execution_count": 12,
   "metadata": {},
   "outputs": [
    {
     "data": {
      "text/html": [
       "<div>\n",
       "<style scoped>\n",
       "    .dataframe tbody tr th:only-of-type {\n",
       "        vertical-align: middle;\n",
       "    }\n",
       "\n",
       "    .dataframe tbody tr th {\n",
       "        vertical-align: top;\n",
       "    }\n",
       "\n",
       "    .dataframe thead th {\n",
       "        text-align: right;\n",
       "    }\n",
       "</style>\n",
       "<table border=\"1\" class=\"dataframe\">\n",
       "  <thead>\n",
       "    <tr style=\"text-align: right;\">\n",
       "      <th>异常提示</th>\n",
       "      <th>h</th>\n",
       "      <th>l</th>\n",
       "      <th>z</th>\n",
       "      <th>阳性</th>\n",
       "      <th>阴性</th>\n",
       "    </tr>\n",
       "    <tr>\n",
       "      <th>诊断标志</th>\n",
       "      <th></th>\n",
       "      <th></th>\n",
       "      <th></th>\n",
       "      <th></th>\n",
       "      <th></th>\n",
       "    </tr>\n",
       "  </thead>\n",
       "  <tbody>\n",
       "    <tr>\n",
       "      <th>0.0</th>\n",
       "      <td>NaN</td>\n",
       "      <td>NaN</td>\n",
       "      <td>75129.0</td>\n",
       "      <td>NaN</td>\n",
       "      <td>89745.0</td>\n",
       "    </tr>\n",
       "    <tr>\n",
       "      <th>1.0</th>\n",
       "      <td>NaN</td>\n",
       "      <td>64016.0</td>\n",
       "      <td>NaN</td>\n",
       "      <td>NaN</td>\n",
       "      <td>NaN</td>\n",
       "    </tr>\n",
       "    <tr>\n",
       "      <th>2.0</th>\n",
       "      <td>127361.0</td>\n",
       "      <td>NaN</td>\n",
       "      <td>NaN</td>\n",
       "      <td>NaN</td>\n",
       "      <td>NaN</td>\n",
       "    </tr>\n",
       "    <tr>\n",
       "      <th>4.0</th>\n",
       "      <td>285.0</td>\n",
       "      <td>NaN</td>\n",
       "      <td>NaN</td>\n",
       "      <td>46533.0</td>\n",
       "      <td>NaN</td>\n",
       "    </tr>\n",
       "  </tbody>\n",
       "</table>\n",
       "</div>"
      ],
      "text/plain": [
       "异常提示         h        l        z       阳性       阴性\n",
       "诊断标志                                              \n",
       "0.0        NaN      NaN  75129.0      NaN  89745.0\n",
       "1.0        NaN  64016.0      NaN      NaN      NaN\n",
       "2.0   127361.0      NaN      NaN      NaN      NaN\n",
       "4.0      285.0      NaN      NaN  46533.0      NaN"
      ]
     },
     "execution_count": 12,
     "metadata": {},
     "output_type": "execute_result"
    },
    {
     "data": {
      "text/html": [
       "<div>\n",
       "<style scoped>\n",
       "    .dataframe tbody tr th:only-of-type {\n",
       "        vertical-align: middle;\n",
       "    }\n",
       "\n",
       "    .dataframe tbody tr th {\n",
       "        vertical-align: top;\n",
       "    }\n",
       "\n",
       "    .dataframe thead th {\n",
       "        text-align: right;\n",
       "    }\n",
       "</style>\n",
       "<table border=\"1\" class=\"dataframe\">\n",
       "  <thead>\n",
       "    <tr style=\"text-align: right;\">\n",
       "      <th>异常提示</th>\n",
       "      <th>+</th>\n",
       "      <th>-</th>\n",
       "      <th>h</th>\n",
       "      <th>l</th>\n",
       "      <th>z</th>\n",
       "      <th>阳性</th>\n",
       "      <th>阴性</th>\n",
       "    </tr>\n",
       "    <tr>\n",
       "      <th>诊断标志</th>\n",
       "      <th></th>\n",
       "      <th></th>\n",
       "      <th></th>\n",
       "      <th></th>\n",
       "      <th></th>\n",
       "      <th></th>\n",
       "      <th></th>\n",
       "    </tr>\n",
       "  </thead>\n",
       "  <tbody>\n",
       "    <tr>\n",
       "      <th>0.0</th>\n",
       "      <td>NaN</td>\n",
       "      <td>NaN</td>\n",
       "      <td>NaN</td>\n",
       "      <td>NaN</td>\n",
       "      <td>1950751.0</td>\n",
       "      <td>NaN</td>\n",
       "      <td>89745.0</td>\n",
       "    </tr>\n",
       "    <tr>\n",
       "      <th>1.0</th>\n",
       "      <td>NaN</td>\n",
       "      <td>415.0</td>\n",
       "      <td>NaN</td>\n",
       "      <td>64017.0</td>\n",
       "      <td>NaN</td>\n",
       "      <td>NaN</td>\n",
       "      <td>NaN</td>\n",
       "    </tr>\n",
       "    <tr>\n",
       "      <th>2.0</th>\n",
       "      <td>4.0</td>\n",
       "      <td>NaN</td>\n",
       "      <td>127363.0</td>\n",
       "      <td>NaN</td>\n",
       "      <td>NaN</td>\n",
       "      <td>NaN</td>\n",
       "      <td>NaN</td>\n",
       "    </tr>\n",
       "    <tr>\n",
       "      <th>4.0</th>\n",
       "      <td>NaN</td>\n",
       "      <td>NaN</td>\n",
       "      <td>285.0</td>\n",
       "      <td>NaN</td>\n",
       "      <td>NaN</td>\n",
       "      <td>46533.0</td>\n",
       "      <td>NaN</td>\n",
       "    </tr>\n",
       "  </tbody>\n",
       "</table>\n",
       "</div>"
      ],
      "text/plain": [
       "异常提示    +      -         h        l          z       阳性       阴性\n",
       "诊断标志                                                            \n",
       "0.0   NaN    NaN       NaN      NaN  1950751.0      NaN  89745.0\n",
       "1.0   NaN  415.0       NaN  64017.0        NaN      NaN      NaN\n",
       "2.0   4.0    NaN  127363.0      NaN        NaN      NaN      NaN\n",
       "4.0   NaN    NaN     285.0      NaN        NaN  46533.0      NaN"
      ]
     },
     "execution_count": 12,
     "metadata": {},
     "output_type": "execute_result"
    }
   ],
   "source": [
    "temp_ino = data_ino\n",
    "# 函数 填充'诊断标志'为NaN的情况 为 透视表 做准备\n",
    "def fill_labels(df):\n",
    "    if pd.isnull(df['诊断标志']):\n",
    "        if pd.isnull(df['正常结果']):\n",
    "            if df['异常提示'] == 'z':\n",
    "                return 0\n",
    "            elif df['异常提示'] == '+' or df['异常提示'] == 'h':\n",
    "                return 2\n",
    "            elif df['异常提示'] == '-' or df['异常提示'] == 'l':\n",
    "                return 1\n",
    "        else:\n",
    "            return 0        # 正常全为0\n",
    "    else:\n",
    "        return df['诊断标志']\n",
    "# temp_ino.at[temp_ino['诊断标志'].isnull() & -(temp_ino['正常结果'].isnull()) & (temp_ino['', '诊断标志'] = 0\n",
    "temp_ino.groupby('诊断标志')['异常提示'].value_counts().unstack()                     # 处理前\n",
    "temp_ino['诊断标志'] = temp_ino.apply(fill_labels, axis=1)\n",
    "temp_ino.groupby('诊断标志')['异常提示'].value_counts().unstack()                      # 处理后"
   ]
  },
  {
   "cell_type": "markdown",
   "metadata": {},
   "source": [
    "但是 比如9.0 或者其他值，并且'异常提示'为NaN的 没有上榜。。。 比如'鼻','心率'"
   ]
  },
  {
   "cell_type": "code",
   "execution_count": 13,
   "metadata": {},
   "outputs": [],
   "source": [
    "# data_ino.groupby(['病人ID'])\n",
    "combined_ino = temp_ino.pivot_table(values='诊断标志', index='病人ID', columns='项目名称') #, aggfunc=lambda x : (label_Dict[x]))"
   ]
  },
  {
   "cell_type": "code",
   "execution_count": 14,
   "metadata": {
    "scrolled": true
   },
   "outputs": [
    {
     "data": {
      "text/plain": [
       "0.0    59\n",
       "4.0     2\n",
       "Name: *EB病毒抗体(VCA-IgA), dtype: int64"
      ]
     },
     "execution_count": 14,
     "metadata": {},
     "output_type": "execute_result"
    },
    {
     "data": {
      "text/plain": [
       "0.0    6\n",
       "Name: 24小时动态血压, dtype: int64"
      ]
     },
     "execution_count": 14,
     "metadata": {},
     "output_type": "execute_result"
    },
    {
     "data": {
      "text/plain": [
       "0.0    1488\n",
       "Name: ABO血型, dtype: int64"
      ]
     },
     "execution_count": 14,
     "metadata": {},
     "output_type": "execute_result"
    },
    {
     "data": {
      "text/plain": [
       "0.0    3195\n",
       "Name: ABO血型鉴定(ABO), dtype: int64"
      ]
     },
     "execution_count": 14,
     "metadata": {},
     "output_type": "execute_result"
    },
    {
     "data": {
      "text/plain": [
       "0.0    16022\n",
       "Name: AST/ALT, dtype: int64"
      ]
     },
     "execution_count": 14,
     "metadata": {},
     "output_type": "execute_result"
    },
    {
     "data": {
      "text/plain": [
       "0.0    32070\n",
       "Name: BUN:CREA, dtype: int64"
      ]
     },
     "execution_count": 14,
     "metadata": {},
     "output_type": "execute_result"
    },
    {
     "data": {
      "text/plain": [
       "0.0    4\n",
       "Name: C-肽测定, dtype: int64"
      ]
     },
     "execution_count": 14,
     "metadata": {},
     "output_type": "execute_result"
    },
    {
     "data": {
      "text/plain": [
       "0.0    236\n",
       "Name: CDFI, dtype: int64"
      ]
     },
     "execution_count": 14,
     "metadata": {},
     "output_type": "execute_result"
    },
    {
     "data": {
      "text/plain": [
       "0.0    5\n",
       "Name: CRP(C反应蛋白）, dtype: int64"
      ]
     },
     "execution_count": 14,
     "metadata": {},
     "output_type": "execute_result"
    },
    {
     "data": {
      "text/plain": [
       "0.0    1\n",
       "Name: CRP(超敏C反应蛋白）, dtype: int64"
      ]
     },
     "execution_count": 14,
     "metadata": {},
     "output_type": "execute_result"
    },
    {
     "data": {
      "text/plain": [
       "0.0    1\n",
       "Name: CT平扫所见, dtype: int64"
      ]
     },
     "execution_count": 14,
     "metadata": {},
     "output_type": "execute_result"
    },
    {
     "data": {
      "text/plain": [
       "0.0    356\n",
       "2.0     20\n",
       "Name: C反应蛋白(CRP), dtype: int64"
      ]
     },
     "execution_count": 14,
     "metadata": {},
     "output_type": "execute_result"
    },
    {
     "data": {
      "text/plain": [
       "0.0    236\n",
       "Name: Doppler, dtype: int64"
      ]
     },
     "execution_count": 14,
     "metadata": {},
     "output_type": "execute_result"
    },
    {
     "data": {
      "text/plain": [
       "0.0    2\n",
       "Name: EB IGA, dtype: int64"
      ]
     },
     "execution_count": 14,
     "metadata": {},
     "output_type": "execute_result"
    },
    {
     "data": {
      "text/plain": [
       "0.0    2\n",
       "Name: EB IGM, dtype: int64"
      ]
     },
     "execution_count": 14,
     "metadata": {},
     "output_type": "execute_result"
    },
    {
     "data": {
      "text/plain": [
       "0.0    57\n",
       "1.0     6\n",
       "Name: FPSA/PSA比值, dtype: int64"
      ]
     },
     "execution_count": 14,
     "metadata": {},
     "output_type": "execute_result"
    },
    {
     "data": {
      "text/plain": [
       "0.0    2\n",
       "Name: Fsc2, dtype: int64"
      ]
     },
     "execution_count": 14,
     "metadata": {},
     "output_type": "execute_result"
    },
    {
     "data": {
      "text/plain": [
       "0.0    2\n",
       "4.0    2\n",
       "Name: HLA-B27, dtype: int64"
      ]
     },
     "execution_count": 14,
     "metadata": {},
     "output_type": "execute_result"
    },
    {
     "data": {
      "text/plain": [
       "2.0    2\n",
       "Name: HLA－B27/HLA－B7, dtype: int64"
      ]
     },
     "execution_count": 14,
     "metadata": {},
     "output_type": "execute_result"
    },
    {
     "data": {
      "text/plain": [
       "0.0    12\n",
       "2.0     3\n",
       "Name: IV型胶原IV.C, dtype: int64"
      ]
     },
     "execution_count": 14,
     "metadata": {},
     "output_type": "execute_result"
    },
    {
     "data": {
      "text/plain": [
       "0.0    1\n",
       "2.0    1\n",
       "Name: IgE, dtype: int64"
      ]
     },
     "execution_count": 14,
     "metadata": {},
     "output_type": "execute_result"
    },
    {
     "data": {
      "text/plain": [
       "0.0    6\n",
       "2.0    4\n",
       "Name: K轻链, dtype: int64"
      ]
     },
     "execution_count": 14,
     "metadata": {},
     "output_type": "execute_result"
    },
    {
     "data": {
      "text/plain": [
       "0.0    3\n",
       "Name: MRI上腹部平扫+增强, dtype: int64"
      ]
     },
     "execution_count": 14,
     "metadata": {},
     "output_type": "execute_result"
    },
    {
     "data": {
      "text/plain": [
       "0.0    2\n",
       "Name: NLysed-RBC#, dtype: int64"
      ]
     },
     "execution_count": 14,
     "metadata": {},
     "output_type": "execute_result"
    },
    {
     "data": {
      "text/plain": [
       "0.0    3\n",
       "Name: NLysed-RBC%, dtype: int64"
      ]
     },
     "execution_count": 14,
     "metadata": {},
     "output_type": "execute_result"
    },
    {
     "data": {
      "text/plain": [
       "0.0    37434\n",
       "Name: P-R间期, dtype: int64"
      ]
     },
     "execution_count": 14,
     "metadata": {},
     "output_type": "execute_result"
    },
    {
     "data": {
      "text/plain": [
       "0.0    37434\n",
       "Name: P波, dtype: int64"
      ]
     },
     "execution_count": 14,
     "metadata": {},
     "output_type": "execute_result"
    },
    {
     "data": {
      "text/plain": [
       "0.0    37434\n",
       "Name: Q-T间期, dtype: int64"
      ]
     },
     "execution_count": 14,
     "metadata": {},
     "output_type": "execute_result"
    },
    {
     "data": {
      "text/plain": [
       "0.0    37434\n",
       "Name: QRS, dtype: int64"
      ]
     },
     "execution_count": 14,
     "metadata": {},
     "output_type": "execute_result"
    },
    {
     "data": {
      "text/plain": [
       "0.0    37434\n",
       "Name: QRS时间, dtype: int64"
      ]
     },
     "execution_count": 14,
     "metadata": {},
     "output_type": "execute_result"
    },
    {
     "data": {
      "text/plain": [
       "0.0    2\n",
       "Name: RBC-F1-DWSD, dtype: int64"
      ]
     },
     "execution_count": 14,
     "metadata": {},
     "output_type": "execute_result"
    },
    {
     "data": {
      "text/plain": [
       "0.0    3\n",
       "Name: RBC-Fsc-DW, dtype: int64"
      ]
     },
     "execution_count": 14,
     "metadata": {},
     "output_type": "execute_result"
    },
    {
     "data": {
      "text/plain": [
       "0.0    2\n",
       "Name: RBC-MF1, dtype: int64"
      ]
     },
     "execution_count": 14,
     "metadata": {},
     "output_type": "execute_result"
    },
    {
     "data": {
      "text/plain": [
       "0.0    2\n",
       "Name: RBC-MFsc, dtype: int64"
      ]
     },
     "execution_count": 14,
     "metadata": {},
     "output_type": "execute_result"
    },
    {
     "data": {
      "text/plain": [
       "0.0    3\n",
       "Name: RBC-P70Fsc, dtype: int64"
      ]
     },
     "execution_count": 14,
     "metadata": {},
     "output_type": "execute_result"
    },
    {
     "data": {
      "text/plain": [
       "0.0    31799\n",
       "1.0     3361\n",
       "2.0       17\n",
       "0.5        3\n",
       "Name: RBC分布宽度标准差(RDW-SD), dtype: int64"
      ]
     },
     "execution_count": 14,
     "metadata": {},
     "output_type": "execute_result"
    },
    {
     "data": {
      "text/plain": [
       "0.000000    35079\n",
       "2.000000     2791\n",
       "1.000000     1265\n",
       "0.500000        2\n",
       "0.666667        1\n",
       "Name: RBC平均HGB浓度(MCHC), dtype: int64"
      ]
     },
     "execution_count": 14,
     "metadata": {},
     "output_type": "execute_result"
    },
    {
     "data": {
      "text/plain": [
       "4.0    2450\n",
       "0.0      13\n",
       "Name: Rh血型, dtype: int64"
      ]
     },
     "execution_count": 14,
     "metadata": {},
     "output_type": "execute_result"
    },
    {
     "data": {
      "text/plain": [
       "4.0    2240\n",
       "0.0       8\n",
       "Name: Rh血型(Rh), dtype: int64"
      ]
     },
     "execution_count": 14,
     "metadata": {},
     "output_type": "execute_result"
    },
    {
     "data": {
      "text/plain": [
       "0.0    37434\n",
       "Name: ST段, dtype: int64"
      ]
     },
     "execution_count": 14,
     "metadata": {},
     "output_type": "execute_result"
    },
    {
     "data": {
      "text/plain": [
       "0.0    37434\n",
       "Name: T波, dtype: int64"
      ]
     },
     "execution_count": 14,
     "metadata": {},
     "output_type": "execute_result"
    },
    {
     "data": {
      "text/plain": [
       "0.0    37434\n",
       "Name: U波, dtype: int64"
      ]
     },
     "execution_count": 14,
     "metadata": {},
     "output_type": "execute_result"
    },
    {
     "data": {
      "text/plain": [
       "0.0    2\n",
       "Name: WBC-MFsc, dtype: int64"
      ]
     },
     "execution_count": 14,
     "metadata": {},
     "output_type": "execute_result"
    },
    {
     "data": {
      "text/plain": [
       "0.0    22\n",
       "2.0     1\n",
       "Name: a-岩藻糖苷酶(AFU), dtype: int64"
      ]
     },
     "execution_count": 14,
     "metadata": {},
     "output_type": "execute_result"
    },
    {
     "data": {
      "text/plain": [
       "0.0    32865\n",
       "2.0     2784\n",
       "1.0        6\n",
       "Name: γ谷氨酰胺转肽酶(GGT), dtype: int64"
      ]
     },
     "execution_count": 14,
     "metadata": {},
     "output_type": "execute_result"
    },
    {
     "data": {
      "text/plain": [
       "0.0    8\n",
       "2.0    2\n",
       "Name: λ轻链, dtype: int64"
      ]
     },
     "execution_count": 14,
     "metadata": {},
     "output_type": "execute_result"
    },
    {
     "data": {
      "text/plain": [
       "0.0    37434\n",
       "Name: Ⅴ1Ptf, dtype: int64"
      ]
     },
     "execution_count": 14,
     "metadata": {},
     "output_type": "execute_result"
    },
    {
     "data": {
      "text/plain": [
       "0.0    12\n",
       "2.0     3\n",
       "Name: 三型前胶原, dtype: int64"
      ]
     },
     "execution_count": 14,
     "metadata": {},
     "output_type": "execute_result"
    },
    {
     "data": {
      "text/plain": [
       "0.0    236\n",
       "Name: 三尖瓣, dtype: int64"
      ]
     },
     "execution_count": 14,
     "metadata": {},
     "output_type": "execute_result"
    },
    {
     "data": {
      "text/plain": [
       "0.0    61\n",
       "1.0     8\n",
       "2.0     2\n",
       "Name: 三碘甲状腺原氨酸(T3), dtype: int64"
      ]
     },
     "execution_count": 14,
     "metadata": {},
     "output_type": "execute_result"
    },
    {
     "data": {
      "text/plain": [
       "0.0    8357\n",
       "2.0     490\n",
       "1.0       1\n",
       "Name: 上皮细胞, dtype: int64"
      ]
     },
     "execution_count": 14,
     "metadata": {},
     "output_type": "execute_result"
    },
    {
     "data": {
      "text/plain": [
       "0.0    2\n",
       "Name: 上皮细胞（高倍镜视野，尿红细胞形态）, dtype: int64"
      ]
     },
     "execution_count": 14,
     "metadata": {},
     "output_type": "execute_result"
    },
    {
     "data": {
      "text/plain": [
       "0.0    1\n",
       "Name: 上腹部CT增强所见, dtype: int64"
      ]
     },
     "execution_count": 14,
     "metadata": {},
     "output_type": "execute_result"
    },
    {
     "data": {
      "text/plain": [
       "0.0    1\n",
       "Name: 上腹部CT平扫所见, dtype: int64"
      ]
     },
     "execution_count": 14,
     "metadata": {},
     "output_type": "execute_result"
    },
    {
     "data": {
      "text/plain": [
       "0.0    1\n",
       "Name: 上腹部MRI, dtype: int64"
      ]
     },
     "execution_count": 14,
     "metadata": {},
     "output_type": "execute_result"
    },
    {
     "data": {
      "text/plain": [
       "0.0    3\n",
       "Name: 下腹部CT平扫所见, dtype: int64"
      ]
     },
     "execution_count": 14,
     "metadata": {},
     "output_type": "execute_result"
    },
    {
     "data": {
      "text/plain": [
       "0.0    59\n",
       "Name: 下鼻甲, dtype: int64"
      ]
     },
     "execution_count": 14,
     "metadata": {},
     "output_type": "execute_result"
    },
    {
     "data": {
      "text/plain": [
       "0.0    58\n",
       "Name: 不随意运动, dtype: int64"
      ]
     },
     "execution_count": 14,
     "metadata": {},
     "output_type": "execute_result"
    },
    {
     "data": {
      "text/plain": [
       "0.0    2\n",
       "Name: 丙肝RNA, dtype: int64"
      ]
     },
     "execution_count": 14,
     "metadata": {},
     "output_type": "execute_result"
    },
    {
     "data": {
      "text/plain": [
       "0.0    93\n",
       "Name: 丙肝抗体(ANTI_HCV), dtype: int64"
      ]
     },
     "execution_count": 14,
     "metadata": {},
     "output_type": "execute_result"
    },
    {
     "data": {
      "text/plain": [
       "0.0    19\n",
       "1.0    12\n",
       "Name: 中值细胞数, dtype: int64"
      ]
     },
     "execution_count": 14,
     "metadata": {},
     "output_type": "execute_result"
    },
    {
     "data": {
      "text/plain": [
       "0.0    29\n",
       "2.0     2\n",
       "Name: 中值细胞比率, dtype: int64"
      ]
     },
     "execution_count": 14,
     "metadata": {},
     "output_type": "execute_result"
    },
    {
     "data": {
      "text/plain": [
       "0.0    332\n",
       "2.0     96\n",
       "1.0     28\n",
       "Name: 中性粒细胞, dtype: int64"
      ]
     },
     "execution_count": 14,
     "metadata": {},
     "output_type": "execute_result"
    },
    {
     "data": {
      "text/plain": [
       "0.0    3890\n",
       "1.0     127\n",
       "2.0      66\n",
       "Name: 中性粒细胞数, dtype: int64"
      ]
     },
     "execution_count": 14,
     "metadata": {},
     "output_type": "execute_result"
    },
    {
     "data": {
      "text/plain": [
       "0.0    14441\n",
       "1.0      888\n",
       "2.0      172\n",
       "0.5        1\n",
       "Name: 中性粒细胞比率, dtype: int64"
      ]
     },
     "execution_count": 14,
     "metadata": {},
     "output_type": "execute_result"
    },
    {
     "data": {
      "text/plain": [
       "0.0    32871\n",
       "1.0     1747\n",
       "2.0      439\n",
       "0.5        4\n",
       "Name: 中性粒细胞百分率, dtype: int64"
      ]
     },
     "execution_count": 14,
     "metadata": {},
     "output_type": "execute_result"
    },
    {
     "data": {
      "text/plain": [
       "0.0    33308\n",
       "1.0     1143\n",
       "2.0      617\n",
       "0.5        2\n",
       "Name: 中性粒细胞绝对值, dtype: int64"
      ]
     },
     "execution_count": 14,
     "metadata": {},
     "output_type": "execute_result"
    },
    {
     "data": {
      "text/plain": [
       "0.0    2591\n",
       "1.0     217\n",
       "2.0      15\n",
       "Name: 中性细胞百分比(%NEUT), dtype: int64"
      ]
     },
     "execution_count": 14,
     "metadata": {},
     "output_type": "execute_result"
    },
    {
     "data": {
      "text/plain": [
       "0.0    59\n",
       "Name: 中道, dtype: int64"
      ]
     },
     "execution_count": 14,
     "metadata": {},
     "output_type": "execute_result"
    },
    {
     "data": {
      "text/plain": [
       "0.0    33087\n",
       "2.0     1947\n",
       "1.0        4\n",
       "Name: 中间细胞数, dtype: int64"
      ]
     },
     "execution_count": 14,
     "metadata": {},
     "output_type": "execute_result"
    },
    {
     "data": {
      "text/plain": [
       "0.0    32849\n",
       "2.0     2181\n",
       "1.0        8\n",
       "Name: 中间细胞百分比, dtype: int64"
      ]
     },
     "execution_count": 14,
     "metadata": {},
     "output_type": "execute_result"
    },
    {
     "data": {
      "text/plain": [
       "0.0    59\n",
       "Name: 中鼻甲, dtype: int64"
      ]
     },
     "execution_count": 14,
     "metadata": {},
     "output_type": "execute_result"
    },
    {
     "data": {
      "text/plain": [
       "0.0    236\n",
       "Name: 主动脉, dtype: int64"
      ]
     },
     "execution_count": 14,
     "metadata": {},
     "output_type": "execute_result"
    },
    {
     "data": {
      "text/plain": [
       "0.0    236\n",
       "Name: 主动脉瓣, dtype: int64"
      ]
     },
     "execution_count": 14,
     "metadata": {},
     "output_type": "execute_result"
    },
    {
     "data": {
      "text/plain": [
       "0.0    582\n",
       "4.0     74\n",
       "Name: 乙型肝炎病毒前S1抗原, dtype: int64"
      ]
     },
     "execution_count": 14,
     "metadata": {},
     "output_type": "execute_result"
    },
    {
     "data": {
      "text/plain": [
       "0.0    20238\n",
       "4.0     6869\n",
       "Name: 乙肝e抗体(HbeAb), dtype: int64"
      ]
     },
     "execution_count": 14,
     "metadata": {},
     "output_type": "execute_result"
    },
    {
     "data": {
      "text/plain": [
       "0.0    26613\n",
       "4.0      495\n",
       "Name: 乙肝e抗原(HbeAg), dtype: int64"
      ]
     },
     "execution_count": 14,
     "metadata": {},
     "output_type": "execute_result"
    },
    {
     "data": {
      "text/plain": [
       "4.0    17800\n",
       "0.0     9305\n",
       "2.0        2\n",
       "Name: 乙肝核心抗体(HbcAb), dtype: int64"
      ]
     },
     "execution_count": 14,
     "metadata": {},
     "output_type": "execute_result"
    },
    {
     "data": {
      "text/plain": [
       "4.0    17969\n",
       "0.0     9138\n",
       "2.0        1\n",
       "Name: 乙肝表面抗体(HbsAb), dtype: int64"
      ]
     },
     "execution_count": 14,
     "metadata": {},
     "output_type": "execute_result"
    },
    {
     "data": {
      "text/plain": [
       "0.0    24822\n",
       "4.0     3435\n",
       "1.0      415\n",
       "2.0        4\n",
       "Name: 乙肝表面抗原（HBsAg）, dtype: int64"
      ]
     },
     "execution_count": 14,
     "metadata": {},
     "output_type": "execute_result"
    },
    {
     "data": {
      "text/plain": [
       "0.0    324\n",
       "2.0    312\n",
       "Name: 乙肝（HBV-DNA）, dtype: int64"
      ]
     },
     "execution_count": 14,
     "metadata": {},
     "output_type": "execute_result"
    },
    {
     "data": {
      "text/plain": [
       "0.0    59\n",
       "Name: 乳突, dtype: int64"
      ]
     },
     "execution_count": 14,
     "metadata": {},
     "output_type": "execute_result"
    },
    {
     "data": {
      "text/plain": [
       "0.0    228\n",
       "Name: 乳腺彩超, dtype: int64"
      ]
     },
     "execution_count": 14,
     "metadata": {},
     "output_type": "execute_result"
    },
    {
     "data": {
      "text/plain": [
       "0.000000    14161\n",
       "2.000000      921\n",
       "1.000000      100\n",
       "0.666667        1\n",
       "Name: 乳酸脱氢酶, dtype: int64"
      ]
     },
     "execution_count": 14,
     "metadata": {},
     "output_type": "execute_result"
    },
    {
     "data": {
      "text/plain": [
       "0.0    236\n",
       "Name: 二尖瓣, dtype: int64"
      ]
     },
     "execution_count": 14,
     "metadata": {},
     "output_type": "execute_result"
    },
    {
     "data": {
      "text/plain": [
       "0.0    14291\n",
       "1.0      816\n",
       "2.0       71\n",
       "0.5        2\n",
       "Name: 二氧化碳(CO2), dtype: int64"
      ]
     },
     "execution_count": 14,
     "metadata": {},
     "output_type": "execute_result"
    },
    {
     "data": {
      "text/plain": [
       "0.0    796\n",
       "2.0      3\n",
       "Name: 人绒毛膜促性腺激素, dtype: int64"
      ]
     },
     "execution_count": 14,
     "metadata": {},
     "output_type": "execute_result"
    },
    {
     "data": {
      "text/plain": [
       "0.0    59\n",
       "Name: 会厌, dtype: int64"
      ]
     },
     "execution_count": 14,
     "metadata": {},
     "output_type": "execute_result"
    },
    {
     "data": {
      "text/plain": [
       "1.0    7\n",
       "0.0    5\n",
       "2.0    5\n",
       "Name: 低密度脂蛋白(LDL), dtype: int64"
      ]
     },
     "execution_count": 14,
     "metadata": {},
     "output_type": "execute_result"
    },
    {
     "data": {
      "text/plain": [
       "0.0    7497\n",
       "1.0    6509\n",
       "2.0    5594\n",
       "0.5       2\n",
       "1.5       1\n",
       "Name: 低密度脂蛋白胆固醇, dtype: int64"
      ]
     },
     "execution_count": 14,
     "metadata": {},
     "output_type": "execute_result"
    },
    {
     "data": {
      "text/plain": [
       "0.0    24\n",
       "Name: 促卵泡激素(FSH), dtype: int64"
      ]
     },
     "execution_count": 14,
     "metadata": {},
     "output_type": "execute_result"
    },
    {
     "data": {
      "text/plain": [
       "0.0    58\n",
       "1.0    12\n",
       "2.0     4\n",
       "Name: 促甲状腺激素, dtype: int64"
      ]
     },
     "execution_count": 14,
     "metadata": {},
     "output_type": "execute_result"
    },
    {
     "data": {
      "text/plain": [
       "0.0    24\n",
       "Name: 促黄体激素(LH), dtype: int64"
      ]
     },
     "execution_count": 14,
     "metadata": {},
     "output_type": "execute_result"
    },
    {
     "data": {
      "text/plain": [
       "0.0    2\n",
       "Name: 健康状态预警检测分析, dtype: int64"
      ]
     },
     "execution_count": 14,
     "metadata": {},
     "output_type": "execute_result"
    },
    {
     "data": {
      "text/plain": [
       "0.0    7\n",
       "2.0    3\n",
       "Name: 免疫球蛋白IgA, dtype: int64"
      ]
     },
     "execution_count": 14,
     "metadata": {},
     "output_type": "execute_result"
    },
    {
     "data": {
      "text/plain": [
       "0.0    6\n",
       "2.0    4\n",
       "Name: 免疫球蛋白IgG, dtype: int64"
      ]
     },
     "execution_count": 14,
     "metadata": {},
     "output_type": "execute_result"
    },
    {
     "data": {
      "text/plain": [
       "0.0    10\n",
       "Name: 免疫球蛋白IgM, dtype: int64"
      ]
     },
     "execution_count": 14,
     "metadata": {},
     "output_type": "execute_result"
    },
    {
     "data": {
      "text/plain": [
       "0.0    378\n",
       "1.0     17\n",
       "2.0     17\n",
       "Name: 全血低切相对粘度, dtype: int64"
      ]
     },
     "execution_count": 14,
     "metadata": {},
     "output_type": "execute_result"
    },
    {
     "data": {
      "text/plain": [
       "0.0    227\n",
       "2.0    185\n",
       "1.0      4\n",
       "Name: 全血粘度值(切变率1), dtype: int64"
      ]
     },
     "execution_count": 14,
     "metadata": {},
     "output_type": "execute_result"
    },
    {
     "data": {
      "text/plain": [
       "0.0    348\n",
       "2.0     65\n",
       "1.0      3\n",
       "Name: 全血粘度值(切变率200), dtype: int64"
      ]
     },
     "execution_count": 14,
     "metadata": {},
     "output_type": "execute_result"
    },
    {
     "data": {
      "text/plain": [
       "0.0    328\n",
       "2.0     67\n",
       "1.0     21\n",
       "Name: 全血粘度值(切变率30), dtype: int64"
      ]
     },
     "execution_count": 14,
     "metadata": {},
     "output_type": "execute_result"
    },
    {
     "data": {
      "text/plain": [
       "0.0    299\n",
       "2.0    112\n",
       "1.0      5\n",
       "Name: 全血粘度值(切变率5), dtype: int64"
      ]
     },
     "execution_count": 14,
     "metadata": {},
     "output_type": "execute_result"
    },
    {
     "data": {
      "text/plain": [
       "0.0    391\n",
       "1.0     15\n",
       "2.0      6\n",
       "Name: 全血高切相对粘度, dtype: int64"
      ]
     },
     "execution_count": 14,
     "metadata": {},
     "output_type": "execute_result"
    },
    {
     "data": {
      "text/plain": [
       "0.0    58\n",
       "Name: 共济运动, dtype: int64"
      ]
     },
     "execution_count": 14,
     "metadata": {},
     "output_type": "execute_result"
    },
    {
     "data": {
      "text/plain": [
       "0.0    26495\n",
       "Name: 其他, dtype: int64"
      ]
     },
     "execution_count": 14,
     "metadata": {},
     "output_type": "execute_result"
    },
    {
     "data": {
      "text/plain": [
       "0.0    3\n",
       "Name: 其它, dtype: int64"
      ]
     },
     "execution_count": 14,
     "metadata": {},
     "output_type": "execute_result"
    },
    {
     "data": {
      "text/plain": [
       "0.0    3\n",
       "Name: 其它数量, dtype: int64"
      ]
     },
     "execution_count": 14,
     "metadata": {},
     "output_type": "execute_result"
    },
    {
     "data": {
      "text/plain": [
       "0.0    85\n",
       "2.0     3\n",
       "Name: 凝血酶原时间, dtype: int64"
      ]
     },
     "execution_count": 14,
     "metadata": {},
     "output_type": "execute_result"
    },
    {
     "data": {
      "text/plain": [
       "0.0    80\n",
       "2.0     8\n",
       "Name: 凝血酶时间, dtype: int64"
      ]
     },
     "execution_count": 14,
     "metadata": {},
     "output_type": "execute_result"
    },
    {
     "data": {
      "text/plain": [
       "0.0    12686\n",
       "Name: 前列腺, dtype: int64"
      ]
     },
     "execution_count": 14,
     "metadata": {},
     "output_type": "execute_result"
    },
    {
     "data": {
      "text/plain": [
       "0.0    786\n",
       "2.0      4\n",
       "4.0      1\n",
       "Name: 前列腺特异性抗原, dtype: int64"
      ]
     },
     "execution_count": 14,
     "metadata": {},
     "output_type": "execute_result"
    },
    {
     "data": {
      "text/plain": [
       "0.0    221\n",
       "2.0      4\n",
       "Name: 前列腺特异抗原(PSA), dtype: int64"
      ]
     },
     "execution_count": 14,
     "metadata": {},
     "output_type": "execute_result"
    },
    {
     "data": {
      "text/plain": [
       "0.0    2131\n",
       "Name: 前列腺（彩超）, dtype: int64"
      ]
     },
     "execution_count": 14,
     "metadata": {},
     "output_type": "execute_result"
    },
    {
     "data": {
      "text/plain": [
       "0.0    59\n",
       "Name: 前后腭弓, dtype: int64"
      ]
     },
     "execution_count": 14,
     "metadata": {},
     "output_type": "execute_result"
    },
    {
     "data": {
      "text/plain": [
       "0.0    61\n",
       "Name: 前房深度, dtype: int64"
      ]
     },
     "execution_count": 14,
     "metadata": {},
     "output_type": "execute_result"
    },
    {
     "data": {
      "text/plain": [
       "0.0    8\n",
       "Name: 动态心电图检查, dtype: int64"
      ]
     },
     "execution_count": 14,
     "metadata": {},
     "output_type": "execute_result"
    },
    {
     "data": {
      "text/plain": [
       "0.0    66\n",
       "Name: 动脉搏动, dtype: int64"
      ]
     },
     "execution_count": 14,
     "metadata": {},
     "output_type": "execute_result"
    },
    {
     "data": {
      "text/plain": [
       "0.0    45\n",
       "Name: 包皮, dtype: int64"
      ]
     },
     "execution_count": 14,
     "metadata": {},
     "output_type": "execute_result"
    },
    {
     "data": {
      "text/plain": [
       "0.0    14\n",
       "Name: 十二指肠球部, dtype: int64"
      ]
     },
     "execution_count": 14,
     "metadata": {},
     "output_type": "execute_result"
    },
    {
     "data": {
      "text/plain": [
       "0.0    13\n",
       "Name: 十二指肠降段, dtype: int64"
      ]
     },
     "execution_count": 14,
     "metadata": {},
     "output_type": "execute_result"
    },
    {
     "data": {
      "text/plain": [
       "0.0    3836\n",
       "1.0     142\n",
       "2.0     106\n",
       "Name: 单核细胞, dtype: int64"
      ]
     },
     "execution_count": 14,
     "metadata": {},
     "output_type": "execute_result"
    },
    {
     "data": {
      "text/plain": [
       "0.0    3999\n",
       "2.0      59\n",
       "1.0      26\n",
       "Name: 单核细胞百分率（MO%）, dtype: int64"
      ]
     },
     "execution_count": 14,
     "metadata": {},
     "output_type": "execute_result"
    },
    {
     "data": {
      "text/plain": [
       "0.0    20\n",
       "4.0     1\n",
       "Name: 单纯疱疹病毒, dtype: int64"
      ]
     },
     "execution_count": 14,
     "metadata": {},
     "output_type": "execute_result"
    },
    {
     "data": {
      "text/plain": [
       "0.0    5\n",
       "Name: 原特异性烯醇化酶(NSE), dtype: int64"
      ]
     },
     "execution_count": 14,
     "metadata": {},
     "output_type": "execute_result"
    },
    {
     "data": {
      "text/plain": [
       "0.0    218\n",
       "Name: 双侧乳腺钼靶所见, dtype: int64"
      ]
     },
     "execution_count": 14,
     "metadata": {},
     "output_type": "execute_result"
    },
    {
     "data": {
      "text/plain": [
       "0.0    1\n",
       "Name: 双侧股总动脉彩超所见, dtype: int64"
      ]
     },
     "execution_count": 14,
     "metadata": {},
     "output_type": "execute_result"
    },
    {
     "data": {
      "text/plain": [
       "0.0    53\n",
       "Name: 口腔粘膜, dtype: int64"
      ]
     },
     "execution_count": 14,
     "metadata": {},
     "output_type": "execute_result"
    },
    {
     "data": {
      "text/plain": [
       "0.0    53\n",
       "Name: 口腔颌面部, dtype: int64"
      ]
     },
     "execution_count": 14,
     "metadata": {},
     "output_type": "execute_result"
    },
    {
     "data": {
      "text/plain": [
       "0.0    1\n",
       "Name: 右下肢血管彩超所见, dtype: int64"
      ]
     },
     "execution_count": 14,
     "metadata": {},
     "output_type": "execute_result"
    },
    {
     "data": {
      "text/plain": [
       "0.0    236\n",
       "Name: 右心室, dtype: int64"
      ]
     },
     "execution_count": 14,
     "metadata": {},
     "output_type": "execute_result"
    },
    {
     "data": {
      "text/plain": [
       "0.0    236\n",
       "Name: 右房, dtype: int64"
      ]
     },
     "execution_count": 14,
     "metadata": {},
     "output_type": "execute_result"
    },
    {
     "data": {
      "text/plain": [
       "0.0    1\n",
       "Name: 右手指正侧位片所见, dtype: int64"
      ]
     },
     "execution_count": 14,
     "metadata": {},
     "output_type": "execute_result"
    },
    {
     "data": {
      "text/plain": [
       "0.0    2788\n",
       "Name: 右眼矫正视力, dtype: int64"
      ]
     },
     "execution_count": 14,
     "metadata": {},
     "output_type": "execute_result"
    },
    {
     "data": {
      "text/plain": [
       "0.0    8661\n",
       "Name: 右眼裸视力, dtype: int64"
      ]
     },
     "execution_count": 14,
     "metadata": {},
     "output_type": "execute_result"
    },
    {
     "data": {
      "text/plain": [
       "0.0    236\n",
       "Name: 右肺动脉, dtype: int64"
      ]
     },
     "execution_count": 14,
     "metadata": {},
     "output_type": "execute_result"
    },
    {
     "data": {
      "text/plain": [
       "0.0    1\n",
       "Name: 右腕关节正侧位片所见, dtype: int64"
      ]
     },
     "execution_count": 14,
     "metadata": {},
     "output_type": "execute_result"
    },
    {
     "data": {
      "text/plain": [
       "0.0    1\n",
       "Name: 右足正侧位片, dtype: int64"
      ]
     },
     "execution_count": 14,
     "metadata": {},
     "output_type": "execute_result"
    },
    {
     "data": {
      "text/plain": [
       "0.0    1\n",
       "Name: 右踝关节正侧位片, dtype: int64"
      ]
     },
     "execution_count": 14,
     "metadata": {},
     "output_type": "execute_result"
    },
    {
     "data": {
      "text/plain": [
       "0.0    1\n",
       "Name: 右骶髂关节正斜位片, dtype: int64"
      ]
     },
     "execution_count": 14,
     "metadata": {},
     "output_type": "execute_result"
    },
    {
     "data": {
      "text/plain": [
       "0.0    13\n",
       "2.0     4\n",
       "Name: 同型半胱氨酸, dtype: int64"
      ]
     },
     "execution_count": 14,
     "metadata": {},
     "output_type": "execute_result"
    },
    {
     "data": {
      "text/plain": [
       "0.0    59\n",
       "Name: 后鼻孔, dtype: int64"
      ]
     },
     "execution_count": 14,
     "metadata": {},
     "output_type": "execute_result"
    },
    {
     "data": {
      "text/plain": [
       "0.0    190\n",
       "4.0      4\n",
       "Name: 吗啡甲基安非他敏, dtype: int64"
      ]
     },
     "execution_count": 14,
     "metadata": {},
     "output_type": "execute_result"
    },
    {
     "data": {
      "text/plain": [
       "0.0    11843\n",
       "Name: 听力, dtype: int64"
      ]
     },
     "execution_count": 14,
     "metadata": {},
     "output_type": "execute_result"
    },
    {
     "data": {
      "text/plain": [
       "0.0    42\n",
       "Name: 吸烟情况, dtype: int64"
      ]
     },
     "execution_count": 14,
     "metadata": {},
     "output_type": "execute_result"
    },
    {
     "data": {
      "text/plain": [
       "0.0    66\n",
       "Name: 周围血管征, dtype: int64"
      ]
     },
     "execution_count": 14,
     "metadata": {},
     "output_type": "execute_result"
    },
    {
     "data": {
      "text/plain": [
       "0.0    59\n",
       "Name: 咽侧索, dtype: int64"
      ]
     },
     "execution_count": 14,
     "metadata": {},
     "output_type": "execute_result"
    },
    {
     "data": {
      "text/plain": [
       "0.0    59\n",
       "Name: 咽后壁, dtype: int64"
      ]
     },
     "execution_count": 14,
     "metadata": {},
     "output_type": "execute_result"
    },
    {
     "data": {
      "text/plain": [
       "0.0    11784\n",
       "Name: 喉部, dtype: int64"
      ]
     },
     "execution_count": 14,
     "metadata": {},
     "output_type": "execute_result"
    },
    {
     "data": {
      "text/plain": [
       "0.0    59\n",
       "Name: 嗅沟, dtype: int64"
      ]
     },
     "execution_count": 14,
     "metadata": {},
     "output_type": "execute_result"
    },
    {
     "data": {
      "text/plain": [
       "0.0    4079\n",
       "2.0       5\n",
       "Name: 嗜碱性粒细胞, dtype: int64"
      ]
     },
     "execution_count": 14,
     "metadata": {},
     "output_type": "execute_result"
    },
    {
     "data": {
      "text/plain": [
       "0.0    3983\n",
       "2.0     101\n",
       "Name: 嗜碱粒细胞比率(BASO%), dtype: int64"
      ]
     },
     "execution_count": 14,
     "metadata": {},
     "output_type": "execute_result"
    },
    {
     "data": {
      "text/plain": [
       "0.0    3277\n",
       "2.0     409\n",
       "1.0     397\n",
       "0.5       1\n",
       "Name: 嗜酸性粒细胞, dtype: int64"
      ]
     },
     "execution_count": 14,
     "metadata": {},
     "output_type": "execute_result"
    },
    {
     "data": {
      "text/plain": [
       "0.0    3194\n",
       "1.0     495\n",
       "2.0     395\n",
       "Name: 嗜酸粒细胞比率(EO%), dtype: int64"
      ]
     },
     "execution_count": 14,
     "metadata": {},
     "output_type": "execute_result"
    },
    {
     "data": {
      "text/plain": [
       "0.0    14941\n",
       "Name: 四肢关节, dtype: int64"
      ]
     },
     "execution_count": 14,
     "metadata": {},
     "output_type": "execute_result"
    },
    {
     "data": {
      "text/plain": [
       "0.0    87\n",
       "2.0     1\n",
       "Name: 国际标准化比数, dtype: int64"
      ]
     },
     "execution_count": 14,
     "metadata": {},
     "output_type": "execute_result"
    },
    {
     "data": {
      "text/plain": [
       "0.0    33\n",
       "Name: 在职情况, dtype: int64"
      ]
     },
     "execution_count": 14,
     "metadata": {},
     "output_type": "execute_result"
    },
    {
     "data": {
      "text/plain": [
       "0.0    59\n",
       "Name: 声带, dtype: int64"
      ]
     },
     "execution_count": 14,
     "metadata": {},
     "output_type": "execute_result"
    },
    {
     "data": {
      "text/plain": [
       "0.0    59\n",
       "Name: 声音, dtype: int64"
      ]
     },
     "execution_count": 14,
     "metadata": {},
     "output_type": "execute_result"
    },
    {
     "data": {
      "text/plain": [
       "0.0    58\n",
       "Name: 声音嘶哑, dtype: int64"
      ]
     },
     "execution_count": 14,
     "metadata": {},
     "output_type": "execute_result"
    },
    {
     "data": {
      "text/plain": [
       "0.0    59\n",
       "Name: 外耳道, dtype: int64"
      ]
     },
     "execution_count": 14,
     "metadata": {},
     "output_type": "execute_result"
    },
    {
     "data": {
      "text/plain": [
       "0.0    10099\n",
       "Name: 外阴, dtype: int64"
      ]
     },
     "execution_count": 14,
     "metadata": {},
     "output_type": "execute_result"
    },
    {
     "data": {
      "text/plain": [
       "0.0    59\n",
       "Name: 外鼻, dtype: int64"
      ]
     },
     "execution_count": 14,
     "metadata": {},
     "output_type": "execute_result"
    },
    {
     "data": {
      "text/plain": [
       "0.0    42\n",
       "Name: 大便白细胞, dtype: int64"
      ]
     },
     "execution_count": 14,
     "metadata": {},
     "output_type": "execute_result"
    },
    {
     "data": {
      "text/plain": [
       "0.0    42\n",
       "Name: 大便红细胞, dtype: int64"
      ]
     },
     "execution_count": 14,
     "metadata": {},
     "output_type": "execute_result"
    },
    {
     "data": {
      "text/plain": [
       "0.0    42\n",
       "Name: 大便脂肪球, dtype: int64"
      ]
     },
     "execution_count": 14,
     "metadata": {},
     "output_type": "execute_result"
    },
    {
     "data": {
      "text/plain": [
       "0.0    35067\n",
       "1.0        2\n",
       "Name: 大血小板比率(P-LCR), dtype: int64"
      ]
     },
     "execution_count": 14,
     "metadata": {},
     "output_type": "execute_result"
    },
    {
     "data": {
      "text/plain": [
       "0.0    66\n",
       "Name: 大血管杂音, dtype: int64"
      ]
     },
     "execution_count": 14,
     "metadata": {},
     "output_type": "execute_result"
    },
    {
     "data": {
      "text/plain": [
       "0.0    14896\n",
       "Name: 头颈淋巴结, dtype: int64"
      ]
     },
     "execution_count": 14,
     "metadata": {},
     "output_type": "execute_result"
    },
    {
     "data": {
      "text/plain": [
       "0.0    29\n",
       "Name: 婚姻状况, dtype: int64"
      ]
     },
     "execution_count": 14,
     "metadata": {},
     "output_type": "execute_result"
    },
    {
     "data": {
      "text/plain": [
       "0.0    12534\n",
       "Name: 子宫, dtype: int64"
      ]
     },
     "execution_count": 14,
     "metadata": {},
     "output_type": "execute_result"
    },
    {
     "data": {
      "text/plain": [
       "0.0    10099\n",
       "Name: 子宫体, dtype: int64"
      ]
     },
     "execution_count": 14,
     "metadata": {},
     "output_type": "execute_result"
    },
    {
     "data": {
      "text/plain": [
       "0.0    1636\n",
       "Name: 子宫（彩超）, dtype: int64"
      ]
     },
     "execution_count": 14,
     "metadata": {},
     "output_type": "execute_result"
    },
    {
     "data": {
      "text/plain": [
       "0.0    23\n",
       "2.0     1\n",
       "Name: 孕酮(P), dtype: int64"
      ]
     },
     "execution_count": 14,
     "metadata": {},
     "output_type": "execute_result"
    },
    {
     "data": {
      "text/plain": [
       "0.0    59\n",
       "Name: 室带, dtype: int64"
      ]
     },
     "execution_count": 14,
     "metadata": {},
     "output_type": "execute_result"
    },
    {
     "data": {
      "text/plain": [
       "0.0    236\n",
       "Name: 室间隔, dtype: int64"
      ]
     },
     "execution_count": 14,
     "metadata": {},
     "output_type": "execute_result"
    },
    {
     "data": {
      "text/plain": [
       "0.0    10099\n",
       "Name: 宫颈, dtype: int64"
      ]
     },
     "execution_count": 14,
     "metadata": {},
     "output_type": "execute_result"
    },
    {
     "data": {
      "text/plain": [
       "0.0    15\n",
       "Name: 宫颈DNA所见, dtype: int64"
      ]
     },
     "execution_count": 14,
     "metadata": {},
     "output_type": "execute_result"
    },
    {
     "data": {
      "text/plain": [
       "0.0    8541\n",
       "Name: 宫颈病理涂片, dtype: int64"
      ]
     },
     "execution_count": 14,
     "metadata": {},
     "output_type": "execute_result"
    },
    {
     "data": {
      "text/plain": [
       "0.0    13\n",
       "Name: 家族病史, dtype: int64"
      ]
     },
     "execution_count": 14,
     "metadata": {},
     "output_type": "execute_result"
    },
    {
     "data": {
      "text/plain": [
       "0.0    28424\n",
       "2.0       96\n",
       "4.0       27\n",
       "Name: 尿亚硝酸盐(NIT), dtype: int64"
      ]
     },
     "execution_count": 14,
     "metadata": {},
     "output_type": "execute_result"
    },
    {
     "data": {
      "text/plain": [
       "0.0    2\n",
       "2.0    2\n",
       "Name: 尿微量白蛋白(AlB), dtype: int64"
      ]
     },
     "execution_count": 14,
     "metadata": {},
     "output_type": "execute_result"
    },
    {
     "data": {
      "text/plain": [
       "0.0    28483\n",
       "1.0       41\n",
       "2.0       21\n",
       "Name: 尿比重(SG), dtype: int64"
      ]
     },
     "execution_count": 14,
     "metadata": {},
     "output_type": "execute_result"
    },
    {
     "data": {
      "text/plain": [
       "0.0    3\n",
       "Name: 尿沉渣上皮细胞, dtype: int64"
      ]
     },
     "execution_count": 14,
     "metadata": {},
     "output_type": "execute_result"
    },
    {
     "data": {
      "text/plain": [
       "0.0    3\n",
       "Name: 尿沉渣上皮细胞（高倍视野）, dtype: int64"
      ]
     },
     "execution_count": 14,
     "metadata": {},
     "output_type": "execute_result"
    },
    {
     "data": {
      "text/plain": [
       "0.0    3\n",
       "Name: 尿沉渣小圆上皮细胞, dtype: int64"
      ]
     },
     "execution_count": 14,
     "metadata": {},
     "output_type": "execute_result"
    },
    {
     "data": {
      "text/plain": [
       "0.0    3\n",
       "Name: 尿沉渣病理管型, dtype: int64"
      ]
     },
     "execution_count": 14,
     "metadata": {},
     "output_type": "execute_result"
    },
    {
     "data": {
      "text/plain": [
       "0.0    3\n",
       "Name: 尿沉渣白细胞, dtype: int64"
      ]
     },
     "execution_count": 14,
     "metadata": {},
     "output_type": "execute_result"
    },
    {
     "data": {
      "text/plain": [
       "0.0    3\n",
       "Name: 尿沉渣白细胞(高倍视野), dtype: int64"
      ]
     },
     "execution_count": 14,
     "metadata": {},
     "output_type": "execute_result"
    },
    {
     "data": {
      "text/plain": [
       "0.0    2\n",
       "2.0    1\n",
       "Name: 尿沉渣管型计数, dtype: int64"
      ]
     },
     "execution_count": 14,
     "metadata": {},
     "output_type": "execute_result"
    },
    {
     "data": {
      "text/plain": [
       "0.0    3\n",
       "Name: 尿沉渣管型（低倍视野）, dtype: int64"
      ]
     },
     "execution_count": 14,
     "metadata": {},
     "output_type": "execute_result"
    },
    {
     "data": {
      "text/plain": [
       "2.0    2\n",
       "0.0    1\n",
       "Name: 尿沉渣红细胞, dtype: int64"
      ]
     },
     "execution_count": 14,
     "metadata": {},
     "output_type": "execute_result"
    },
    {
     "data": {
      "text/plain": [
       "2.0    2\n",
       "0.0    1\n",
       "Name: 尿沉渣红细胞（高倍视野）, dtype: int64"
      ]
     },
     "execution_count": 14,
     "metadata": {},
     "output_type": "execute_result"
    },
    {
     "data": {
      "text/plain": [
       "0.0    3\n",
       "Name: 尿沉渣细菌, dtype: int64"
      ]
     },
     "execution_count": 14,
     "metadata": {},
     "output_type": "execute_result"
    },
    {
     "data": {
      "text/plain": [
       "0.0    3\n",
       "Name: 尿沉渣细菌（高倍视野）, dtype: int64"
      ]
     },
     "execution_count": 14,
     "metadata": {},
     "output_type": "execute_result"
    },
    {
     "data": {
      "text/plain": [
       "0.0    3\n",
       "Name: 尿沉渣结晶数量, dtype: int64"
      ]
     },
     "execution_count": 14,
     "metadata": {},
     "output_type": "execute_result"
    },
    {
     "data": {
      "text/plain": [
       "0.0    2008\n",
       "2.0      31\n",
       "Name: 尿沉渣镜检白细胞, dtype: int64"
      ]
     },
     "execution_count": 14,
     "metadata": {},
     "output_type": "execute_result"
    },
    {
     "data": {
      "text/plain": [
       "0.0    2337\n",
       "2.0      15\n",
       "Name: 尿沉渣镜检红细胞, dtype: int64"
      ]
     },
     "execution_count": 14,
     "metadata": {},
     "output_type": "execute_result"
    },
    {
     "data": {
      "text/plain": [
       "0.0    25146\n",
       "2.0     3391\n",
       "1.0       10\n",
       "Name: 尿白细胞(WBC), dtype: int64"
      ]
     },
     "execution_count": 14,
     "metadata": {},
     "output_type": "execute_result"
    },
    {
     "data": {
      "text/plain": [
       "0.0    3\n",
       "Name: 尿离心RBC形态单一性, dtype: int64"
      ]
     },
     "execution_count": 14,
     "metadata": {},
     "output_type": "execute_result"
    },
    {
     "data": {
      "text/plain": [
       "0.0    2\n",
       "2.0    1\n",
       "Name: 尿离心RBC形态多形性, dtype: int64"
      ]
     },
     "execution_count": 14,
     "metadata": {},
     "output_type": "execute_result"
    },
    {
     "data": {
      "text/plain": [
       "0.0    3\n",
       "Name: 尿离心后镜检RBC, dtype: int64"
      ]
     },
     "execution_count": 14,
     "metadata": {},
     "output_type": "execute_result"
    },
    {
     "data": {
      "text/plain": [
       "0.0    3\n",
       "Name: 尿离心后镜检WBC, dtype: int64"
      ]
     },
     "execution_count": 14,
     "metadata": {},
     "output_type": "execute_result"
    },
    {
     "data": {
      "text/plain": [
       "0.0    28152\n",
       "2.0      394\n",
       "1.0        1\n",
       "Name: 尿糖(GLU), dtype: int64"
      ]
     },
     "execution_count": 14,
     "metadata": {},
     "output_type": "execute_result"
    },
    {
     "data": {
      "text/plain": [
       "0.0    12\n",
       "2.0     2\n",
       "Name: 尿素(BUN), dtype: int64"
      ]
     },
     "execution_count": 14,
     "metadata": {},
     "output_type": "execute_result"
    },
    {
     "data": {
      "text/plain": [
       "0.0    30868\n",
       "1.0     4871\n",
       "2.0      539\n",
       "0.5        7\n",
       "Name: 尿素氮(BUN), dtype: int64"
      ]
     },
     "execution_count": 14,
     "metadata": {},
     "output_type": "execute_result"
    },
    {
     "data": {
      "text/plain": [
       "0.000000    20148\n",
       "2.000000     8378\n",
       "1.000000       19\n",
       "0.666667        1\n",
       "Name: 尿维生素C, dtype: int64"
      ]
     },
     "execution_count": 14,
     "metadata": {},
     "output_type": "execute_result"
    },
    {
     "data": {
      "text/plain": [
       "0.0    28197\n",
       "2.0      349\n",
       "1.0        1\n",
       "Name: 尿胆原(URO), dtype: int64"
      ]
     },
     "execution_count": 14,
     "metadata": {},
     "output_type": "execute_result"
    },
    {
     "data": {
      "text/plain": [
       "0.0    28426\n",
       "2.0      120\n",
       "1.0        1\n",
       "Name: 尿胆红素(BIL), dtype: int64"
      ]
     },
     "execution_count": 14,
     "metadata": {},
     "output_type": "execute_result"
    },
    {
     "data": {
      "text/plain": [
       "0.0    28094\n",
       "2.0      452\n",
       "1.0        1\n",
       "Name: 尿蛋白(PRO), dtype: int64"
      ]
     },
     "execution_count": 14,
     "metadata": {},
     "output_type": "execute_result"
    },
    {
     "data": {
      "text/plain": [
       "0.0    1\n",
       "Name: 尿道口（男）, dtype: int64"
      ]
     },
     "execution_count": 14,
     "metadata": {},
     "output_type": "execute_result"
    },
    {
     "data": {
      "text/plain": [
       "0.0    27129\n",
       "2.0     1416\n",
       "1.0        2\n",
       "Name: 尿酮体(KET), dtype: int64"
      ]
     },
     "execution_count": 14,
     "metadata": {},
     "output_type": "execute_result"
    },
    {
     "data": {
      "text/plain": [
       "0.0    28917\n",
       "2.0     8600\n",
       "1.0       27\n",
       "Name: 尿酸(UA), dtype: int64"
      ]
     },
     "execution_count": 14,
     "metadata": {},
     "output_type": "execute_result"
    },
    {
     "data": {
      "text/plain": [
       "0.0    28543\n",
       "1.0        1\n",
       "Name: 尿酸碱度(PH), dtype: int64"
      ]
     },
     "execution_count": 14,
     "metadata": {},
     "output_type": "execute_result"
    },
    {
     "data": {
      "text/plain": [
       "0.0    24527\n",
       "2.0     4014\n",
       "1.0        6\n",
       "Name: 尿隐血(OLB), dtype: int64"
      ]
     },
     "execution_count": 14,
     "metadata": {},
     "output_type": "execute_result"
    },
    {
     "data": {
      "text/plain": [
       "0.0    13\n",
       "2.0     2\n",
       "Name: 层粘链蛋白, dtype: int64"
      ]
     },
     "execution_count": 14,
     "metadata": {},
     "output_type": "execute_result"
    },
    {
     "data": {
      "text/plain": [
       "0.0    236\n",
       "Name: 左心室, dtype: int64"
      ]
     },
     "execution_count": 14,
     "metadata": {},
     "output_type": "execute_result"
    },
    {
     "data": {
      "text/plain": [
       "0.0    236\n",
       "Name: 左房, dtype: int64"
      ]
     },
     "execution_count": 14,
     "metadata": {},
     "output_type": "execute_result"
    },
    {
     "data": {
      "text/plain": [
       "0.0    2766\n",
       "Name: 左眼矫正视力, dtype: int64"
      ]
     },
     "execution_count": 14,
     "metadata": {},
     "output_type": "execute_result"
    },
    {
     "data": {
      "text/plain": [
       "0.0    8652\n",
       "Name: 左眼裸视力, dtype: int64"
      ]
     },
     "execution_count": 14,
     "metadata": {},
     "output_type": "execute_result"
    },
    {
     "data": {
      "text/plain": [
       "0.0    1\n",
       "Name: 左肩关节正位片, dtype: int64"
      ]
     },
     "execution_count": 14,
     "metadata": {},
     "output_type": "execute_result"
    },
    {
     "data": {
      "text/plain": [
       "0.0    236\n",
       "Name: 左肺动脉, dtype: int64"
      ]
     },
     "execution_count": 14,
     "metadata": {},
     "output_type": "execute_result"
    },
    {
     "data": {
      "text/plain": [
       "0.0    1\n",
       "Name: 左腕关节正侧位片所见, dtype: int64"
      ]
     },
     "execution_count": 14,
     "metadata": {},
     "output_type": "execute_result"
    },
    {
     "data": {
      "text/plain": [
       "0.0    1\n",
       "Name: 左踝关节正侧位片, dtype: int64"
      ]
     },
     "execution_count": 14,
     "metadata": {},
     "output_type": "execute_result"
    },
    {
     "data": {
      "text/plain": [
       "0.0    21\n",
       "Name: 巨细胞病毒IgG抗体, dtype: int64"
      ]
     },
     "execution_count": 14,
     "metadata": {},
     "output_type": "execute_result"
    },
    {
     "data": {
      "text/plain": [
       "0.0    61\n",
       "Name: 巩膜, dtype: int64"
      ]
     },
     "execution_count": 14,
     "metadata": {},
     "output_type": "execute_result"
    },
    {
     "data": {
      "text/plain": [
       "0.0    25947\n",
       "2.0    10903\n",
       "1.0     2291\n",
       "Name: 平均RBC血红蛋白量, dtype: int64"
      ]
     },
     "execution_count": 14,
     "metadata": {},
     "output_type": "execute_result"
    },
    {
     "data": {
      "text/plain": [
       "0.0    14896\n",
       "Name: 平足, dtype: int64"
      ]
     },
     "execution_count": 14,
     "metadata": {},
     "output_type": "execute_result"
    },
    {
     "data": {
      "text/plain": [
       "0.0    13\n",
       "Name: 幽门, dtype: int64"
      ]
     },
     "execution_count": 14,
     "metadata": {},
     "output_type": "execute_result"
    },
    {
     "data": {
      "text/plain": [
       "0.0    76\n",
       "4.0    62\n",
       "Name: 幽门螺杆菌抗体(HP), dtype: int64"
      ]
     },
     "execution_count": 14,
     "metadata": {},
     "output_type": "execute_result"
    },
    {
     "data": {
      "text/plain": [
       "0.0    21\n",
       "Name: 弓形虫IgG抗体, dtype: int64"
      ]
     },
     "execution_count": 14,
     "metadata": {},
     "output_type": "execute_result"
    },
    {
     "data": {
      "text/plain": [
       "0.0    801\n",
       "Name: 微生物, dtype: int64"
      ]
     },
     "execution_count": 14,
     "metadata": {},
     "output_type": "execute_result"
    },
    {
     "data": {
      "text/plain": [
       "0.0    66\n",
       "Name: 心包磨擦音, dtype: int64"
      ]
     },
     "execution_count": 14,
     "metadata": {},
     "output_type": "execute_result"
    },
    {
     "data": {
      "text/plain": [
       "0.0    37435\n",
       "Name: 心律, dtype: int64"
      ]
     },
     "execution_count": 14,
     "metadata": {},
     "output_type": "execute_result"
    },
    {
     "data": {
      "text/plain": [
       "0.000000    35225\n",
       "0.500000     1851\n",
       "1.000000     1492\n",
       "0.250000        4\n",
       "0.333333        3\n",
       "Name: 心率, dtype: int64"
      ]
     },
     "execution_count": 14,
     "metadata": {},
     "output_type": "execute_result"
    },
    {
     "data": {
      "text/plain": [
       "0.0    37434\n",
       "Name: 心电轴, dtype: int64"
      ]
     },
     "execution_count": 14,
     "metadata": {},
     "output_type": "execute_result"
    },
    {
     "data": {
      "text/plain": [
       "0.0    66\n",
       "Name: 心界, dtype: int64"
      ]
     },
     "execution_count": 14,
     "metadata": {},
     "output_type": "execute_result"
    },
    {
     "data": {
      "text/plain": [
       "0.0    22299\n",
       "Name: 心脏及血管, dtype: int64"
      ]
     },
     "execution_count": 14,
     "metadata": {},
     "output_type": "execute_result"
    },
    {
     "data": {
      "text/plain": [
       "0.0    753\n",
       "Name: 心脏彩超, dtype: int64"
      ]
     },
     "execution_count": 14,
     "metadata": {},
     "output_type": "execute_result"
    },
    {
     "data": {
      "text/plain": [
       "0.0    66\n",
       "Name: 心音, dtype: int64"
      ]
     },
     "execution_count": 14,
     "metadata": {},
     "output_type": "execute_result"
    },
    {
     "data": {
      "text/plain": [
       "0.0    86\n",
       "2.0     2\n",
       "Name: 总前列腺特异性抗原, dtype: int64"
      ]
     },
     "execution_count": 14,
     "metadata": {},
     "output_type": "execute_result"
    },
    {
     "data": {
      "text/plain": [
       "0.0    2\n",
       "Name: 总前列腺特异性抗原(PSA)(电化学发光), dtype: int64"
      ]
     },
     "execution_count": 14,
     "metadata": {},
     "output_type": "execute_result"
    },
    {
     "data": {
      "text/plain": [
       "0.0    63\n",
       "2.0     5\n",
       "Name: 总前列腺特异性抗原测定(TPSA)(仪器法), dtype: int64"
      ]
     },
     "execution_count": 14,
     "metadata": {},
     "output_type": "execute_result"
    },
    {
     "data": {
      "text/plain": [
       "0.0    2\n",
       "Name: 总粒子数, dtype: int64"
      ]
     },
     "execution_count": 14,
     "metadata": {},
     "output_type": "execute_result"
    },
    {
     "data": {
      "text/plain": [
       "0.0    34539\n",
       "2.0     3838\n",
       "1.0      259\n",
       "0.5        1\n",
       "Name: 总胆固醇(CHOL), dtype: int64"
      ]
     },
     "execution_count": 14,
     "metadata": {},
     "output_type": "execute_result"
    },
    {
     "data": {
      "text/plain": [
       "0.0    22\n",
       "2.0     1\n",
       "Name: 总胆汁酸(TBA), dtype: int64"
      ]
     },
     "execution_count": 14,
     "metadata": {},
     "output_type": "execute_result"
    },
    {
     "data": {
      "text/plain": [
       "0.0    33129\n",
       "2.0     4477\n",
       "1.0       41\n",
       "0.5        1\n",
       "Name: 总胆红素(TBIL), dtype: int64"
      ]
     },
     "execution_count": 14,
     "metadata": {},
     "output_type": "execute_result"
    },
    {
     "data": {
      "text/plain": [
       "0.0    35955\n",
       "2.0     1204\n",
       "1.0       53\n",
       "Name: 总蛋白(TP), dtype: int64"
      ]
     },
     "execution_count": 14,
     "metadata": {},
     "output_type": "execute_result"
    },
    {
     "data": {
      "text/plain": [
       "0.0    59\n",
       "Name: 悬雍垂, dtype: int64"
      ]
     },
     "execution_count": 14,
     "metadata": {},
     "output_type": "execute_result"
    },
    {
     "data": {
      "text/plain": [
       "0.0    58\n",
       "Name: 情绪, dtype: int64"
      ]
     },
     "execution_count": 14,
     "metadata": {},
     "output_type": "execute_result"
    },
    {
     "data": {
      "text/plain": [
       "0.0    61\n",
       "Name: 房水混浊度, dtype: int64"
      ]
     },
     "execution_count": 14,
     "metadata": {},
     "output_type": "execute_result"
    },
    {
     "data": {
      "text/plain": [
       "0.0    236\n",
       "Name: 房间隔, dtype: int64"
      ]
     },
     "execution_count": 14,
     "metadata": {},
     "output_type": "execute_result"
    },
    {
     "data": {
      "text/plain": [
       "0.0    59\n",
       "Name: 扁桃体, dtype: int64"
      ]
     },
     "execution_count": 14,
     "metadata": {},
     "output_type": "execute_result"
    },
    {
     "data": {
      "text/plain": [
       "0.0    3\n",
       "Name: 抗-SM, dtype: int64"
      ]
     },
     "execution_count": 14,
     "metadata": {},
     "output_type": "execute_result"
    },
    {
     "data": {
      "text/plain": [
       "0.0    3\n",
       "Name: 抗DSDNA抗体, dtype: int64"
      ]
     },
     "execution_count": 14,
     "metadata": {},
     "output_type": "execute_result"
    },
    {
     "data": {
      "text/plain": [
       "0.0    3\n",
       "Name: 抗ENPB抗体, dtype: int64"
      ]
     },
     "execution_count": 14,
     "metadata": {},
     "output_type": "execute_result"
    },
    {
     "data": {
      "text/plain": [
       "0.0    3\n",
       "Name: 抗JO-1抗体, dtype: int64"
      ]
     },
     "execution_count": 14,
     "metadata": {},
     "output_type": "execute_result"
    },
    {
     "data": {
      "text/plain": [
       "0.0    2\n",
       "4.0    1\n",
       "Name: 抗SS_A抗体, dtype: int64"
      ]
     },
     "execution_count": 14,
     "metadata": {},
     "output_type": "execute_result"
    },
    {
     "data": {
      "text/plain": [
       "0.0    2\n",
       "4.0    1\n",
       "Name: 抗SS_B抗体, dtype: int64"
      ]
     },
     "execution_count": 14,
     "metadata": {},
     "output_type": "execute_result"
    },
    {
     "data": {
      "text/plain": [
       "0.0    3\n",
       "Name: 抗nRNP/sm抗体, dtype: int64"
      ]
     },
     "execution_count": 14,
     "metadata": {},
     "output_type": "execute_result"
    },
    {
     "data": {
      "text/plain": [
       "0.0    3\n",
       "Name: 抗scl-70抗体, dtype: int64"
      ]
     },
     "execution_count": 14,
     "metadata": {},
     "output_type": "execute_result"
    },
    {
     "data": {
      "text/plain": [
       "0.0    1\n",
       "Name: 抗子宫内膜抗体IgG, dtype: int64"
      ]
     },
     "execution_count": 14,
     "metadata": {},
     "output_type": "execute_result"
    },
    {
     "data": {
      "text/plain": [
       "0.0    1\n",
       "Name: 抗子宫内膜抗体IgM, dtype: int64"
      ]
     },
     "execution_count": 14,
     "metadata": {},
     "output_type": "execute_result"
    },
    {
     "data": {
      "text/plain": [
       "0.0    3\n",
       "Name: 抗核糖体P抗体, dtype: int64"
      ]
     },
     "execution_count": 14,
     "metadata": {},
     "output_type": "execute_result"
    },
    {
     "data": {
      "text/plain": [
       "4.0    1\n",
       "Name: 抗环状瓜氨酸肽抗体(抗CCP), dtype: int64"
      ]
     },
     "execution_count": 14,
     "metadata": {},
     "output_type": "execute_result"
    },
    {
     "data": {
      "text/plain": [
       "0.0    3\n",
       "Name: 抗组蛋白抗体定性, dtype: int64"
      ]
     },
     "execution_count": 14,
     "metadata": {},
     "output_type": "execute_result"
    },
    {
     "data": {
      "text/plain": [
       "0.0    63\n",
       "Name: 抗艾滋病病毒抗体, dtype: int64"
      ]
     },
     "execution_count": 14,
     "metadata": {},
     "output_type": "execute_result"
    },
    {
     "data": {
      "text/plain": [
       "0.0    1\n",
       "Name: 抗蛋白酶3(pr3), dtype: int64"
      ]
     },
     "execution_count": 14,
     "metadata": {},
     "output_type": "execute_result"
    },
    {
     "data": {
      "text/plain": [
       "0.0    373\n",
       "2.0      3\n",
       "Name: 抗链球菌溶血素“O”, dtype: int64"
      ]
     },
     "execution_count": 14,
     "metadata": {},
     "output_type": "execute_result"
    },
    {
     "data": {
      "text/plain": [
       "0.0    1\n",
       "Name: 抗髓过氧化物酶抗体(mpo), dtype: int64"
      ]
     },
     "execution_count": 14,
     "metadata": {},
     "output_type": "execute_result"
    },
    {
     "data": {
      "text/plain": [
       "0.0    59\n",
       "Name: 披裂, dtype: int64"
      ]
     },
     "execution_count": 14,
     "metadata": {},
     "output_type": "execute_result"
    },
    {
     "data": {
      "text/plain": [
       "0.0    61\n",
       "Name: 指测眼压, dtype: int64"
      ]
     },
     "execution_count": 14,
     "metadata": {},
     "output_type": "execute_result"
    },
    {
     "data": {
      "text/plain": [
       "0.0    25\n",
       "Name: 文化程度, dtype: int64"
      ]
     },
     "execution_count": 14,
     "metadata": {},
     "output_type": "execute_result"
    },
    {
     "data": {
      "text/plain": [
       "0.0    9\n",
       "Name: 既往史, dtype: int64"
      ]
     },
     "execution_count": 14,
     "metadata": {},
     "output_type": "execute_result"
    },
    {
     "data": {
      "text/plain": [
       "0.0    61\n",
       "Name: 晶体, dtype: int64"
      ]
     },
     "execution_count": 14,
     "metadata": {},
     "output_type": "execute_result"
    },
    {
     "data": {
      "text/plain": [
       "0.0    1\n",
       "Name: 晶状体, dtype: int64"
      ]
     },
     "execution_count": 14,
     "metadata": {},
     "output_type": "execute_result"
    },
    {
     "data": {
      "text/plain": [
       "0.0    6\n",
       "Name: 月经史, dtype: int64"
      ]
     },
     "execution_count": 14,
     "metadata": {},
     "output_type": "execute_result"
    },
    {
     "data": {
      "text/plain": [
       "0.0    5\n",
       "Name: 有害物接触史, dtype: int64"
      ]
     },
     "execution_count": 14,
     "metadata": {},
     "output_type": "execute_result"
    },
    {
     "data": {
      "text/plain": [
       "0.0    801\n",
       "Name: 标本质量评估, dtype: int64"
      ]
     },
     "execution_count": 14,
     "metadata": {},
     "output_type": "execute_result"
    },
    {
     "data": {
      "text/plain": [
       "0.0    80\n",
       "4.0     2\n",
       "Name: 梅毒密螺旋体抗体测定, dtype: int64"
      ]
     },
     "execution_count": 14,
     "metadata": {},
     "output_type": "execute_result"
    },
    {
     "data": {
      "text/plain": [
       "0.0    79\n",
       "Name: 梅毒快速血浆反应素实验, dtype: int64"
      ]
     },
     "execution_count": 14,
     "metadata": {},
     "output_type": "execute_result"
    },
    {
     "data": {
      "text/plain": [
       "0.0    45\n",
       "Name: 梅毒快速血浆反映素试验, dtype: int64"
      ]
     },
     "execution_count": 14,
     "metadata": {},
     "output_type": "execute_result"
    },
    {
     "data": {
      "text/plain": [
       "0.0    1\n",
       "Name: 梅毒抗体实验(TPPA), dtype: int64"
      ]
     },
     "execution_count": 14,
     "metadata": {},
     "output_type": "execute_result"
    },
    {
     "data": {
      "text/plain": [
       "0.0    46\n",
       "4.0     3\n",
       "Name: 梅毒螺旋体粒子凝集反应, dtype: int64"
      ]
     },
     "execution_count": 14,
     "metadata": {},
     "output_type": "execute_result"
    },
    {
     "data": {
      "text/plain": [
       "0.0    59\n",
       "Name: 梨状隐窝, dtype: int64"
      ]
     },
     "execution_count": 14,
     "metadata": {},
     "output_type": "execute_result"
    },
    {
     "data": {
      "text/plain": [
       "0.0    1\n",
       "Name: 正常二倍体细胞, dtype: int64"
      ]
     },
     "execution_count": 14,
     "metadata": {},
     "output_type": "execute_result"
    },
    {
     "data": {
      "text/plain": [
       "0.0    1\n",
       "Name: 正常增生或疑似病变细胞, dtype: int64"
      ]
     },
     "execution_count": 14,
     "metadata": {},
     "output_type": "execute_result"
    },
    {
     "data": {
      "text/plain": [
       "0.0    58\n",
       "Name: 步态, dtype: int64"
      ]
     },
     "execution_count": 14,
     "metadata": {},
     "output_type": "execute_result"
    },
    {
     "data": {
      "text/plain": [
       "0.0    37\n",
       "Name: 每日运动量, dtype: int64"
      ]
     },
     "execution_count": 14,
     "metadata": {},
     "output_type": "execute_result"
    },
    {
     "data": {
      "text/plain": [
       "0.0    20\n",
       "2.0     5\n",
       "1.0     1\n",
       "Name: 泌乳素(PRL), dtype: int64"
      ]
     },
     "execution_count": 14,
     "metadata": {},
     "output_type": "execute_result"
    },
    {
     "data": {
      "text/plain": [
       "0.0    61\n",
       "Name: 泪器, dtype: int64"
      ]
     },
     "execution_count": 14,
     "metadata": {},
     "output_type": "execute_result"
    },
    {
     "data": {
      "text/plain": [
       "0.0    58\n",
       "Name: 浅感觉, dtype: int64"
      ]
     },
     "execution_count": 14,
     "metadata": {},
     "output_type": "execute_result"
    },
    {
     "data": {
      "text/plain": [
       "0.0    1\n",
       "Name: 浅表包块, dtype: int64"
      ]
     },
     "execution_count": 14,
     "metadata": {},
     "output_type": "execute_result"
    },
    {
     "data": {
      "text/plain": [
       "0.0    45\n",
       "Name: 浅表淋巴结肿大, dtype: int64"
      ]
     },
     "execution_count": 14,
     "metadata": {},
     "output_type": "execute_result"
    },
    {
     "data": {
      "text/plain": [
       "0.0    55\n",
       "Name: 涂片查G双球菌, dtype: int64"
      ]
     },
     "execution_count": 14,
     "metadata": {},
     "output_type": "execute_result"
    },
    {
     "data": {
      "text/plain": [
       "0.0    53\n",
       "Name: 涎腺, dtype: int64"
      ]
     },
     "execution_count": 14,
     "metadata": {},
     "output_type": "execute_result"
    },
    {
     "data": {
      "text/plain": [
       "0.0    385\n",
       "2.0     36\n",
       "1.0     35\n",
       "Name: 淋巴细胞, dtype: int64"
      ]
     },
     "execution_count": 14,
     "metadata": {},
     "output_type": "execute_result"
    },
    {
     "data": {
      "text/plain": [
       "0.0    960\n",
       "2.0    293\n",
       "1.0     21\n",
       "Name: 淋巴细胞比率, dtype: int64"
      ]
     },
     "execution_count": 14,
     "metadata": {},
     "output_type": "execute_result"
    },
    {
     "data": {
      "text/plain": [
       "0.0    29219\n",
       "2.0     9168\n",
       "1.0      744\n",
       "0.5        2\n",
       "Name: 淋巴细胞百分率, dtype: int64"
      ]
     },
     "execution_count": 14,
     "metadata": {},
     "output_type": "execute_result"
    },
    {
     "data": {
      "text/plain": [
       "0.0    33942\n",
       "2.0     5196\n",
       "1.0        3\n",
       "Name: 淋巴细胞绝对值, dtype: int64"
      ]
     },
     "execution_count": 14,
     "metadata": {},
     "output_type": "execute_result"
    },
    {
     "data": {
      "text/plain": [
       "0.0    58\n",
       "Name: 深感觉, dtype: int64"
      ]
     },
     "execution_count": 14,
     "metadata": {},
     "output_type": "execute_result"
    },
    {
     "data": {
      "text/plain": [
       "0.0    5536\n",
       "2.0    3353\n",
       "1.0       6\n",
       "Name: 清洁度, dtype: int64"
      ]
     },
     "execution_count": 14,
     "metadata": {},
     "output_type": "execute_result"
    },
    {
     "data": {
      "text/plain": [
       "0.0    14\n",
       "Name: 渗透压, dtype: int64"
      ]
     },
     "execution_count": 14,
     "metadata": {},
     "output_type": "execute_result"
    },
    {
     "data": {
      "text/plain": [
       "0.0    79\n",
       "2.0     2\n",
       "Name: 游历前列腺特异性抗原, dtype: int64"
      ]
     },
     "execution_count": 14,
     "metadata": {},
     "output_type": "execute_result"
    },
    {
     "data": {
      "text/plain": [
       "0.0    41\n",
       "2.0     4\n",
       "Name: 游离T3(FT3), dtype: int64"
      ]
     },
     "execution_count": 14,
     "metadata": {},
     "output_type": "execute_result"
    },
    {
     "data": {
      "text/plain": [
       "0.0    2\n",
       "Name: 游离T3(发光法), dtype: int64"
      ]
     },
     "execution_count": 14,
     "metadata": {},
     "output_type": "execute_result"
    },
    {
     "data": {
      "text/plain": [
       "0.0    39\n",
       "1.0     5\n",
       "2.0     3\n",
       "Name: 游离T4(FT4), dtype: int64"
      ]
     },
     "execution_count": 14,
     "metadata": {},
     "output_type": "execute_result"
    },
    {
     "data": {
      "text/plain": [
       "0.0    783\n",
       "2.0      9\n",
       "1.0      1\n",
       "Name: 游离前列腺特异性抗原, dtype: int64"
      ]
     },
     "execution_count": 14,
     "metadata": {},
     "output_type": "execute_result"
    },
    {
     "data": {
      "text/plain": [
       "0.0    2252\n",
       "2.0      16\n",
       "Name: 游离前列腺特异抗原(FPSA), dtype: int64"
      ]
     },
     "execution_count": 14,
     "metadata": {},
     "output_type": "execute_result"
    },
    {
     "data": {
      "text/plain": [
       "0.0    2\n",
       "Name: 游离前列腺特异抗原(FPSA)（电化学发光）, dtype: int64"
      ]
     },
     "execution_count": 14,
     "metadata": {},
     "output_type": "execute_result"
    },
    {
     "data": {
      "text/plain": [
       "0.0    8895\n",
       "Name: 滴虫, dtype: int64"
      ]
     },
     "execution_count": 14,
     "metadata": {},
     "output_type": "execute_result"
    },
    {
     "data": {
      "text/plain": [
       "0.0    801\n",
       "Name: 炎细胞量, dtype: int64"
      ]
     },
     "execution_count": 14,
     "metadata": {},
     "output_type": "execute_result"
    },
    {
     "data": {
      "text/plain": [
       "0.0    53\n",
       "Name: 牙体, dtype: int64"
      ]
     },
     "execution_count": 14,
     "metadata": {},
     "output_type": "execute_result"
    },
    {
     "data": {
      "text/plain": [
       "0.0    53\n",
       "Name: 牙周, dtype: int64"
      ]
     },
     "execution_count": 14,
     "metadata": {},
     "output_type": "execute_result"
    },
    {
     "data": {
      "text/plain": [
       "0.0    14\n",
       "Name: 现患有疾病, dtype: int64"
      ]
     },
     "execution_count": 14,
     "metadata": {},
     "output_type": "execute_result"
    },
    {
     "data": {
      "text/plain": [
       "0.0    18\n",
       "Name: 现有不适症状, dtype: int64"
      ]
     },
     "execution_count": 14,
     "metadata": {},
     "output_type": "execute_result"
    },
    {
     "data": {
      "text/plain": [
       "0.0    12\n",
       "Name: 现服药情况, dtype: int64"
      ]
     },
     "execution_count": 14,
     "metadata": {},
     "output_type": "execute_result"
    },
    {
     "data": {
      "text/plain": [
       "0.0    62\n",
       "Name: 玻璃体, dtype: int64"
      ]
     },
     "execution_count": 14,
     "metadata": {},
     "output_type": "execute_result"
    },
    {
     "data": {
      "text/plain": [
       "0.0    61\n",
       "Name: 球结膜, dtype: int64"
      ]
     },
     "execution_count": 14,
     "metadata": {},
     "output_type": "execute_result"
    },
    {
     "data": {
      "text/plain": [
       "0.000000    34492\n",
       "2.000000     2649\n",
       "1.000000       70\n",
       "0.333333        1\n",
       "Name: 球蛋白(GLB), dtype: int64"
      ]
     },
     "execution_count": 14,
     "metadata": {},
     "output_type": "execute_result"
    },
    {
     "data": {
      "text/plain": [
       "0.000000    30215\n",
       "2.000000     6357\n",
       "1.000000     1742\n",
       "0.500000        4\n",
       "0.666667        1\n",
       "Name: 甘油三酯(TG), dtype: int64"
      ]
     },
     "execution_count": 14,
     "metadata": {},
     "output_type": "execute_result"
    },
    {
     "data": {
      "text/plain": [
       "0.0    6\n",
       "Name: 生育史, dtype: int64"
      ]
     },
     "execution_count": 14,
     "metadata": {},
     "output_type": "execute_result"
    },
    {
     "data": {
      "text/plain": [
       "0.0    789\n",
       "2.0      2\n",
       "Name: 生长激素, dtype: int64"
      ]
     },
     "execution_count": 14,
     "metadata": {},
     "output_type": "execute_result"
    },
    {
     "data": {
      "text/plain": [
       "0.0    14941\n",
       "Name: 甲状腺, dtype: int64"
      ]
     },
     "execution_count": 14,
     "metadata": {},
     "output_type": "execute_result"
    },
    {
     "data": {
      "text/plain": [
       "0.0    1\n",
       "Name: 甲状腺MRI所见, dtype: int64"
      ]
     },
     "execution_count": 14,
     "metadata": {},
     "output_type": "execute_result"
    },
    {
     "data": {
      "text/plain": [
       "0.0    16\n",
       "Name: 甲状腺彩超, dtype: int64"
      ]
     },
     "execution_count": 14,
     "metadata": {},
     "output_type": "execute_result"
    },
    {
     "data": {
      "text/plain": [
       "0.0    19\n",
       "2.0     4\n",
       "Name: 甲状腺球蛋白抗体, dtype: int64"
      ]
     },
     "execution_count": 14,
     "metadata": {},
     "output_type": "execute_result"
    },
    {
     "data": {
      "text/plain": [
       "0.0    60\n",
       "2.0     8\n",
       "1.0     4\n",
       "Name: 甲状腺素(T4), dtype: int64"
      ]
     },
     "execution_count": 14,
     "metadata": {},
     "output_type": "execute_result"
    },
    {
     "data": {
      "text/plain": [
       "0.0    20\n",
       "2.0     3\n",
       "Name: 甲状腺过氧化物酶抗体, dtype: int64"
      ]
     },
     "execution_count": 14,
     "metadata": {},
     "output_type": "execute_result"
    },
    {
     "data": {
      "text/plain": [
       "0.0    789\n",
       "2.0      2\n",
       "Name: 甲胎蛋白, dtype: int64"
      ]
     },
     "execution_count": 14,
     "metadata": {},
     "output_type": "execute_result"
    },
    {
     "data": {
      "text/plain": [
       "0.0    2\n",
       "Name: 甲胎蛋白(电化学发光), dtype: int64"
      ]
     },
     "execution_count": 14,
     "metadata": {},
     "output_type": "execute_result"
    },
    {
     "data": {
      "text/plain": [
       "0.0    6243\n",
       "2.0      24\n",
       "Name: 甲胎蛋白定量, dtype: int64"
      ]
     },
     "execution_count": 14,
     "metadata": {},
     "output_type": "execute_result"
    },
    {
     "data": {
      "text/plain": [
       "0.0    83\n",
       "2.0     5\n",
       "Name: 甲胎蛋白定量(AFP), dtype: int64"
      ]
     },
     "execution_count": 14,
     "metadata": {},
     "output_type": "execute_result"
    },
    {
     "data": {
      "text/plain": [
       "0.0    18987\n",
       "4.0       51\n",
       "Name: 甲胎蛋白（定性）, dtype: int64"
      ]
     },
     "execution_count": 14,
     "metadata": {},
     "output_type": "execute_result"
    },
    {
     "data": {
      "text/plain": [
       "0.0    3\n",
       "Name: 电导率, dtype: int64"
      ]
     },
     "execution_count": 14,
     "metadata": {},
     "output_type": "execute_result"
    },
    {
     "data": {
      "text/plain": [
       "0.0    3\n",
       "Name: 疫区生活史, dtype: int64"
      ]
     },
     "execution_count": 14,
     "metadata": {},
     "output_type": "execute_result"
    },
    {
     "data": {
      "text/plain": [
       "0.0    1\n",
       "Name: 病变细胞(DI>2.5), dtype: int64"
      ]
     },
     "execution_count": 14,
     "metadata": {},
     "output_type": "execute_result"
    },
    {
     "data": {
      "text/plain": [
       "0.0    58\n",
       "Name: 病理反射, dtype: int64"
      ]
     },
     "execution_count": 14,
     "metadata": {},
     "output_type": "execute_result"
    },
    {
     "data": {
      "text/plain": [
       "0.0    66\n",
       "Name: 病理杂音, dtype: int64"
      ]
     },
     "execution_count": 14,
     "metadata": {},
     "output_type": "execute_result"
    },
    {
     "data": {
      "text/plain": [
       "0.0    150\n",
       "Name: 癌抗原(CA15-3), dtype: int64"
      ]
     },
     "execution_count": 14,
     "metadata": {},
     "output_type": "execute_result"
    },
    {
     "data": {
      "text/plain": [
       "0.0    788\n",
       "2.0      4\n",
       "Name: 癌抗原125, dtype: int64"
      ]
     },
     "execution_count": 14,
     "metadata": {},
     "output_type": "execute_result"
    },
    {
     "data": {
      "text/plain": [
       "0.0    145\n",
       "2.0      3\n",
       "Name: 癌抗原125(CA125), dtype: int64"
      ]
     },
     "execution_count": 14,
     "metadata": {},
     "output_type": "execute_result"
    },
    {
     "data": {
      "text/plain": [
       "0.0    786\n",
       "2.0      5\n",
       "Name: 癌抗原15-3, dtype: int64"
      ]
     },
     "execution_count": 14,
     "metadata": {},
     "output_type": "execute_result"
    },
    {
     "data": {
      "text/plain": [
       "0.0    672\n",
       "2.0     14\n",
       "Name: 癌肿抗原(CA-199), dtype: int64"
      ]
     },
     "execution_count": 14,
     "metadata": {},
     "output_type": "execute_result"
    },
    {
     "data": {
      "text/plain": [
       "0.0    1\n",
       "Name: 癌肿抗原125(CA125), dtype: int64"
      ]
     },
     "execution_count": 14,
     "metadata": {},
     "output_type": "execute_result"
    },
    {
     "data": {
      "text/plain": [
       "0.0    27\n",
       "Name: 癌胚抗原(CEA), dtype: int64"
      ]
     },
     "execution_count": 14,
     "metadata": {},
     "output_type": "execute_result"
    },
    {
     "data": {
      "text/plain": [
       "0.0    7420\n",
       "2.0     100\n",
       "Name: 癌胚抗原(电化学发光), dtype: int64"
      ]
     },
     "execution_count": 14,
     "metadata": {},
     "output_type": "execute_result"
    },
    {
     "data": {
      "text/plain": [
       "0.0    82\n",
       "2.0     6\n",
       "Name: 癌胚抗原CEA, dtype: int64"
      ]
     },
     "execution_count": 14,
     "metadata": {},
     "output_type": "execute_result"
    },
    {
     "data": {
      "text/plain": [
       "0.0    6\n",
       "Name: 癌胚抗原定量, dtype: int64"
      ]
     },
     "execution_count": 14,
     "metadata": {},
     "output_type": "execute_result"
    },
    {
     "data": {
      "text/plain": [
       "0.0    786\n",
       "2.0      5\n",
       "Name: 癌胚抗原（CEA）, dtype: int64"
      ]
     },
     "execution_count": 14,
     "metadata": {},
     "output_type": "execute_result"
    },
    {
     "data": {
      "text/plain": [
       "0.0    17807\n",
       "4.0        6\n",
       "Name: 癌胚抗原（定性）, dtype: int64"
      ]
     },
     "execution_count": 14,
     "metadata": {},
     "output_type": "execute_result"
    },
    {
     "data": {
      "text/plain": [
       "0.0    7013\n",
       "2.0    1810\n",
       "1.0       4\n",
       "Name: 白细胞, dtype: int64"
      ]
     },
     "execution_count": 14,
     "metadata": {},
     "output_type": "execute_result"
    },
    {
     "data": {
      "text/plain": [
       "0.0    418\n",
       "2.0     34\n",
       "1.0      4\n",
       "Name: 白细胞总数, dtype: int64"
      ]
     },
     "execution_count": 14,
     "metadata": {},
     "output_type": "execute_result"
    },
    {
     "data": {
      "text/plain": [
       "0.0    37162\n",
       "2.0     1071\n",
       "1.0      897\n",
       "0.5        3\n",
       "Name: 白细胞计数(WBC), dtype: int64"
      ]
     },
     "execution_count": 14,
     "metadata": {},
     "output_type": "execute_result"
    },
    {
     "data": {
      "text/plain": [
       "0.0    37093\n",
       "1.0      105\n",
       "2.0       14\n",
       "Name: 白蛋白(ALB), dtype: int64"
      ]
     },
     "execution_count": 14,
     "metadata": {},
     "output_type": "execute_result"
    },
    {
     "data": {
      "text/plain": [
       "0.0    36918\n",
       "1.0      255\n",
       "2.0       39\n",
       "Name: 白蛋白/球蛋白(A/G), dtype: int64"
      ]
     },
     "execution_count": 14,
     "metadata": {},
     "output_type": "execute_result"
    },
    {
     "data": {
      "text/plain": [
       "0.0    45\n",
       "Name: 皮肤, dtype: int64"
      ]
     },
     "execution_count": 14,
     "metadata": {},
     "output_type": "execute_result"
    },
    {
     "data": {
      "text/plain": [
       "0.0    14896\n",
       "Name: 皮肤外表, dtype: int64"
      ]
     },
     "execution_count": 14,
     "metadata": {},
     "output_type": "execute_result"
    },
    {
     "data": {
      "text/plain": [
       "0.0    66\n",
       "Name: 皮肤水肿, dtype: int64"
      ]
     },
     "execution_count": 14,
     "metadata": {},
     "output_type": "execute_result"
    },
    {
     "data": {
      "text/plain": [
       "0.0    66\n",
       "Name: 皮肤皮疹, dtype: int64"
      ]
     },
     "execution_count": 14,
     "metadata": {},
     "output_type": "execute_result"
    },
    {
     "data": {
      "text/plain": [
       "0.0    66\n",
       "Name: 皮肤颜色, dtype: int64"
      ]
     },
     "execution_count": 14,
     "metadata": {},
     "output_type": "execute_result"
    },
    {
     "data": {
      "text/plain": [
       "0.0    1\n",
       "Name: 盆腔CT所见, dtype: int64"
      ]
     },
     "execution_count": 14,
     "metadata": {},
     "output_type": "execute_result"
    },
    {
     "data": {
      "text/plain": [
       "0.0    36519\n",
       "2.0      819\n",
       "1.0        1\n",
       "Name: 直接胆红素, dtype: int64"
      ]
     },
     "execution_count": 14,
     "metadata": {},
     "output_type": "execute_result"
    },
    {
     "data": {
      "text/plain": [
       "0.0    6\n",
       "Name: 眼压检查, dtype: int64"
      ]
     },
     "execution_count": 14,
     "metadata": {},
     "output_type": "execute_result"
    },
    {
     "data": {
      "text/plain": [
       "0.0    37\n",
       "Name: 眼压计测眼压, dtype: int64"
      ]
     },
     "execution_count": 14,
     "metadata": {},
     "output_type": "execute_result"
    },
    {
     "data": {
      "text/plain": [
       "0.0    2314\n",
       "Name: 眼底检查, dtype: int64"
      ]
     },
     "execution_count": 14,
     "metadata": {},
     "output_type": "execute_result"
    },
    {
     "data": {
      "text/plain": [
       "0.0    62\n",
       "Name: 眼底视神经乳头, dtype: int64"
      ]
     },
     "execution_count": 14,
     "metadata": {},
     "output_type": "execute_result"
    },
    {
     "data": {
      "text/plain": [
       "0.0    62\n",
       "Name: 眼底黄斑, dtype: int64"
      ]
     },
     "execution_count": 14,
     "metadata": {},
     "output_type": "execute_result"
    },
    {
     "data": {
      "text/plain": [
       "0.0    61\n",
       "Name: 眼球外观, dtype: int64"
      ]
     },
     "execution_count": 14,
     "metadata": {},
     "output_type": "execute_result"
    },
    {
     "data": {
      "text/plain": [
       "0.0    61\n",
       "Name: 眼球运动, dtype: int64"
      ]
     },
     "execution_count": 14,
     "metadata": {},
     "output_type": "execute_result"
    },
    {
     "data": {
      "text/plain": [
       "0.0    61\n",
       "Name: 眼睑外观, dtype: int64"
      ]
     },
     "execution_count": 14,
     "metadata": {},
     "output_type": "execute_result"
    },
    {
     "data": {
      "text/plain": [
       "0.0    61\n",
       "Name: 眼睑炎症及肿块, dtype: int64"
      ]
     },
     "execution_count": 14,
     "metadata": {},
     "output_type": "execute_result"
    },
    {
     "data": {
      "text/plain": [
       "0.0    61\n",
       "Name: 睑结膜, dtype: int64"
      ]
     },
     "execution_count": 14,
     "metadata": {},
     "output_type": "execute_result"
    },
    {
     "data": {
      "text/plain": [
       "0.0    36\n",
       "Name: 睡眠情况, dtype: int64"
      ]
     },
     "execution_count": 14,
     "metadata": {},
     "output_type": "execute_result"
    },
    {
     "data": {
      "text/plain": [
       "0.0    45\n",
       "Name: 睾丸, dtype: int64"
      ]
     },
     "execution_count": 14,
     "metadata": {},
     "output_type": "execute_result"
    },
    {
     "data": {
      "text/plain": [
       "0.0    9\n",
       "1.0    3\n",
       "Name: 睾酮(T), dtype: int64"
      ]
     },
     "execution_count": 14,
     "metadata": {},
     "output_type": "execute_result"
    },
    {
     "data": {
      "text/plain": [
       "0.0    10\n",
       "2.0     1\n",
       "1.0     1\n",
       "Name: 睾酮(发光法), dtype: int64"
      ]
     },
     "execution_count": 14,
     "metadata": {},
     "output_type": "execute_result"
    },
    {
     "data": {
      "text/plain": [
       "0.0    61\n",
       "Name: 瞳孔, dtype: int64"
      ]
     },
     "execution_count": 14,
     "metadata": {},
     "output_type": "execute_result"
    },
    {
     "data": {
      "text/plain": [
       "0.0    42\n",
       "Name: 硬度, dtype: int64"
      ]
     },
     "execution_count": 14,
     "metadata": {},
     "output_type": "execute_result"
    },
    {
     "data": {
      "text/plain": [
       "0.0    31842\n",
       "1.0     3279\n",
       "2.0      260\n",
       "0.5        2\n",
       "Name: 碱性磷酸酶(ALP), dtype: int64"
      ]
     },
     "execution_count": 14,
     "metadata": {},
     "output_type": "execute_result"
    },
    {
     "data": {
      "text/plain": [
       "0.0    791\n",
       "Name: 神经原特异性稀醇化酶（NSE）, dtype: int64"
      ]
     },
     "execution_count": 14,
     "metadata": {},
     "output_type": "execute_result"
    },
    {
     "data": {
      "text/plain": [
       "0.0    47\n",
       "2.0    41\n",
       "Name: 神经角质烯醇化酶, dtype: int64"
      ]
     },
     "execution_count": 14,
     "metadata": {},
     "output_type": "execute_result"
    },
    {
     "data": {
      "text/plain": [
       "0.0    66\n",
       "Name: 移动性浊音, dtype: int64"
      ]
     },
     "execution_count": 14,
     "metadata": {},
     "output_type": "execute_result"
    },
    {
     "data": {
      "text/plain": [
       "0.0    13\n",
       "Name: 窦部, dtype: int64"
      ]
     },
     "execution_count": 14,
     "metadata": {},
     "output_type": "execute_result"
    },
    {
     "data": {
      "text/plain": [
       "0.0    58\n",
       "Name: 第Ⅰ对颅神经, dtype: int64"
      ]
     },
     "execution_count": 14,
     "metadata": {},
     "output_type": "execute_result"
    },
    {
     "data": {
      "text/plain": [
       "0.0    58\n",
       "Name: 第Ⅱ对颅神经, dtype: int64"
      ]
     },
     "execution_count": 14,
     "metadata": {},
     "output_type": "execute_result"
    },
    {
     "data": {
      "text/plain": [
       "0.0    58\n",
       "Name: 第Ⅲ对颅神经, dtype: int64"
      ]
     },
     "execution_count": 14,
     "metadata": {},
     "output_type": "execute_result"
    },
    {
     "data": {
      "text/plain": [
       "0.0    58\n",
       "Name: 第Ⅳ对颅神经, dtype: int64"
      ]
     },
     "execution_count": 14,
     "metadata": {},
     "output_type": "execute_result"
    },
    {
     "data": {
      "text/plain": [
       "0.0    58\n",
       "Name: 第Ⅴ对颅神经, dtype: int64"
      ]
     },
     "execution_count": 14,
     "metadata": {},
     "output_type": "execute_result"
    },
    {
     "data": {
      "text/plain": [
       "0.0    58\n",
       "Name: 第Ⅵ对颅神经, dtype: int64"
      ]
     },
     "execution_count": 14,
     "metadata": {},
     "output_type": "execute_result"
    },
    {
     "data": {
      "text/plain": [
       "0.0    58\n",
       "Name: 第Ⅶ对颅神经, dtype: int64"
      ]
     },
     "execution_count": 14,
     "metadata": {},
     "output_type": "execute_result"
    },
    {
     "data": {
      "text/plain": [
       "0.0    58\n",
       "Name: 第Ⅷ对颅神经, dtype: int64"
      ]
     },
     "execution_count": 14,
     "metadata": {},
     "output_type": "execute_result"
    },
    {
     "data": {
      "text/plain": [
       "0.0    58\n",
       "Name: 第Ⅸ对颅神经, dtype: int64"
      ]
     },
     "execution_count": 14,
     "metadata": {},
     "output_type": "execute_result"
    },
    {
     "data": {
      "text/plain": [
       "0.0    58\n",
       "Name: 第Ⅹ对颅神经, dtype: int64"
      ]
     },
     "execution_count": 14,
     "metadata": {},
     "output_type": "execute_result"
    },
    {
     "data": {
      "text/plain": [
       "0.0    58\n",
       "Name: 第Ⅺ对颅神经, dtype: int64"
      ]
     },
     "execution_count": 14,
     "metadata": {},
     "output_type": "execute_result"
    },
    {
     "data": {
      "text/plain": [
       "0.0    58\n",
       "Name: 第Ⅻ对颅神经, dtype: int64"
      ]
     },
     "execution_count": 14,
     "metadata": {},
     "output_type": "execute_result"
    },
    {
     "data": {
      "text/plain": [
       "0.0    3\n",
       "Name: 类酵母细胞数量, dtype: int64"
      ]
     },
     "execution_count": 14,
     "metadata": {},
     "output_type": "execute_result"
    },
    {
     "data": {
      "text/plain": [
       "0.0    391\n",
       "2.0     15\n",
       "Name: 类风湿因子(RF), dtype: int64"
      ]
     },
     "execution_count": 14,
     "metadata": {},
     "output_type": "execute_result"
    },
    {
     "data": {
      "text/plain": [
       "0.0    107\n",
       "Name: 粒细胞, dtype: int64"
      ]
     },
     "execution_count": 14,
     "metadata": {},
     "output_type": "execute_result"
    },
    {
     "data": {
      "text/plain": [
       "0.0    8\n",
       "Name: 精囊, dtype: int64"
      ]
     },
     "execution_count": 14,
     "metadata": {},
     "output_type": "execute_result"
    },
    {
     "data": {
      "text/plain": [
       "0.0    2\n",
       "Name: 精子数量, dtype: int64"
      ]
     },
     "execution_count": 14,
     "metadata": {},
     "output_type": "execute_result"
    },
    {
     "data": {
      "text/plain": [
       "0.0    45\n",
       "Name: 精索, dtype: int64"
      ]
     },
     "execution_count": 14,
     "metadata": {},
     "output_type": "execute_result"
    },
    {
     "data": {
      "text/plain": [
       "0.0    2\n",
       "Name: 精索静脉彩超所见, dtype: int64"
      ]
     },
     "execution_count": 14,
     "metadata": {},
     "output_type": "execute_result"
    },
    {
     "data": {
      "text/plain": [
       "0.0    90\n",
       "2.0    81\n",
       "Name: 糖化血红蛋白, dtype: int64"
      ]
     },
     "execution_count": 14,
     "metadata": {},
     "output_type": "execute_result"
    },
    {
     "data": {
      "text/plain": [
       "0.0    2\n",
       "Name: 糖类抗原153, dtype: int64"
      ]
     },
     "execution_count": 14,
     "metadata": {},
     "output_type": "execute_result"
    },
    {
     "data": {
      "text/plain": [
       "0.0    87\n",
       "2.0     1\n",
       "Name: 糖类抗原CA153, dtype: int64"
      ]
     },
     "execution_count": 14,
     "metadata": {},
     "output_type": "execute_result"
    },
    {
     "data": {
      "text/plain": [
       "0.0    85\n",
       "2.0     3\n",
       "Name: 糖类抗原CA199, dtype: int64"
      ]
     },
     "execution_count": 14,
     "metadata": {},
     "output_type": "execute_result"
    },
    {
     "data": {
      "text/plain": [
       "0.0    72\n",
       "2.0    16\n",
       "Name: 糖类抗原CA724, dtype: int64"
      ]
     },
     "execution_count": 14,
     "metadata": {},
     "output_type": "execute_result"
    },
    {
     "data": {
      "text/plain": [
       "2.0    1\n",
       "0.0    1\n",
       "Name: 糖耐量试验120分钟, dtype: int64"
      ]
     },
     "execution_count": 14,
     "metadata": {},
     "output_type": "execute_result"
    },
    {
     "data": {
      "text/plain": [
       "0.0    1\n",
       "Name: 糖耐量试验180分钟, dtype: int64"
      ]
     },
     "execution_count": 14,
     "metadata": {},
     "output_type": "execute_result"
    },
    {
     "data": {
      "text/plain": [
       "1.0    1\n",
       "0.0    1\n",
       "Name: 糖耐量试验30分钟, dtype: int64"
      ]
     },
     "execution_count": 14,
     "metadata": {},
     "output_type": "execute_result"
    },
    {
     "data": {
      "text/plain": [
       "2.0    1\n",
       "Name: 糖耐量试验60分钟, dtype: int64"
      ]
     },
     "execution_count": 14,
     "metadata": {},
     "output_type": "execute_result"
    },
    {
     "data": {
      "text/plain": [
       "0.0    86\n",
       "2.0     2\n",
       "Name: 糖链抗原125, dtype: int64"
      ]
     },
     "execution_count": 14,
     "metadata": {},
     "output_type": "execute_result"
    },
    {
     "data": {
      "text/plain": [
       "0.0    1\n",
       "Name: 糖链抗原125(E), dtype: int64"
      ]
     },
     "execution_count": 14,
     "metadata": {},
     "output_type": "execute_result"
    },
    {
     "data": {
      "text/plain": [
       "0.0    782\n",
       "2.0      9\n",
       "Name: 糖链抗原19-9, dtype: int64"
      ]
     },
     "execution_count": 14,
     "metadata": {},
     "output_type": "execute_result"
    },
    {
     "data": {
      "text/plain": [
       "0.0    788\n",
       "2.0      3\n",
       "Name: 糖链抗原242（CA242）, dtype: int64"
      ]
     },
     "execution_count": 14,
     "metadata": {},
     "output_type": "execute_result"
    },
    {
     "data": {
      "text/plain": [
       "0.0    5\n",
       "2.0    1\n",
       "Name: 糖链抗原724, dtype: int64"
      ]
     },
     "execution_count": 14,
     "metadata": {},
     "output_type": "execute_result"
    },
    {
     "data": {
      "text/plain": [
       "0.0    5\n",
       "Name: 糖链抗原CA-199(E), dtype: int64"
      ]
     },
     "execution_count": 14,
     "metadata": {},
     "output_type": "execute_result"
    },
    {
     "data": {
      "text/plain": [
       "0.0    12401\n",
       "Name: 红外线乳腺所见, dtype: int64"
      ]
     },
     "execution_count": 14,
     "metadata": {},
     "output_type": "execute_result"
    },
    {
     "data": {
      "text/plain": [
       "0.0    157\n",
       "Name: 红细胞, dtype: int64"
      ]
     },
     "execution_count": 14,
     "metadata": {},
     "output_type": "execute_result"
    },
    {
     "data": {
      "text/plain": [
       "0.0    3885\n",
       "2.0      95\n",
       "1.0       2\n",
       "Name: 红细胞分布宽度, dtype: int64"
      ]
     },
     "execution_count": 14,
     "metadata": {},
     "output_type": "execute_result"
    },
    {
     "data": {
      "text/plain": [
       "0.0    32138\n",
       "2.0     3040\n",
       "1.0        3\n",
       "Name: 红细胞分布宽度（RDW-CV）, dtype: int64"
      ]
     },
     "execution_count": 14,
     "metadata": {},
     "output_type": "execute_result"
    },
    {
     "data": {
      "text/plain": [
       "0.000000    30180\n",
       "1.000000     8855\n",
       "2.000000       99\n",
       "0.500000        6\n",
       "0.333333        1\n",
       "Name: 红细胞压积(HCT), dtype: int64"
      ]
     },
     "execution_count": 14,
     "metadata": {},
     "output_type": "execute_result"
    },
    {
     "data": {
      "text/plain": [
       "0.0    34947\n",
       "1.0     2113\n",
       "2.0     2081\n",
       "Name: 红细胞平均体积(MCV), dtype: int64"
      ]
     },
     "execution_count": 14,
     "metadata": {},
     "output_type": "execute_result"
    },
    {
     "data": {
      "text/plain": [
       "0.0    405\n",
       "2.0     51\n",
       "Name: 红细胞数, dtype: int64"
      ]
     },
     "execution_count": 14,
     "metadata": {},
     "output_type": "execute_result"
    },
    {
     "data": {
      "text/plain": [
       "0.0    13\n",
       "2.0     3\n",
       "Name: 红细胞沉降率(ESR), dtype: int64"
      ]
     },
     "execution_count": 14,
     "metadata": {},
     "output_type": "execute_result"
    },
    {
     "data": {
      "text/plain": [
       "0.0    403\n",
       "2.0      8\n",
       "1.0      5\n",
       "Name: 红细胞聚集指数, dtype: int64"
      ]
     },
     "execution_count": 14,
     "metadata": {},
     "output_type": "execute_result"
    },
    {
     "data": {
      "text/plain": [
       "0.0    36502\n",
       "2.0     2322\n",
       "1.0      308\n",
       "0.5        1\n",
       "Name: 红细胞计数(RBC), dtype: int64"
      ]
     },
     "execution_count": 14,
     "metadata": {},
     "output_type": "execute_result"
    },
    {
     "data": {
      "text/plain": [
       "2.0    43\n",
       "Name: 纤毛菌, dtype: int64"
      ]
     },
     "execution_count": 14,
     "metadata": {},
     "output_type": "execute_result"
    },
    {
     "data": {
      "text/plain": [
       "0.0    297\n",
       "1.0     28\n",
       "2.0     20\n",
       "Name: 纤维蛋白原, dtype: int64"
      ]
     },
     "execution_count": 14,
     "metadata": {},
     "output_type": "execute_result"
    },
    {
     "data": {
      "text/plain": [
       "0.0    1\n",
       "Name: 细胞总数, dtype: int64"
      ]
     },
     "execution_count": 14,
     "metadata": {},
     "output_type": "execute_result"
    },
    {
     "data": {
      "text/plain": [
       "0.0    801\n",
       "Name: 细胞成分, dtype: int64"
      ]
     },
     "execution_count": 14,
     "metadata": {},
     "output_type": "execute_result"
    },
    {
     "data": {
      "text/plain": [
       "0.0    801\n",
       "Name: 细胞量, dtype: int64"
      ]
     },
     "execution_count": 14,
     "metadata": {},
     "output_type": "execute_result"
    },
    {
     "data": {
      "text/plain": [
       "0.0    66\n",
       "Name: 罗音, dtype: int64"
      ]
     },
     "execution_count": 14,
     "metadata": {},
     "output_type": "execute_result"
    },
    {
     "data": {
      "text/plain": [
       "0.0    15029\n",
       "2.0      115\n",
       "1.0       39\n",
       "Name: 羟丁酸脱氢酶, dtype: int64"
      ]
     },
     "execution_count": 14,
     "metadata": {},
     "output_type": "execute_result"
    },
    {
     "data": {
      "text/plain": [
       "0.0    11784\n",
       "Name: 耳, dtype: int64"
      ]
     },
     "execution_count": 14,
     "metadata": {},
     "output_type": "execute_result"
    },
    {
     "data": {
      "text/plain": [
       "0.0    59\n",
       "Name: 耳廓, dtype: int64"
      ]
     },
     "execution_count": 14,
     "metadata": {},
     "output_type": "execute_result"
    },
    {
     "data": {
      "text/plain": [
       "0.0    26\n",
       "Name: 职业, dtype: int64"
      ]
     },
     "execution_count": 14,
     "metadata": {},
     "output_type": "execute_result"
    },
    {
     "data": {
      "text/plain": [
       "0.0    58\n",
       "Name: 肌力, dtype: int64"
      ]
     },
     "execution_count": 14,
     "metadata": {},
     "output_type": "execute_result"
    },
    {
     "data": {
      "text/plain": [
       "0.0    58\n",
       "Name: 肌张力, dtype: int64"
      ]
     },
     "execution_count": 14,
     "metadata": {},
     "output_type": "execute_result"
    },
    {
     "data": {
      "text/plain": [
       "0.0    58\n",
       "Name: 肌肉萎缩, dtype: int64"
      ]
     },
     "execution_count": 14,
     "metadata": {},
     "output_type": "execute_result"
    },
    {
     "data": {
      "text/plain": [
       "0.0    25380\n",
       "1.0    11880\n",
       "2.0       90\n",
       "0.5        6\n",
       "Name: 肌酐(Cr), dtype: int64"
      ]
     },
     "execution_count": 14,
     "metadata": {},
     "output_type": "execute_result"
    },
    {
     "data": {
      "text/plain": [
       "0.0    14641\n",
       "2.0      473\n",
       "1.0       69\n",
       "Name: 肌酸激酶, dtype: int64"
      ]
     },
     "execution_count": 14,
     "metadata": {},
     "output_type": "execute_result"
    },
    {
     "data": {
      "text/plain": [
       "0.0    47\n",
       "2.0     1\n",
       "Name: 肌酸激酶同工酶, dtype: int64"
      ]
     },
     "execution_count": 14,
     "metadata": {},
     "output_type": "execute_result"
    },
    {
     "data": {
      "text/plain": [
       "0.0    1\n",
       "Name: 肘关节正侧位, dtype: int64"
      ]
     },
     "execution_count": 14,
     "metadata": {},
     "output_type": "execute_result"
    },
    {
     "data": {
      "text/plain": [
       "0.0    3\n",
       "Name: 肛门与直肠, dtype: int64"
      ]
     },
     "execution_count": 14,
     "metadata": {},
     "output_type": "execute_result"
    },
    {
     "data": {
      "text/plain": [
       "0.0    136\n",
       "Name: 肛门指诊, dtype: int64"
      ]
     },
     "execution_count": 14,
     "metadata": {},
     "output_type": "execute_result"
    },
    {
     "data": {
      "text/plain": [
       "0.0    34857\n",
       "Name: 肝, dtype: int64"
      ]
     },
     "execution_count": 14,
     "metadata": {},
     "output_type": "execute_result"
    },
    {
     "data": {
      "text/plain": [
       "0.0    22365\n",
       "Name: 肝脏, dtype: int64"
      ]
     },
     "execution_count": 14,
     "metadata": {},
     "output_type": "execute_result"
    },
    {
     "data": {
      "text/plain": [
       "0.0    4728\n",
       "Name: 肝（彩超）, dtype: int64"
      ]
     },
     "execution_count": 14,
     "metadata": {},
     "output_type": "execute_result"
    },
    {
     "data": {
      "text/plain": [
       "0.0    2\n",
       "Name: 肠镜所见, dtype: int64"
      ]
     },
     "execution_count": 14,
     "metadata": {},
     "output_type": "execute_result"
    },
    {
     "data": {
      "text/plain": [
       "0.0    66\n",
       "Name: 肠鸣音, dtype: int64"
      ]
     },
     "execution_count": 14,
     "metadata": {},
     "output_type": "execute_result"
    },
    {
     "data": {
      "text/plain": [
       "0.0    5\n",
       "Name: 肺CT所见, dtype: int64"
      ]
     },
     "execution_count": 14,
     "metadata": {},
     "output_type": "execute_result"
    },
    {
     "data": {
      "text/plain": [
       "0.0    2\n",
       "Name: 肺功能测定, dtype: int64"
      ]
     },
     "execution_count": 14,
     "metadata": {},
     "output_type": "execute_result"
    },
    {
     "data": {
      "text/plain": [
       "0.0    236\n",
       "Name: 肺动脉瓣, dtype: int64"
      ]
     },
     "execution_count": 14,
     "metadata": {},
     "output_type": "execute_result"
    },
    {
     "data": {
      "text/plain": [
       "0.0    22299\n",
       "Name: 肺及呼吸道, dtype: int64"
      ]
     },
     "execution_count": 14,
     "metadata": {},
     "output_type": "execute_result"
    },
    {
     "data": {
      "text/plain": [
       "0.0    80\n",
       "2.0     8\n",
       "Name: 肺小细胞癌原211, dtype: int64"
      ]
     },
     "execution_count": 14,
     "metadata": {},
     "output_type": "execute_result"
    },
    {
     "data": {
      "text/plain": [
       "0.0    66\n",
       "Name: 肺部呼吸音, dtype: int64"
      ]
     },
     "execution_count": 14,
     "metadata": {},
     "output_type": "execute_result"
    },
    {
     "data": {
      "text/plain": [
       "0.0    34106\n",
       "Name: 肾, dtype: int64"
      ]
     },
     "execution_count": 14,
     "metadata": {},
     "output_type": "execute_result"
    },
    {
     "data": {
      "text/plain": [
       "0.0    1\n",
       "Name: 肾上腺CT, dtype: int64"
      ]
     },
     "execution_count": 14,
     "metadata": {},
     "output_type": "execute_result"
    },
    {
     "data": {
      "text/plain": [
       "0.0    18\n",
       "Name: 肾上腺彩超, dtype: int64"
      ]
     },
     "execution_count": 14,
     "metadata": {},
     "output_type": "execute_result"
    },
    {
     "data": {
      "text/plain": [
       "0.0    66\n",
       "Name: 肾脏, dtype: int64"
      ]
     },
     "execution_count": 14,
     "metadata": {},
     "output_type": "execute_result"
    },
    {
     "data": {
      "text/plain": [
       "0.0    4733\n",
       "Name: 肾（彩超）, dtype: int64"
      ]
     },
     "execution_count": 14,
     "metadata": {},
     "output_type": "execute_result"
    },
    {
     "data": {
      "text/plain": [
       "0.0    13\n",
       "Name: 胃体, dtype: int64"
      ]
     },
     "execution_count": 14,
     "metadata": {},
     "output_type": "execute_result"
    },
    {
     "data": {
      "text/plain": [
       "0.0    13\n",
       "Name: 胃底, dtype: int64"
      ]
     },
     "execution_count": 14,
     "metadata": {},
     "output_type": "execute_result"
    },
    {
     "data": {
      "text/plain": [
       "0.0    13\n",
       "Name: 胃角, dtype: int64"
      ]
     },
     "execution_count": 14,
     "metadata": {},
     "output_type": "execute_result"
    },
    {
     "data": {
      "text/plain": [
       "0.0    34923\n",
       "Name: 胆囊, dtype: int64"
      ]
     },
     "execution_count": 14,
     "metadata": {},
     "output_type": "execute_result"
    },
    {
     "data": {
      "text/plain": [
       "0.0    4728\n",
       "Name: 胆囊（彩超）, dtype: int64"
      ]
     },
     "execution_count": 14,
     "metadata": {},
     "output_type": "execute_result"
    },
    {
     "data": {
      "text/plain": [
       "0.0    11784\n",
       "Name: 胬肉, dtype: int64"
      ]
     },
     "execution_count": 14,
     "metadata": {},
     "output_type": "execute_result"
    },
    {
     "data": {
      "text/plain": [
       "0.0    130\n",
       "2.0      8\n",
       "1.0      2\n",
       "Name: 胰岛素(INS), dtype: int64"
      ]
     },
     "execution_count": 14,
     "metadata": {},
     "output_type": "execute_result"
    },
    {
     "data": {
      "text/plain": [
       "4.0    1\n",
       "Name: 胰岛素抗体, dtype: int64"
      ]
     },
     "execution_count": 14,
     "metadata": {},
     "output_type": "execute_result"
    },
    {
     "data": {
      "text/plain": [
       "4.0    1\n",
       "Name: 胰岛素细胞抗体, dtype: int64"
      ]
     },
     "execution_count": 14,
     "metadata": {},
     "output_type": "execute_result"
    },
    {
     "data": {
      "text/plain": [
       "0.0    13129\n",
       "Name: 胰腺, dtype: int64"
      ]
     },
     "execution_count": 14,
     "metadata": {},
     "output_type": "execute_result"
    },
    {
     "data": {
      "text/plain": [
       "0.0    4726\n",
       "Name: 胰腺（彩超）, dtype: int64"
      ]
     },
     "execution_count": 14,
     "metadata": {},
     "output_type": "execute_result"
    },
    {
     "data": {
      "text/plain": [
       "0.0    10\n",
       "2.0     2\n",
       "1.0     2\n",
       "Name: 胱抑素-C(CYC), dtype: int64"
      ]
     },
     "execution_count": 14,
     "metadata": {},
     "output_type": "execute_result"
    },
    {
     "data": {
      "text/plain": [
       "0.0    66\n",
       "Name: 胸廓外形, dtype: int64"
      ]
     },
     "execution_count": 14,
     "metadata": {},
     "output_type": "execute_result"
    },
    {
     "data": {
      "text/plain": [
       "0.0    5\n",
       "Name: 胸椎(正侧位), dtype: int64"
      ]
     },
     "execution_count": 14,
     "metadata": {},
     "output_type": "execute_result"
    },
    {
     "data": {
      "text/plain": [
       "0.0    1\n",
       "Name: 胸正位+左斜位片, dtype: int64"
      ]
     },
     "execution_count": 14,
     "metadata": {},
     "output_type": "execute_result"
    },
    {
     "data": {
      "text/plain": [
       "0.0    66\n",
       "Name: 胸膜磨擦音, dtype: int64"
      ]
     },
     "execution_count": 14,
     "metadata": {},
     "output_type": "execute_result"
    },
    {
     "data": {
      "text/plain": [
       "0.0    34632\n",
       "Name: 胸透, dtype: int64"
      ]
     },
     "execution_count": 14,
     "metadata": {},
     "output_type": "execute_result"
    },
    {
     "data": {
      "text/plain": [
       "0.0    20\n",
       "Name: 胸部CT所见, dtype: int64"
      ]
     },
     "execution_count": 14,
     "metadata": {},
     "output_type": "execute_result"
    },
    {
     "data": {
      "text/plain": [
       "0.0    134\n",
       "Name: 胸部X片所见, dtype: int64"
      ]
     },
     "execution_count": 14,
     "metadata": {},
     "output_type": "execute_result"
    },
    {
     "data": {
      "text/plain": [
       "0.0    66\n",
       "Name: 胸部叩诊, dtype: int64"
      ]
     },
     "execution_count": 14,
     "metadata": {},
     "output_type": "execute_result"
    },
    {
     "data": {
      "text/plain": [
       "0.0    2653\n",
       "Name: 胸部正位片所见, dtype: int64"
      ]
     },
     "execution_count": 14,
     "metadata": {},
     "output_type": "execute_result"
    },
    {
     "data": {
      "text/plain": [
       "0.0    64\n",
       "Name: 胸部正侧位片所见, dtype: int64"
      ]
     },
     "execution_count": 14,
     "metadata": {},
     "output_type": "execute_result"
    },
    {
     "data": {
      "text/plain": [
       "0.0    66\n",
       "Name: 胸部触诊, dtype: int64"
      ]
     },
     "execution_count": 14,
     "metadata": {},
     "output_type": "execute_result"
    },
    {
     "data": {
      "text/plain": [
       "0.0    14941\n",
       "Name: 脊柱, dtype: int64"
      ]
     },
     "execution_count": 14,
     "metadata": {},
     "output_type": "execute_result"
    },
    {
     "data": {
      "text/plain": [
       "0.0    19691\n",
       "Name: 脾, dtype: int64"
      ]
     },
     "execution_count": 14,
     "metadata": {},
     "output_type": "execute_result"
    },
    {
     "data": {
      "text/plain": [
       "0.0    22365\n",
       "Name: 脾脏, dtype: int64"
      ]
     },
     "execution_count": 14,
     "metadata": {},
     "output_type": "execute_result"
    },
    {
     "data": {
      "text/plain": [
       "0.0    4726\n",
       "Name: 脾（彩超）, dtype: int64"
      ]
     },
     "execution_count": 14,
     "metadata": {},
     "output_type": "execute_result"
    },
    {
     "data": {
      "text/plain": [
       "0.0    8\n",
       "Name: 腰椎CT所见, dtype: int64"
      ]
     },
     "execution_count": 14,
     "metadata": {},
     "output_type": "execute_result"
    },
    {
     "data": {
      "text/plain": [
       "0.0    1\n",
       "Name: 腰椎MRI所见, dtype: int64"
      ]
     },
     "execution_count": 14,
     "metadata": {},
     "output_type": "execute_result"
    },
    {
     "data": {
      "text/plain": [
       "0.0    235\n",
       "Name: 腰椎正侧位所见, dtype: int64"
      ]
     },
     "execution_count": 14,
     "metadata": {},
     "output_type": "execute_result"
    },
    {
     "data": {
      "text/plain": [
       "0.0    58\n",
       "Name: 腱反射, dtype: int64"
      ]
     },
     "execution_count": 14,
     "metadata": {},
     "output_type": "execute_result"
    },
    {
     "data": {
      "text/plain": [
       "0.0    45\n",
       "Name: 腹壁, dtype: int64"
      ]
     },
     "execution_count": 14,
     "metadata": {},
     "output_type": "execute_result"
    },
    {
     "data": {
      "text/plain": [
       "0.0    66\n",
       "Name: 腹部包块, dtype: int64"
      ]
     },
     "execution_count": 14,
     "metadata": {},
     "output_type": "execute_result"
    },
    {
     "data": {
      "text/plain": [
       "0.0    66\n",
       "Name: 腹部压痛, dtype: int64"
      ]
     },
     "execution_count": 14,
     "metadata": {},
     "output_type": "execute_result"
    },
    {
     "data": {
      "text/plain": [
       "0.0    912\n",
       "Name: 膀胱, dtype: int64"
      ]
     },
     "execution_count": 14,
     "metadata": {},
     "output_type": "execute_result"
    },
    {
     "data": {
      "text/plain": [
       "0.0    1843\n",
       "Name: 膀胱（彩超）, dtype: int64"
      ]
     },
     "execution_count": 14,
     "metadata": {},
     "output_type": "execute_result"
    },
    {
     "data": {
      "text/plain": [
       "0.0    1\n",
       "Name: 膝关节MRI所见, dtype: int64"
      ]
     },
     "execution_count": 14,
     "metadata": {},
     "output_type": "execute_result"
    },
    {
     "data": {
      "text/plain": [
       "0.0    3\n",
       "Name: 膝关节摄片, dtype: int64"
      ]
     },
     "execution_count": 14,
     "metadata": {},
     "output_type": "execute_result"
    },
    {
     "data": {
      "text/plain": [
       "0.0    9\n",
       "Name: 色觉, dtype: int64"
      ]
     },
     "execution_count": 14,
     "metadata": {},
     "output_type": "execute_result"
    },
    {
     "data": {
      "text/plain": [
       "0.0    88\n",
       "Name: 艾滋病抗体, dtype: int64"
      ]
     },
     "execution_count": 14,
     "metadata": {},
     "output_type": "execute_result"
    },
    {
     "data": {
      "text/plain": [
       "2.0    1\n",
       "Name: 药物结晶, dtype: int64"
      ]
     },
     "execution_count": 14,
     "metadata": {},
     "output_type": "execute_result"
    },
    {
     "data": {
      "text/plain": [
       "0.0    22365\n",
       "Name: 营养状况, dtype: int64"
      ]
     },
     "execution_count": 14,
     "metadata": {},
     "output_type": "execute_result"
    },
    {
     "data": {
      "text/plain": [
       "0.0    35853\n",
       "2.0     2355\n",
       "1.0      141\n",
       "Name: 葡萄糖(GLU), dtype: int64"
      ]
     },
     "execution_count": 14,
     "metadata": {},
     "output_type": "execute_result"
    },
    {
     "data": {
      "text/plain": [
       "0.0    43\n",
       "Name: 虫卵, dtype: int64"
      ]
     },
     "execution_count": 14,
     "metadata": {},
     "output_type": "execute_result"
    },
    {
     "data": {
      "text/plain": [
       "0.0    61\n",
       "Name: 虹膜睫状体, dtype: int64"
      ]
     },
     "execution_count": 14,
     "metadata": {},
     "output_type": "execute_result"
    },
    {
     "data": {
      "text/plain": [
       "0.0    66\n",
       "Name: 蜘蛛痣, dtype: int64"
      ]
     },
     "execution_count": 14,
     "metadata": {},
     "output_type": "execute_result"
    },
    {
     "data": {
      "text/plain": [
       "0.0    38384\n",
       "1.0      496\n",
       "2.0      259\n",
       "Name: 血小板分布宽度(PDW), dtype: int64"
      ]
     },
     "execution_count": 14,
     "metadata": {},
     "output_type": "execute_result"
    },
    {
     "data": {
      "text/plain": [
       "0.0    4066\n",
       "1.0      17\n",
       "Name: 血小板压积, dtype: int64"
      ]
     },
     "execution_count": 14,
     "metadata": {},
     "output_type": "execute_result"
    },
    {
     "data": {
      "text/plain": [
       "0.0    38795\n",
       "1.0      322\n",
       "2.0       22\n",
       "Name: 血小板平均体积(MPV), dtype: int64"
      ]
     },
     "execution_count": 14,
     "metadata": {},
     "output_type": "execute_result"
    },
    {
     "data": {
      "text/plain": [
       "0.0    383\n",
       "2.0     73\n",
       "Name: 血小板计数, dtype: int64"
      ]
     },
     "execution_count": 14,
     "metadata": {},
     "output_type": "execute_result"
    },
    {
     "data": {
      "text/plain": [
       "0.0    38804\n",
       "2.0      225\n",
       "1.0      102\n",
       "Name: 血小板计数(PLT), dtype: int64"
      ]
     },
     "execution_count": 14,
     "metadata": {},
     "output_type": "execute_result"
    },
    {
     "data": {
      "text/plain": [
       "0.0    255\n",
       "2.0     19\n",
       "Name: 血沉, dtype: int64"
      ]
     },
     "execution_count": 14,
     "metadata": {},
     "output_type": "execute_result"
    },
    {
     "data": {
      "text/plain": [
       "0.0    330\n",
       "2.0     81\n",
       "1.0      5\n",
       "Name: 血浆粘度值, dtype: int64"
      ]
     },
     "execution_count": 14,
     "metadata": {},
     "output_type": "execute_result"
    },
    {
     "data": {
      "text/plain": [
       "0.0    13376\n",
       "1.0     1724\n",
       "2.0       73\n",
       "0.5        7\n",
       "Name: 血清无机磷测定, dtype: int64"
      ]
     },
     "execution_count": 14,
     "metadata": {},
     "output_type": "execute_result"
    },
    {
     "data": {
      "text/plain": [
       "0.000000    14059\n",
       "2.000000      824\n",
       "1.000000      296\n",
       "1.333333        1\n",
       "Name: 血清氯(CL), dtype: int64"
      ]
     },
     "execution_count": 14,
     "metadata": {},
     "output_type": "execute_result"
    },
    {
     "data": {
      "text/plain": [
       "0.0    14943\n",
       "1.0      234\n",
       "2.0        3\n",
       "Name: 血清钙(Ca), dtype: int64"
      ]
     },
     "execution_count": 14,
     "metadata": {},
     "output_type": "execute_result"
    },
    {
     "data": {
      "text/plain": [
       "0.0    14940\n",
       "1.0      231\n",
       "2.0        9\n",
       "Name: 血清钠(Na), dtype: int64"
      ]
     },
     "execution_count": 14,
     "metadata": {},
     "output_type": "execute_result"
    },
    {
     "data": {
      "text/plain": [
       "0.0    14907\n",
       "1.0      266\n",
       "2.0        4\n",
       "0.5        3\n",
       "Name: 血清钾(K), dtype: int64"
      ]
     },
     "execution_count": 14,
     "metadata": {},
     "output_type": "execute_result"
    },
    {
     "data": {
      "text/plain": [
       "0.0    12\n",
       "2.0     2\n",
       "Name: 血清铁(Fa), dtype: int64"
      ]
     },
     "execution_count": 14,
     "metadata": {},
     "output_type": "execute_result"
    },
    {
     "data": {
      "text/plain": [
       "0.0    15051\n",
       "2.0      110\n",
       "1.0        5\n",
       "Name: 血清镁测定, dtype: int64"
      ]
     },
     "execution_count": 14,
     "metadata": {},
     "output_type": "execute_result"
    },
    {
     "data": {
      "text/plain": [
       "0.0    61\n",
       "Name: 血管, dtype: int64"
      ]
     },
     "execution_count": 14,
     "metadata": {},
     "output_type": "execute_result"
    },
    {
     "data": {
      "text/plain": [
       "0.0    1\n",
       "Name: 血管MRI所见, dtype: int64"
      ]
     },
     "execution_count": 14,
     "metadata": {},
     "output_type": "execute_result"
    },
    {
     "data": {
      "text/plain": [
       "0.0    454\n",
       "1.0      2\n",
       "Name: 血红蛋白, dtype: int64"
      ]
     },
     "execution_count": 14,
     "metadata": {},
     "output_type": "execute_result"
    },
    {
     "data": {
      "text/plain": [
       "0.0    37859\n",
       "1.0      929\n",
       "2.0      345\n",
       "Name: 血红蛋白(HGB), dtype: int64"
      ]
     },
     "execution_count": 14,
     "metadata": {},
     "output_type": "execute_result"
    },
    {
     "data": {
      "text/plain": [
       "0.0    9\n",
       "1.0    1\n",
       "Name: 补体C3含量(C3), dtype: int64"
      ]
     },
     "execution_count": 14,
     "metadata": {},
     "output_type": "execute_result"
    },
    {
     "data": {
      "text/plain": [
       "0.0    8\n",
       "1.0    2\n",
       "Name: 补体C4含量(C4), dtype: int64"
      ]
     },
     "execution_count": 14,
     "metadata": {},
     "output_type": "execute_result"
    },
    {
     "data": {
      "text/plain": [
       "0.0    58\n",
       "Name: 表情, dtype: int64"
      ]
     },
     "execution_count": 14,
     "metadata": {},
     "output_type": "execute_result"
    },
    {
     "data": {
      "text/plain": [
       "0.0    62\n",
       "Name: 视网膜, dtype: int64"
      ]
     },
     "execution_count": 14,
     "metadata": {},
     "output_type": "execute_result"
    },
    {
     "data": {
      "text/plain": [
       "0.0    9\n",
       "Name: 视野, dtype: int64"
      ]
     },
     "execution_count": 14,
     "metadata": {},
     "output_type": "execute_result"
    },
    {
     "data": {
      "text/plain": [
       "0.0    61\n",
       "Name: 角膜, dtype: int64"
      ]
     },
     "execution_count": 14,
     "metadata": {},
     "output_type": "execute_result"
    },
    {
     "data": {
      "text/plain": [
       "0.0    58\n",
       "Name: 记忆力, dtype: int64"
      ]
     },
     "execution_count": 14,
     "metadata": {},
     "output_type": "execute_result"
    },
    {
     "data": {
      "text/plain": [
       "0.0    58\n",
       "Name: 语言能力, dtype: int64"
      ]
     },
     "execution_count": 14,
     "metadata": {},
     "output_type": "execute_result"
    },
    {
     "data": {
      "text/plain": [
       "0.0    408\n",
       "2.0     14\n",
       "Name: 谷丙转氨酶, dtype: int64"
      ]
     },
     "execution_count": 14,
     "metadata": {},
     "output_type": "execute_result"
    },
    {
     "data": {
      "text/plain": [
       "0.0    40802\n",
       "2.0     1310\n",
       "1.0        1\n",
       "Name: 谷丙转氨酶(ALT), dtype: int64"
      ]
     },
     "execution_count": 14,
     "metadata": {},
     "output_type": "execute_result"
    },
    {
     "data": {
      "text/plain": [
       "4.0    1\n",
       "Name: 谷氨酸脱羧酶抗体, dtype: int64"
      ]
     },
     "execution_count": 14,
     "metadata": {},
     "output_type": "execute_result"
    },
    {
     "data": {
      "text/plain": [
       "0.0    20128\n",
       "2.0      381\n",
       "Name: 谷草转氨酶(AST), dtype: int64"
      ]
     },
     "execution_count": 14,
     "metadata": {},
     "output_type": "execute_result"
    },
    {
     "data": {
      "text/plain": [
       "0.0    13\n",
       "Name: 贲门, dtype: int64"
      ]
     },
     "execution_count": 14,
     "metadata": {},
     "output_type": "execute_result"
    },
    {
     "data": {
      "text/plain": [
       "0.0    59\n",
       "Name: 软腭, dtype: int64"
      ]
     },
     "execution_count": 14,
     "metadata": {},
     "output_type": "execute_result"
    },
    {
     "data": {
      "text/plain": [
       "0.0    12601\n",
       "1.0     1910\n",
       "2.0     1076\n",
       "0.5        9\n",
       "Name: 载脂蛋白A1(APOA1), dtype: int64"
      ]
     },
     "execution_count": 14,
     "metadata": {},
     "output_type": "execute_result"
    },
    {
     "data": {
      "text/plain": [
       "0.000000    12422\n",
       "2.000000     1702\n",
       "1.000000     1467\n",
       "0.500000        3\n",
       "1.333333        1\n",
       "Name: 载脂蛋白B(APOB), dtype: int64"
      ]
     },
     "execution_count": 14,
     "metadata": {},
     "output_type": "execute_result"
    },
    {
     "data": {
      "text/plain": [
       "0.0    15152\n",
       "Name: 载脂蛋白B:A1, dtype: int64"
      ]
     },
     "execution_count": 14,
     "metadata": {},
     "output_type": "execute_result"
    },
    {
     "data": {
      "text/plain": [
       "0.0    717\n",
       "Name: 输尿管, dtype: int64"
      ]
     },
     "execution_count": 14,
     "metadata": {},
     "output_type": "execute_result"
    },
    {
     "data": {
      "text/plain": [
       "0.0    1812\n",
       "Name: 输尿管（彩超）, dtype: int64"
      ]
     },
     "execution_count": 14,
     "metadata": {},
     "output_type": "execute_result"
    },
    {
     "data": {
      "text/plain": [
       "0.0    11784\n",
       "Name: 辨色力, dtype: int64"
      ]
     },
     "execution_count": 14,
     "metadata": {},
     "output_type": "execute_result"
    },
    {
     "data": {
      "text/plain": [
       "0.0    7\n",
       "Name: 过敏史, dtype: int64"
      ]
     },
     "execution_count": 14,
     "metadata": {},
     "output_type": "execute_result"
    },
    {
     "data": {
      "text/plain": [
       "0.0    1\n",
       "Name: 透明管型（尿红细胞形态）, dtype: int64"
      ]
     },
     "execution_count": 14,
     "metadata": {},
     "output_type": "execute_result"
    },
    {
     "data": {
      "text/plain": [
       "2.0    8\n",
       "0.0    7\n",
       "Name: 透明质栓HA, dtype: int64"
      ]
     },
     "execution_count": 14,
     "metadata": {},
     "output_type": "execute_result"
    },
    {
     "data": {
      "text/plain": [
       "0.0    88\n",
       "Name: 部分凝血活酶时间, dtype: int64"
      ]
     },
     "execution_count": 14,
     "metadata": {},
     "output_type": "execute_result"
    },
    {
     "data": {
      "text/plain": [
       "0.0    22\n",
       "Name: 配偶健康状况, dtype: int64"
      ]
     },
     "execution_count": 14,
     "metadata": {},
     "output_type": "execute_result"
    },
    {
     "data": {
      "text/plain": [
       "0.0    771\n",
       "2.0     20\n",
       "Name: 铁蛋白, dtype: int64"
      ]
     },
     "execution_count": 14,
     "metadata": {},
     "output_type": "execute_result"
    },
    {
     "data": {
      "text/plain": [
       "0.0    14\n",
       "Name: 镁, dtype: int64"
      ]
     },
     "execution_count": 14,
     "metadata": {},
     "output_type": "execute_result"
    },
    {
     "data": {
      "text/plain": [
       "0.0    30937\n",
       "2.0     6394\n",
       "1.0        8\n",
       "Name: 间接胆红素, dtype: int64"
      ]
     },
     "execution_count": 14,
     "metadata": {},
     "output_type": "execute_result"
    },
    {
     "data": {
      "text/plain": [
       "0.0    2\n",
       "Name: 阴囊、双侧睾丸、附睾彩超所见, dtype: int64"
      ]
     },
     "execution_count": 14,
     "metadata": {},
     "output_type": "execute_result"
    },
    {
     "data": {
      "text/plain": [
       "0.0    11938\n",
       "2.0     3129\n",
       "1.0      112\n",
       "0.5        1\n",
       "Name: 阴离子间隙, dtype: int64"
      ]
     },
     "execution_count": 14,
     "metadata": {},
     "output_type": "execute_result"
    },
    {
     "data": {
      "text/plain": [
       "0.0    45\n",
       "Name: 阴茎龟头, dtype: int64"
      ]
     },
     "execution_count": 14,
     "metadata": {},
     "output_type": "execute_result"
    },
    {
     "data": {
      "text/plain": [
       "0.0    10099\n",
       "Name: 阴道, dtype: int64"
      ]
     },
     "execution_count": 14,
     "metadata": {},
     "output_type": "execute_result"
    },
    {
     "data": {
      "text/plain": [
       "0.0    10099\n",
       "Name: 阴道分泌物, dtype: int64"
      ]
     },
     "execution_count": 14,
     "metadata": {},
     "output_type": "execute_result"
    },
    {
     "data": {
      "text/plain": [
       "0.0    4\n",
       "Name: 阴道彩超, dtype: int64"
      ]
     },
     "execution_count": 14,
     "metadata": {},
     "output_type": "execute_result"
    },
    {
     "data": {
      "text/plain": [
       "0.0    14530\n",
       "Name: 附件, dtype: int64"
      ]
     },
     "execution_count": 14,
     "metadata": {},
     "output_type": "execute_result"
    },
    {
     "data": {
      "text/plain": [
       "0.0    1636\n",
       "Name: 附件（彩超）, dtype: int64"
      ]
     },
     "execution_count": 14,
     "metadata": {},
     "output_type": "execute_result"
    },
    {
     "data": {
      "text/plain": [
       "0.0    45\n",
       "Name: 附睾, dtype: int64"
      ]
     },
     "execution_count": 14,
     "metadata": {},
     "output_type": "execute_result"
    },
    {
     "data": {
      "text/plain": [
       "0.0    20\n",
       "4.0     2\n",
       "Name: 隐血, dtype: int64"
      ]
     },
     "execution_count": 14,
     "metadata": {},
     "output_type": "execute_result"
    },
    {
     "data": {
      "text/plain": [
       "0.0    23\n",
       "2.0     1\n",
       "Name: 雌二醇(E2), dtype: int64"
      ]
     },
     "execution_count": 14,
     "metadata": {},
     "output_type": "execute_result"
    },
    {
     "data": {
      "text/plain": [
       "0.0    8931\n",
       "Name: 霉菌, dtype: int64"
      ]
     },
     "execution_count": 14,
     "metadata": {},
     "output_type": "execute_result"
    },
    {
     "data": {
      "text/plain": [
       "0.0    61\n",
       "Name: 青光眼, dtype: int64"
      ]
     },
     "execution_count": 14,
     "metadata": {},
     "output_type": "execute_result"
    },
    {
     "data": {
      "text/plain": [
       "0.0    24\n",
       "Name: 颅脑CT所见, dtype: int64"
      ]
     },
     "execution_count": 14,
     "metadata": {},
     "output_type": "execute_result"
    },
    {
     "data": {
      "text/plain": [
       "0.0    1\n",
       "Name: 颈内动脉, dtype: int64"
      ]
     },
     "execution_count": 14,
     "metadata": {},
     "output_type": "execute_result"
    },
    {
     "data": {
      "text/plain": [
       "0.0    4\n",
       "Name: 颈动脉, dtype: int64"
      ]
     },
     "execution_count": 14,
     "metadata": {},
     "output_type": "execute_result"
    },
    {
     "data": {
      "text/plain": [
       "0.0    1\n",
       "Name: 颈椎CT平扫所见, dtype: int64"
      ]
     },
     "execution_count": 14,
     "metadata": {},
     "output_type": "execute_result"
    },
    {
     "data": {
      "text/plain": [
       "0.0    1\n",
       "Name: 颈椎MRI所见, dtype: int64"
      ]
     },
     "execution_count": 14,
     "metadata": {},
     "output_type": "execute_result"
    },
    {
     "data": {
      "text/plain": [
       "0.0    1\n",
       "Name: 颈椎侧位片, dtype: int64"
      ]
     },
     "execution_count": 14,
     "metadata": {},
     "output_type": "execute_result"
    },
    {
     "data": {
      "text/plain": [
       "0.0    7\n",
       "Name: 颈椎正位片, dtype: int64"
      ]
     },
     "execution_count": 14,
     "metadata": {},
     "output_type": "execute_result"
    },
    {
     "data": {
      "text/plain": [
       "0.0    456\n",
       "Name: 颈椎正侧位片, dtype: int64"
      ]
     },
     "execution_count": 14,
     "metadata": {},
     "output_type": "execute_result"
    },
    {
     "data": {
      "text/plain": [
       "0.0    1\n",
       "Name: 颈部血管所见, dtype: int64"
      ]
     },
     "execution_count": 14,
     "metadata": {},
     "output_type": "execute_result"
    },
    {
     "data": {
      "text/plain": [
       "0.0    53\n",
       "Name: 颌面部, dtype: int64"
      ]
     },
     "execution_count": 14,
     "metadata": {},
     "output_type": "execute_result"
    },
    {
     "data": {
      "text/plain": [
       "0.0    44\n",
       "Name: 颜色, dtype: int64"
      ]
     },
     "execution_count": 14,
     "metadata": {},
     "output_type": "execute_result"
    },
    {
     "data": {
      "text/plain": [
       "0.0    53\n",
       "Name: 颞颌关节, dtype: int64"
      ]
     },
     "execution_count": 14,
     "metadata": {},
     "output_type": "execute_result"
    },
    {
     "data": {
      "text/plain": [
       "0.0    21\n",
       "Name: 风疹病毒IgG抗体, dtype: int64"
      ]
     },
     "execution_count": 14,
     "metadata": {},
     "output_type": "execute_result"
    },
    {
     "data": {
      "text/plain": [
       "0.0    13\n",
       "Name: 食道, dtype: int64"
      ]
     },
     "execution_count": 14,
     "metadata": {},
     "output_type": "execute_result"
    },
    {
     "data": {
      "text/plain": [
       "0.0    42\n",
       "Name: 饮酒情况, dtype: int64"
      ]
     },
     "execution_count": 14,
     "metadata": {},
     "output_type": "execute_result"
    },
    {
     "data": {
      "text/plain": [
       "0.0    23\n",
       "Name: 饮食习惯, dtype: int64"
      ]
     },
     "execution_count": 14,
     "metadata": {},
     "output_type": "execute_result"
    },
    {
     "data": {
      "text/plain": [
       "0.0    36\n",
       "Name: 骨密度检测, dtype: int64"
      ]
     },
     "execution_count": 14,
     "metadata": {},
     "output_type": "execute_result"
    },
    {
     "data": {
      "text/plain": [
       "0.0    16\n",
       "1.0     1\n",
       "Name: 高密度脂蛋白(HDL), dtype: int64"
      ]
     },
     "execution_count": 14,
     "metadata": {},
     "output_type": "execute_result"
    },
    {
     "data": {
      "text/plain": [
       "0.0    19173\n",
       "1.0      291\n",
       "2.0      138\n",
       "0.5        1\n",
       "Name: 高密度脂蛋白胆固醇, dtype: int64"
      ]
     },
     "execution_count": 14,
     "metadata": {},
     "output_type": "execute_result"
    },
    {
     "data": {
      "text/plain": [
       "0.0    59\n",
       "Name: 鼓室, dtype: int64"
      ]
     },
     "execution_count": 14,
     "metadata": {},
     "output_type": "execute_result"
    },
    {
     "data": {
      "text/plain": [
       "0.0    59\n",
       "Name: 鼓膜, dtype: int64"
      ]
     },
     "execution_count": 14,
     "metadata": {},
     "output_type": "execute_result"
    },
    {
     "data": {
      "text/plain": [
       "0.0    11784\n",
       "Name: 鼻, dtype: int64"
      ]
     },
     "execution_count": 14,
     "metadata": {},
     "output_type": "execute_result"
    },
    {
     "data": {
      "text/plain": [
       "0.0    59\n",
       "Name: 鼻中隔, dtype: int64"
      ]
     },
     "execution_count": 14,
     "metadata": {},
     "output_type": "execute_result"
    },
    {
     "data": {
      "text/plain": [
       "0.0    59\n",
       "Name: 鼻前庭, dtype: int64"
      ]
     },
     "execution_count": 14,
     "metadata": {},
     "output_type": "execute_result"
    },
    {
     "data": {
      "text/plain": [
       "0.0    59\n",
       "Name: 鼻咽部, dtype: int64"
      ]
     },
     "execution_count": 14,
     "metadata": {},
     "output_type": "execute_result"
    },
    {
     "data": {
      "text/plain": [
       "0.0    59\n",
       "Name: 鼻底, dtype: int64"
      ]
     },
     "execution_count": 14,
     "metadata": {},
     "output_type": "execute_result"
    },
    {
     "data": {
      "text/plain": [
       "0.0    59\n",
       "Name: 鼻窦压痛, dtype: int64"
      ]
     },
     "execution_count": 14,
     "metadata": {},
     "output_type": "execute_result"
    },
    {
     "data": {
      "text/plain": [
       "0.0    59\n",
       "Name: 鼻腔粘膜, dtype: int64"
      ]
     },
     "execution_count": 14,
     "metadata": {},
     "output_type": "execute_result"
    }
   ],
   "source": [
    "for col in combined_ino.columns:\n",
    "    combined_ino[col].value_counts()\n",
    "# combined_ino['血压'].value_counts()"
   ]
  },
  {
   "cell_type": "markdown",
   "metadata": {},
   "source": [
    "完善血压 心率 年龄 性别"
   ]
  },
  {
   "cell_type": "markdown",
   "metadata": {},
   "source": [
    "血压需要处理数值\n",
    "- 高血压： 18岁成人，收缩压 >= 140 **或** 舒张压 >= 90 （单位mmHg\n",
    "- 低血压： 血压低于**90/60**mmHG"
   ]
  },
  {
   "cell_type": "code",
   "execution_count": 15,
   "metadata": {},
   "outputs": [],
   "source": [
    "data_press = data_ino.loc[data_ino['项目名称'] == '血压', ['病人ID', '检查结果']]\n",
    "# pattern_pa\n",
    "def fill_press(df):\n",
    "    pattern_press = re.compile(r\"(?P<收缩压>\\d+)/(?P<舒张压>\\d+)\")\n",
    "#     res = \n",
    "# data_press.apply()\n",
    "pa = r\"(\\d+)/(\\d+)\"\n",
    "pa_name = r\"(?P<收缩压>\\d+)/(?P<舒张压>\\d+)\"\n",
    "# data_press[['收缩压', '舒张压']] = data_press.检查结果.str.extract(pa)\n",
    "press_re = data_press.检查结果.str.extract(pa_name)                                   # extract() 与 extractall() \n",
    "press_res = pd.concat([data_press, press_re], axis=1).set_index('病人ID')                           # 前者找第一个匹配 后者找全部匹配（所以有match）\n",
    "press_res.drop(['检查结果'], axis=1, inplace=True)\n",
    "# data_press"
   ]
  },
  {
   "cell_type": "markdown",
   "metadata": {},
   "source": [
    "心率的 诊断标志有问题。。。"
   ]
  },
  {
   "cell_type": "code",
   "execution_count": 16,
   "metadata": {},
   "outputs": [
    {
     "data": {
      "text/plain": [
       "0"
      ]
     },
     "execution_count": 16,
     "metadata": {},
     "output_type": "execute_result"
    },
    {
     "name": "stdout",
     "output_type": "stream",
     "text": [
      "<class 'pandas.core.frame.DataFrame'>\n",
      "Int64Index: 38563 entries, 8802052942 to 9500027090\n",
      "Data columns (total 3 columns):\n",
      "心率值    38563 non-null float64\n",
      "收缩压    22454 non-null object\n",
      "舒张压    22454 non-null object\n",
      "dtypes: float64(1), object(2)\n",
      "memory usage: 2.4+ MB\n"
     ]
    }
   ],
   "source": [
    "# sum(res.isnull().sum())\n",
    "# res == combined_ino_temp\n",
    "# res.isnull()\n",
    "# res.loc[res.index.isin(['3000045556']), 'ABO血型'] = 2\n",
    "# res\n",
    "\n",
    "# combined_ino_res['心率'].value_counts()#.at[:, '体检总结'] = data_report['体检总结']                #['肌酐(Cr)'] #体检总结\n",
    "# sample = combined_ino_temp.sample(1) #.index.is_unique\n",
    "# data_report = data_report.drop_duplicates()\n",
    "# data_report.index.is_unique\n",
    "# sample\n",
    "def heart_beat_float(df):\n",
    "#     pattern = re.compile(r\"*?(\\d+)*?\")\n",
    "#     df['检查结果'] = float(re.match(pattern, df['检查结果'].strip(' ')))\n",
    "#     df['检查结果'].strip(' ')\n",
    "    if type(df['检查结果']) != float:\n",
    "        df['检查结果'].strip(' ')\n",
    "    return df\n",
    "        \n",
    "# beat_pattern = re.compile(r\"()\")\n",
    "heart_beat = data_ino.loc[data_ino['项目名称'] == '心率', ['病人ID', \"检查结果\"]].set_index('病人ID')\n",
    "# heart_beat = heart_beat.apply(heart_beat_float, axis=0)\n",
    "# heart_beat.drop(type(heart_beat['检查结果'])!=float)\n",
    "# type(heart_beat['检查结果'])!=float\n",
    "# heart_beat.set_index('病人ID')\n",
    "#  利用掩码查看异常值 发现有奇怪文本“拒绝检查” 和 6 \"61 61\" \"正常\" 这样的异常数字\n",
    "mask = heart_beat.loc[:, ['检查结果']].applymap(lambda x: isinstance(x, str) and (len(x) == 2 or len(x) == 3) and x.isdigit()).values\n",
    "# mask = heart_beat.loc[:, ['检查结果']].applymap(lambda x: isinstance(x, int)).values\n",
    "heart_beat.loc[:, ['检查结果']] = heart_beat.loc[:, ['检查结果']].applymap(lambda x: float(x) if isinstance(x, str) and (len(x) == 2 or len(x) == 3) and x.isdigit() else np.nan)\n",
    "\n",
    "beat_press = pd.merge(heart_beat[mask], press_res, on='病人ID', how='left')\n",
    "beat_press.rename(columns={'检查结果':\"心率值\"}, inplace=True)\n",
    "# beat_press.drop_duplicates(inplace=True)\n",
    "beat_press = beat_press[~beat_press.index.duplicated(keep='first')]            # 删去重复的病人ID（index)\n",
    "sum(beat_press.index.duplicated())\n",
    "beat_press.info()"
   ]
  },
  {
   "cell_type": "code",
   "execution_count": 17,
   "metadata": {
    "jupyter": {
     "source_hidden": true
    }
   },
   "outputs": [],
   "source": [
    "# df = pd.DataFrame([[1, None], [5, 4], [4, 4]], columns=['a', 'b'])\n",
    "# def apply_test(input):\n",
    "#     if input.a == 1:\n",
    "#         input['b'] = 3\n",
    "#     return input\n",
    "# def test2(input):\n",
    "#     if input.isnull().sum() > 0:\n",
    "#         df.drop(input)\n",
    "#     return input\n",
    "# sum(df.isnull().sum())\n",
    "# # test_res = df.apply(test2, result_type='reduce')\n",
    "# # sum(test_res.isnull().sum())\n",
    "# # sum(df.isnull().sum())\n",
    "# df\n",
    "# test_res\n",
    "\n",
    "# df.info()"
   ]
  },
  {
   "cell_type": "code",
   "execution_count": 18,
   "metadata": {},
   "outputs": [
    {
     "data": {
      "text/plain": [
       "23607908"
      ]
     },
     "execution_count": 18,
     "metadata": {},
     "output_type": "execute_result"
    },
    {
     "data": {
      "text/plain": [
       "23607908"
      ]
     },
     "execution_count": 18,
     "metadata": {},
     "output_type": "execute_result"
    },
    {
     "data": {
      "text/plain": [
       "23607908"
      ]
     },
     "execution_count": 18,
     "metadata": {},
     "output_type": "execute_result"
    },
    {
     "data": {
      "text/plain": [
       "23607905"
      ]
     },
     "execution_count": 18,
     "metadata": {},
     "output_type": "execute_result"
    }
   ],
   "source": [
    "data_report = data_ino[['病人ID', '年龄', '性别' ,'体检总结']].copy().set_index('病人ID')\n",
    "# data_report = data_report.drop_duplicates()            ## 去重没有用？？？ 病人ID依然重复\n",
    "data_report = data_report[~data_report.index.duplicated(keep='first')]\n",
    "\n",
    "combined_ino_temp = combined_ino.copy()\n",
    "combined_ino_temp = pd.merge(combined_ino_temp, data_report, on='病人ID', how='left', left_index=True, sort=False)\n",
    "\n",
    "pattern_UP = re.compile(r' (?P<项目名称>[^↓\\n]+?)：[^↓]+? ↑')     # 非贪婪匹配 ? ; 匹配1+次 + ; 匹配非符号[^]\n",
    "pattern_DOWN = re.compile(r' (?P<项目名称>[^↑\\n]+?)：[^↑]+? ↓')     # 非贪婪匹配 ? ; 匹配1+次 + ; 匹配非符号[^]\n",
    "\n",
    "def fill_Combined_re(combined_ino, temp, pattern_UP=pattern_UP, pattern_DOWN=pattern_DOWN):\n",
    "#     pattern_UP = r' (?P<项目名称>[^↓\\n]+?)：[^↓]+? ↑'\n",
    "#     item_UP = combined_ino.体检总结.str.extractall(pattern_UP)\n",
    "#     list_UP = list(item_UP.项目名称.map(lambda x: x.strip()))\n",
    "    combined_ino\n",
    "    UP = pattern_UP.findall(str(combined_ino.体检总结))\n",
    "    list_UP = list(map(lambda x: x.strip(), UP))\n",
    "    for item in list_UP:\n",
    "        if item in temp.columns:\n",
    "#             if combined_ino[item] != 2:\n",
    "#                 print('病人: ', item, \" 上升值 :\", combined_ino[item])\n",
    "#                 print(item, ':', combined_ino.item)\n",
    "#             print(item)\n",
    "            combined_ino[item] = 2\n",
    "#             temp.loc[temp.index.isin([combined_ino.index[0]]), item] = 2\n",
    "#         else:\n",
    "#             print(item)\n",
    "    \n",
    "#     pattern_DOWN = r' (?P<项目名称>[^↑\\n]+?)：[^↑]+? ↓'\n",
    "#     item_DOWN = combined_ino.体检总结.str.extractall(pattern_DOWN)\n",
    "#     list_DOWN = list(item_DOWN.项目名称.map(lambda x: x.strip()))\n",
    "    DOWN = pattern_DOWN.findall(str(combined_ino.体检总结))\n",
    "    list_DOWN = list(map(lambda x: x.strip(), DOWN))\n",
    "    for item in list_DOWN:\n",
    "        if item in temp.columns:\n",
    "            temp_value = combined_ino[item]\n",
    "            combined_ino[item] = 1\n",
    "#             if temp_value != 1:\n",
    "#                 print('病人: ', item, \" 下降值 :\", combined_ino[item])\n",
    "#             temp.loc[temp.index.isin([combined_ino.index[0]]), item] = 1\n",
    "#         else:\n",
    "#             print(item)\n",
    "    return combined_ino\n",
    "\n",
    "# combined_ino_temp = combined_ino_temp.sample(1000)\n",
    "sum(combined_ino_temp.isnull().sum())\n",
    "combined_ino_res = combined_ino_temp.copy()\n",
    "res = combined_ino_temp.apply(fill_Combined_re, temp=combined_ino_res, axis=1)  #  apply 到每一行\n",
    "sum(combined_ino_temp.isnull().sum())\n",
    "sum(combined_ino_res.isnull().sum())\n",
    "sum(res.isnull().sum())"
   ]
  },
  {
   "cell_type": "markdown",
   "metadata": {},
   "source": [
    "测试正则表达式的正确性（似乎会漏掉NAN的数据，因为我感觉不止三个）"
   ]
  },
  {
   "cell_type": "code",
   "execution_count": 19,
   "metadata": {
    "jupyter": {
     "source_hidden": true
    }
   },
   "outputs": [],
   "source": [
    "# pattern_UP = r' (?P<项目名称>[^↓\\n]+?)：[^↓]+? ↑'\n",
    "# item_UP = test_src.str.extractall(pattern_UP)\n",
    "# pattern_DOWN = r' (?P<项目名称>[^↑\\n]+?)：[^↑]+? ↓'\n",
    "# item_DOWN = test_src.str.extractall(pattern_DOWN)\n",
    "# print(item_UP)\n",
    "# print(item_DOWN)\n",
    "# pattern = re.compile(r' [^↓\\n]+?：[^↓]+? ↑')\n",
    "for i in range(111110):\n",
    "    test_src = res.sample(1)\n",
    "    pattern = re.compile(r' (?P<项目名称>[^↓\\n]+?)：[^↓]+? ↑')     # 非贪婪匹配 ? ; 匹配1+次 + ; 匹配非符号[^]\n",
    "    pattern_res = pattern.findall(str(test_src.体检总结))\n",
    "    # pattern_res = pattern.findall(test_src.values[0])\n",
    "    for item in list(map(lambda x: x.strip(), pattern_res)):\n",
    "        if item in test_src.columns:\n",
    "            if test_src[item].values != 2:\n",
    "                print(test_src[item])            \n",
    "# type(res)"
   ]
  },
  {
   "cell_type": "code",
   "execution_count": 20,
   "metadata": {},
   "outputs": [],
   "source": [
    "train_df = pd.merge(res, beat_press, on='病人ID', how='left')\n",
    "# train_df\n",
    "\n",
    "combined_res = train_df.copy()\n",
    "patient_num = combined_res.shape[0]       # 样本总数\n",
    "def cut(df, cutoff):\n",
    "    total_row = df.shape[0]\n",
    "    for col in df.columns:\n",
    "        cnt = df[col].count()\n",
    "        if (cnt / total_row) < cutoff:\n",
    "            df.drop(col, axis=1, inplace=True) \n",
    "#         elif(cnt / total_row)\n",
    "# combined_res.apply(lambda x : x.isnull().sum()).plot()\n",
    "# cut(combined_res, 0.5)                   # 缺失值2/3以上就删掉\n",
    "combined_res.dropna(axis=1, thresh=patient_num/3, inplace=True)"
   ]
  },
  {
   "cell_type": "code",
   "execution_count": 21,
   "metadata": {},
   "outputs": [
    {
     "data": {
      "text/plain": [
       "(45375, 102)"
      ]
     },
     "execution_count": 21,
     "metadata": {},
     "output_type": "execute_result"
    }
   ],
   "source": [
    "combined_res.shape"
   ]
  },
  {
   "cell_type": "code",
   "execution_count": 22,
   "metadata": {},
   "outputs": [],
   "source": [
    "# plt.plot([-1,2,-5,3]) \n",
    "# plt.title(u'Linux公社的网址是www.linuxidc.com',fontproperties=myfont) \n",
    "# plt.show()"
   ]
  },
  {
   "cell_type": "code",
   "execution_count": 23,
   "metadata": {},
   "outputs": [
    {
     "data": {
      "text/plain": [
       "<matplotlib.axes._subplots.AxesSubplot at 0x7ff0f15f5b70>"
      ]
     },
     "execution_count": 23,
     "metadata": {},
     "output_type": "execute_result"
    },
    {
     "data": {
      "image/png": "[encoded data removed]",
      "text/plain": [
       "<Figure size 1800x720 with 2 Axes>"
      ]
     },
     "metadata": {},
     "output_type": "display_data"
    }
   ],
   "source": [
    "import missingno\n",
    "missingno.matrix(combined_res)"
   ]
  },
  {
   "cell_type": "code",
   "execution_count": 24,
   "metadata": {},
   "outputs": [],
   "source": [
    "gender_dict = {'男':1, '女':0}\n",
    "combined_res['性别'] = combined_res['性别'].map(gender_dict)"
   ]
  },
  {
   "cell_type": "code",
   "execution_count": 33,
   "metadata": {},
   "outputs": [
    {
     "data": {
      "text/html": [
       "<div>\n",
       "<style scoped>\n",
       "    .dataframe tbody tr th:only-of-type {\n",
       "        vertical-align: middle;\n",
       "    }\n",
       "\n",
       "    .dataframe tbody tr th {\n",
       "        vertical-align: top;\n",
       "    }\n",
       "\n",
       "    .dataframe thead th {\n",
       "        text-align: right;\n",
       "    }\n",
       "</style>\n",
       "<table border=\"1\" class=\"dataframe\">\n",
       "  <thead>\n",
       "    <tr style=\"text-align: right;\">\n",
       "      <th></th>\n",
       "      <th>心率值</th>\n",
       "    </tr>\n",
       "  </thead>\n",
       "  <tbody>\n",
       "    <tr>\n",
       "      <th>count</th>\n",
       "      <td>38563.000000</td>\n",
       "    </tr>\n",
       "    <tr>\n",
       "      <th>mean</th>\n",
       "      <td>73.337422</td>\n",
       "    </tr>\n",
       "    <tr>\n",
       "      <th>std</th>\n",
       "      <td>11.646334</td>\n",
       "    </tr>\n",
       "    <tr>\n",
       "      <th>min</th>\n",
       "      <td>11.000000</td>\n",
       "    </tr>\n",
       "    <tr>\n",
       "      <th>25%</th>\n",
       "      <td>67.000000</td>\n",
       "    </tr>\n",
       "    <tr>\n",
       "      <th>50%</th>\n",
       "      <td>72.000000</td>\n",
       "    </tr>\n",
       "    <tr>\n",
       "      <th>75%</th>\n",
       "      <td>78.000000</td>\n",
       "    </tr>\n",
       "    <tr>\n",
       "      <th>max</th>\n",
       "      <td>801.000000</td>\n",
       "    </tr>\n",
       "  </tbody>\n",
       "</table>\n",
       "</div>"
      ],
      "text/plain": [
       "                心率值\n",
       "count  38563.000000\n",
       "mean      73.337422\n",
       "std       11.646334\n",
       "min       11.000000\n",
       "25%       67.000000\n",
       "50%       72.000000\n",
       "75%       78.000000\n",
       "max      801.000000"
      ]
     },
     "execution_count": 33,
     "metadata": {},
     "output_type": "execute_result"
    },
    {
     "data": {
      "text/plain": [
       "心率值    72.0\n",
       "dtype: float64"
      ]
     },
     "execution_count": 33,
     "metadata": {},
     "output_type": "execute_result"
    }
   ],
   "source": [
    "combined_res.loc[:, ['心率值']].describe()              # 最小心率 最大心率惨不忍睹\n",
    "combined_res.loc[:, ['心率值']].median()            # 最小心率 最大心率惨不忍睹"
   ]
  },
  {
   "cell_type": "markdown",
   "metadata": {},
   "source": [
    "查看每一个项目的 值分布"
   ]
  },
  {
   "cell_type": "code",
   "execution_count": 34,
   "metadata": {},
   "outputs": [
    {
     "data": {
      "text/html": [
       "<div>\n",
       "<style scoped>\n",
       "    .dataframe tbody tr th:only-of-type {\n",
       "        vertical-align: middle;\n",
       "    }\n",
       "\n",
       "    .dataframe tbody tr th {\n",
       "        vertical-align: top;\n",
       "    }\n",
       "\n",
       "    .dataframe thead th {\n",
       "        text-align: right;\n",
       "    }\n",
       "</style>\n",
       "<table border=\"1\" class=\"dataframe\">\n",
       "  <thead>\n",
       "    <tr style=\"text-align: right;\">\n",
       "      <th></th>\n",
       "      <th>AST/ALT</th>\n",
       "      <th>BUN:CREA</th>\n",
       "      <th>P-R间期</th>\n",
       "      <th>P波</th>\n",
       "      <th>Q-T间期</th>\n",
       "      <th>QRS</th>\n",
       "      <th>QRS时间</th>\n",
       "      <th>RBC分布宽度标准差(RDW-SD)</th>\n",
       "      <th>RBC平均HGB浓度(MCHC)</th>\n",
       "      <th>ST段</th>\n",
       "      <th>...</th>\n",
       "      <th>间接胆红素</th>\n",
       "      <th>阴离子间隙</th>\n",
       "      <th>高密度脂蛋白胆固醇</th>\n",
       "      <th>年龄</th>\n",
       "      <th>性别</th>\n",
       "      <th>心率值</th>\n",
       "      <th>收缩压</th>\n",
       "      <th>舒张压</th>\n",
       "      <th>0.0</th>\n",
       "      <th>1.0</th>\n",
       "    </tr>\n",
       "    <tr>\n",
       "      <th>病人ID</th>\n",
       "      <th></th>\n",
       "      <th></th>\n",
       "      <th></th>\n",
       "      <th></th>\n",
       "      <th></th>\n",
       "      <th></th>\n",
       "      <th></th>\n",
       "      <th></th>\n",
       "      <th></th>\n",
       "      <th></th>\n",
       "      <th></th>\n",
       "      <th></th>\n",
       "      <th></th>\n",
       "      <th></th>\n",
       "      <th></th>\n",
       "      <th></th>\n",
       "      <th></th>\n",
       "      <th></th>\n",
       "      <th></th>\n",
       "      <th></th>\n",
       "      <th></th>\n",
       "    </tr>\n",
       "  </thead>\n",
       "  <tbody>\n",
       "    <tr>\n",
       "      <th>3000045556</th>\n",
       "      <td>0.0</td>\n",
       "      <td>0.0</td>\n",
       "      <td>0.0</td>\n",
       "      <td>0.0</td>\n",
       "      <td>0.0</td>\n",
       "      <td>0.0</td>\n",
       "      <td>0.0</td>\n",
       "      <td>0.0</td>\n",
       "      <td>0.0</td>\n",
       "      <td>0.0</td>\n",
       "      <td>...</td>\n",
       "      <td>0.0</td>\n",
       "      <td>0.0</td>\n",
       "      <td>0.0</td>\n",
       "      <td>5.0</td>\n",
       "      <td>1.0</td>\n",
       "      <td>0.0</td>\n",
       "      <td>110.0</td>\n",
       "      <td>70.0</td>\n",
       "      <td>0</td>\n",
       "      <td>1</td>\n",
       "    </tr>\n",
       "    <tr>\n",
       "      <th>3000099968</th>\n",
       "      <td>0.0</td>\n",
       "      <td>0.0</td>\n",
       "      <td>0.0</td>\n",
       "      <td>0.0</td>\n",
       "      <td>0.0</td>\n",
       "      <td>0.0</td>\n",
       "      <td>0.0</td>\n",
       "      <td>0.0</td>\n",
       "      <td>0.0</td>\n",
       "      <td>0.0</td>\n",
       "      <td>...</td>\n",
       "      <td>0.0</td>\n",
       "      <td>0.0</td>\n",
       "      <td>0.0</td>\n",
       "      <td>2.0</td>\n",
       "      <td>0.0</td>\n",
       "      <td>2.0</td>\n",
       "      <td>100.0</td>\n",
       "      <td>60.0</td>\n",
       "      <td>1</td>\n",
       "      <td>0</td>\n",
       "    </tr>\n",
       "    <tr>\n",
       "      <th>3000138629</th>\n",
       "      <td>0.0</td>\n",
       "      <td>0.0</td>\n",
       "      <td>0.0</td>\n",
       "      <td>0.0</td>\n",
       "      <td>0.0</td>\n",
       "      <td>0.0</td>\n",
       "      <td>0.0</td>\n",
       "      <td>0.0</td>\n",
       "      <td>0.0</td>\n",
       "      <td>0.0</td>\n",
       "      <td>...</td>\n",
       "      <td>0.0</td>\n",
       "      <td>0.0</td>\n",
       "      <td>0.0</td>\n",
       "      <td>3.0</td>\n",
       "      <td>1.0</td>\n",
       "      <td>1.0</td>\n",
       "      <td>100.0</td>\n",
       "      <td>70.0</td>\n",
       "      <td>0</td>\n",
       "      <td>1</td>\n",
       "    </tr>\n",
       "    <tr>\n",
       "      <th>3000139382</th>\n",
       "      <td>0.0</td>\n",
       "      <td>0.0</td>\n",
       "      <td>0.0</td>\n",
       "      <td>0.0</td>\n",
       "      <td>0.0</td>\n",
       "      <td>0.0</td>\n",
       "      <td>0.0</td>\n",
       "      <td>0.0</td>\n",
       "      <td>0.0</td>\n",
       "      <td>0.0</td>\n",
       "      <td>...</td>\n",
       "      <td>2.0</td>\n",
       "      <td>2.0</td>\n",
       "      <td>0.0</td>\n",
       "      <td>3.0</td>\n",
       "      <td>1.0</td>\n",
       "      <td>0.0</td>\n",
       "      <td>120.0</td>\n",
       "      <td>80.0</td>\n",
       "      <td>0</td>\n",
       "      <td>1</td>\n",
       "    </tr>\n",
       "    <tr>\n",
       "      <th>3000174746</th>\n",
       "      <td>0.0</td>\n",
       "      <td>0.0</td>\n",
       "      <td>0.0</td>\n",
       "      <td>0.0</td>\n",
       "      <td>0.0</td>\n",
       "      <td>0.0</td>\n",
       "      <td>0.0</td>\n",
       "      <td>0.0</td>\n",
       "      <td>0.0</td>\n",
       "      <td>0.0</td>\n",
       "      <td>...</td>\n",
       "      <td>0.0</td>\n",
       "      <td>0.0</td>\n",
       "      <td>1.0</td>\n",
       "      <td>4.0</td>\n",
       "      <td>1.0</td>\n",
       "      <td>2.0</td>\n",
       "      <td>130.0</td>\n",
       "      <td>86.0</td>\n",
       "      <td>0</td>\n",
       "      <td>1</td>\n",
       "    </tr>\n",
       "    <tr>\n",
       "      <th>...</th>\n",
       "      <td>...</td>\n",
       "      <td>...</td>\n",
       "      <td>...</td>\n",
       "      <td>...</td>\n",
       "      <td>...</td>\n",
       "      <td>...</td>\n",
       "      <td>...</td>\n",
       "      <td>...</td>\n",
       "      <td>...</td>\n",
       "      <td>...</td>\n",
       "      <td>...</td>\n",
       "      <td>...</td>\n",
       "      <td>...</td>\n",
       "      <td>...</td>\n",
       "      <td>...</td>\n",
       "      <td>...</td>\n",
       "      <td>...</td>\n",
       "      <td>...</td>\n",
       "      <td>...</td>\n",
       "      <td>...</td>\n",
       "      <td>...</td>\n",
       "    </tr>\n",
       "    <tr>\n",
       "      <th>9900451742</th>\n",
       "      <td>0.0</td>\n",
       "      <td>0.0</td>\n",
       "      <td>0.0</td>\n",
       "      <td>0.0</td>\n",
       "      <td>0.0</td>\n",
       "      <td>0.0</td>\n",
       "      <td>0.0</td>\n",
       "      <td>0.0</td>\n",
       "      <td>0.0</td>\n",
       "      <td>0.0</td>\n",
       "      <td>...</td>\n",
       "      <td>0.0</td>\n",
       "      <td>0.0</td>\n",
       "      <td>0.0</td>\n",
       "      <td>4.0</td>\n",
       "      <td>1.0</td>\n",
       "      <td>0.0</td>\n",
       "      <td>100.0</td>\n",
       "      <td>70.0</td>\n",
       "      <td>0</td>\n",
       "      <td>1</td>\n",
       "    </tr>\n",
       "    <tr>\n",
       "      <th>9900481892</th>\n",
       "      <td>0.0</td>\n",
       "      <td>0.0</td>\n",
       "      <td>0.0</td>\n",
       "      <td>0.0</td>\n",
       "      <td>0.0</td>\n",
       "      <td>0.0</td>\n",
       "      <td>0.0</td>\n",
       "      <td>0.0</td>\n",
       "      <td>0.0</td>\n",
       "      <td>0.0</td>\n",
       "      <td>...</td>\n",
       "      <td>0.0</td>\n",
       "      <td>0.0</td>\n",
       "      <td>0.0</td>\n",
       "      <td>2.0</td>\n",
       "      <td>0.0</td>\n",
       "      <td>3.0</td>\n",
       "      <td>100.0</td>\n",
       "      <td>70.0</td>\n",
       "      <td>1</td>\n",
       "      <td>0</td>\n",
       "    </tr>\n",
       "    <tr>\n",
       "      <th>9900485423</th>\n",
       "      <td>0.0</td>\n",
       "      <td>0.0</td>\n",
       "      <td>0.0</td>\n",
       "      <td>0.0</td>\n",
       "      <td>0.0</td>\n",
       "      <td>0.0</td>\n",
       "      <td>0.0</td>\n",
       "      <td>0.0</td>\n",
       "      <td>0.0</td>\n",
       "      <td>0.0</td>\n",
       "      <td>...</td>\n",
       "      <td>0.0</td>\n",
       "      <td>0.0</td>\n",
       "      <td>0.0</td>\n",
       "      <td>1.0</td>\n",
       "      <td>1.0</td>\n",
       "      <td>0.0</td>\n",
       "      <td>130.0</td>\n",
       "      <td>80.0</td>\n",
       "      <td>0</td>\n",
       "      <td>1</td>\n",
       "    </tr>\n",
       "    <tr>\n",
       "      <th>9900492476</th>\n",
       "      <td>0.0</td>\n",
       "      <td>0.0</td>\n",
       "      <td>0.0</td>\n",
       "      <td>0.0</td>\n",
       "      <td>0.0</td>\n",
       "      <td>0.0</td>\n",
       "      <td>0.0</td>\n",
       "      <td>0.0</td>\n",
       "      <td>0.0</td>\n",
       "      <td>0.0</td>\n",
       "      <td>...</td>\n",
       "      <td>0.0</td>\n",
       "      <td>0.0</td>\n",
       "      <td>0.0</td>\n",
       "      <td>1.0</td>\n",
       "      <td>0.0</td>\n",
       "      <td>3.0</td>\n",
       "      <td>100.0</td>\n",
       "      <td>60.0</td>\n",
       "      <td>1</td>\n",
       "      <td>0</td>\n",
       "    </tr>\n",
       "    <tr>\n",
       "      <th>9900537646</th>\n",
       "      <td>0.0</td>\n",
       "      <td>0.0</td>\n",
       "      <td>0.0</td>\n",
       "      <td>0.0</td>\n",
       "      <td>0.0</td>\n",
       "      <td>0.0</td>\n",
       "      <td>0.0</td>\n",
       "      <td>0.0</td>\n",
       "      <td>0.0</td>\n",
       "      <td>0.0</td>\n",
       "      <td>...</td>\n",
       "      <td>0.0</td>\n",
       "      <td>0.0</td>\n",
       "      <td>0.0</td>\n",
       "      <td>2.0</td>\n",
       "      <td>1.0</td>\n",
       "      <td>0.0</td>\n",
       "      <td>100.0</td>\n",
       "      <td>70.0</td>\n",
       "      <td>0</td>\n",
       "      <td>1</td>\n",
       "    </tr>\n",
       "  </tbody>\n",
       "</table>\n",
       "<p>45375 rows × 103 columns</p>\n",
       "</div>"
      ],
      "text/plain": [
       "            AST/ALT  BUN:CREA  P-R间期   P波  Q-T间期  QRS  QRS时间  \\\n",
       "病人ID                                                           \n",
       "3000045556      0.0       0.0    0.0  0.0    0.0  0.0    0.0   \n",
       "3000099968      0.0       0.0    0.0  0.0    0.0  0.0    0.0   \n",
       "3000138629      0.0       0.0    0.0  0.0    0.0  0.0    0.0   \n",
       "3000139382      0.0       0.0    0.0  0.0    0.0  0.0    0.0   \n",
       "3000174746      0.0       0.0    0.0  0.0    0.0  0.0    0.0   \n",
       "...             ...       ...    ...  ...    ...  ...    ...   \n",
       "9900451742      0.0       0.0    0.0  0.0    0.0  0.0    0.0   \n",
       "9900481892      0.0       0.0    0.0  0.0    0.0  0.0    0.0   \n",
       "9900485423      0.0       0.0    0.0  0.0    0.0  0.0    0.0   \n",
       "9900492476      0.0       0.0    0.0  0.0    0.0  0.0    0.0   \n",
       "9900537646      0.0       0.0    0.0  0.0    0.0  0.0    0.0   \n",
       "\n",
       "            RBC分布宽度标准差(RDW-SD)  RBC平均HGB浓度(MCHC)  ST段  ...  间接胆红素  阴离子间隙  \\\n",
       "病人ID                                                   ...                 \n",
       "3000045556                 0.0               0.0  0.0  ...    0.0    0.0   \n",
       "3000099968                 0.0               0.0  0.0  ...    0.0    0.0   \n",
       "3000138629                 0.0               0.0  0.0  ...    0.0    0.0   \n",
       "3000139382                 0.0               0.0  0.0  ...    2.0    2.0   \n",
       "3000174746                 0.0               0.0  0.0  ...    0.0    0.0   \n",
       "...                        ...               ...  ...  ...    ...    ...   \n",
       "9900451742                 0.0               0.0  0.0  ...    0.0    0.0   \n",
       "9900481892                 0.0               0.0  0.0  ...    0.0    0.0   \n",
       "9900485423                 0.0               0.0  0.0  ...    0.0    0.0   \n",
       "9900492476                 0.0               0.0  0.0  ...    0.0    0.0   \n",
       "9900537646                 0.0               0.0  0.0  ...    0.0    0.0   \n",
       "\n",
       "            高密度脂蛋白胆固醇   年龄   性别  心率值    收缩压   舒张压  0.0  1.0  \n",
       "病人ID                                                         \n",
       "3000045556        0.0  5.0  1.0  0.0  110.0  70.0    0    1  \n",
       "3000099968        0.0  2.0  0.0  2.0  100.0  60.0    1    0  \n",
       "3000138629        0.0  3.0  1.0  1.0  100.0  70.0    0    1  \n",
       "3000139382        0.0  3.0  1.0  0.0  120.0  80.0    0    1  \n",
       "3000174746        1.0  4.0  1.0  2.0  130.0  86.0    0    1  \n",
       "...               ...  ...  ...  ...    ...   ...  ...  ...  \n",
       "9900451742        0.0  4.0  1.0  0.0  100.0  70.0    0    1  \n",
       "9900481892        0.0  2.0  0.0  3.0  100.0  70.0    1    0  \n",
       "9900485423        0.0  1.0  1.0  0.0  130.0  80.0    0    1  \n",
       "9900492476        0.0  1.0  0.0  3.0  100.0  60.0    1    0  \n",
       "9900537646        0.0  2.0  1.0  0.0  100.0  70.0    0    1  \n",
       "\n",
       "[45375 rows x 103 columns]"
      ]
     },
     "execution_count": 34,
     "metadata": {},
     "output_type": "execute_result"
    }
   ],
   "source": [
    "imp_median = SimpleImputer(strategy=\"median\")                 # 使用中位数填充\n",
    "combined_temp = combined_res.drop(columns=['体检总结'], axis=1)\n",
    "combined_temp.loc[:, :] = imp_median.fit_transform(combined_temp)\n",
    "\n",
    "from sklearn.preprocessing import KBinsDiscretizer\n",
    "from sklearn.preprocessing import OneHotEncoder\n",
    "# combined_temp\n",
    "\n",
    "combined_temp.loc[:, '年龄'] = np.where(combined_temp.loc[:, '年龄']>100,  combined_temp.loc[:, '年龄'].median(), combined_temp.loc[:, '年龄'])\n",
    "combined_temp.loc[:, '心率值'] = np.where(combined_temp.loc[:, '心率值']>150,  combined_temp.loc[:, '心率值'].median(), combined_temp.loc[:, '心率值'])\n",
    "\n",
    "# 连续变量编码： 年龄：kmeans分箱， 心率： 等位分箱（数量相等）\n",
    "width_est = KBinsDiscretizer(n_bins=6, encode='ordinal', strategy='kmeans')          \n",
    "count_est = KBinsDiscretizer(n_bins=5, encode='ordinal', strategy='quantile')         \n",
    "age_dummies = combined_temp.loc[:, '年龄'].values.reshape(-1, 1) \n",
    "combined_temp.loc[:, '年龄'] = width_est.fit_transform(age_dummies)\n",
    "heart_dummies = combined_temp.loc[:, '心率值'].values.reshape(-1, 1)\n",
    "combined_temp.loc[:, '心率值'] = count_est.fit_transform(heart_dummies)\n",
    "\n",
    "# Onehot-encode 性别（无关离散）\n",
    "# gender_enc = OneHotEncoder()\n",
    "# gender_bin = combined_temp.loc[:, '性别'].values.reshape(-1, 1)\n",
    "# gender_mat = gender_enc.fit_transform(gender_bin).astype(int)\n",
    "# gender_mat.columns = ['男', '女']\n",
    "# gender_mat\n",
    "# combined_temp = pd.concat([combined_temp, gender_mat], axis=1)\n",
    "# # dummies\n",
    "gender_bin = pd.get_dummies(combined_temp['性别'])\n",
    "# gender_bin.rename(columns={0:'男', 1:'女'}, inplace=True)\n",
    "combined_temp = pd.concat([combined_temp, gender_bin], axis=1)\n",
    "combined_temp\n",
    "\n",
    "# combined_temp = combined_temp.drop(columns=['性别'])         "
   ]
  },
  {
   "cell_type": "markdown",
   "metadata": {},
   "source": [
    "## 转化为有监督回归问题\n",
    "参考金融风控领域的信用分的模型$^{【1】}$:$$Score = A-B*log(odds )$$  其中 $$log(odds) = w_1X_1 + w_2X_2 + w_3X_3 +...+w_nX_n = W^{T}X+b$$\n",
    "其中A为补偿，B为刻度。引入违约翻倍系数PDO：\n",
    "$$Score +PDO = A-B*log(2*odds)$$\n",
    "使得$log(odds)$违约比率（这里可以理解为非健康：健康比例,$odds = \\frac{p}{1-p}$）翻倍时，分数为$Score+PDO$,\n",
    "    解两个方程，得$$B=PDO/ln(2)$$ $$A = Score_0 + B*ln(odds_0)$$\n",
    "    这里的$odds_0$为基准坏好比例，这里为$\\frac{19832}{25543}=0.776416$\n",
    "    $ln(odds_0) = -0.253066$ 设置基准分$Score_0$为70，$PDO=20$ 代入得\n",
    "    $$B = 28.853900； A = 62.698058$$\n",
    "    \n",
    "引用【1】：[信用评分卡模型开发与应用](shichen.name/slide/20171115scorecard/#60)\n",
    "    \n",
    "    【2】：基于XGBOOST的用户信用评分建模_韩修龙"
   ]
  },
  {
   "cell_type": "code",
   "execution_count": 35,
   "metadata": {},
   "outputs": [
    {
     "data": {
      "text/plain": [
       "PCA(copy=True, iterated_power='auto', n_components=0.99, random_state=None,\n",
       "    svd_solver='auto', tol=0.0, whiten=False)"
      ]
     },
     "execution_count": 35,
     "metadata": {},
     "output_type": "execute_result"
    },
    {
     "name": "stdout",
     "output_type": "stream",
     "text": [
      "[7.05030472e-01 2.19293027e-01 1.25423395e-02 1.02337394e-02\n",
      " 5.22931078e-03 4.72072427e-03 4.16875506e-03 3.44167927e-03\n",
      " 2.80596766e-03 2.58647691e-03 2.38287910e-03 2.09597451e-03\n",
      " 1.91578219e-03 1.80573301e-03 1.49768339e-03 1.35967778e-03\n",
      " 1.25752748e-03 1.19759935e-03 1.09673803e-03 9.35573196e-04\n",
      " 9.10170583e-04 8.37677384e-04 8.01349199e-04 7.41638400e-04\n",
      " 7.30898382e-04 6.76822984e-04]\n",
      "[2.00767037e+02 6.24466785e+01 3.57160214e+00 2.91419678e+00\n",
      " 1.48911753e+00 1.34429058e+00 1.18710983e+00 9.80065085e-01\n",
      " 7.99037539e-01 7.36534556e-01 6.78557304e-01 5.96857312e-01\n",
      " 5.45545092e-01 5.14207089e-01 4.26485761e-01 3.87186782e-01\n",
      " 3.58098091e-01 3.41032741e-01 3.12311104e-01 2.66417220e-01\n",
      " 2.59183480e-01 2.38540053e-01 2.28195108e-01 2.11191644e-01\n",
      " 2.08133277e-01 1.92734570e-01]\n",
      "26\n"
     ]
    }
   ],
   "source": [
    "from sklearn.cluster import KMeans\n",
    "\n",
    "from sklearn.decomposition import PCA          ## PCA 无监督降维得到新的正交特征矩阵，模型可解释性 差\n",
    "\n",
    "y_pred = KMeans(n_clusters=5).fit_predict(combined_temp)\n",
    "\n",
    "# cluster_dict = {}\n",
    "# for index, v in enumerate(y_pred):\n",
    "#     cluster_dict[combined_temp.columns[index]] = v\n",
    "\n",
    "pca = PCA(n_components=0.99)             # 不直接指定降维的维度，而指定降维后的主成分方差和 比例\n",
    "train_input = combined_temp.loc[:, combined_temp.columns]   # 取 输入\n",
    "pca.fit(train_input)\n",
    "print(pca.explained_variance_ratio_)  # 代表降维后的各主成分的方差值。方差值越大，则说明越是重要的主成分 \n",
    "print(pca.explained_variance_)        # 代表降维后的各主成分的方差值占总方差值的比例，这个比例越大，则越是重要的主成分。\n",
    "print(pca.n_components_)\n",
    "\n",
    "pca_res = pca.transform(train_input)\n",
    "# pca_res.columns\n",
    "\n",
    "# sum(combined_ino_res.isnull().sum())\n",
    "# # combined_ino_res == combined_ino_temp\n",
    "# combined_ino_temp.isnull().sum()\n",
    "\n",
    "# sample.get('总胆红素(TBIL)')                   # 验证OK\n",
    "# sample.get('总胆红素(TBIL)')                   # 验证OK\n",
    "# sample.columns              # 验证OK\n",
    "# combined_ino_temp.index.is_unique            # 病人ID重复 == \n",
    "\n",
    "# data_ino.info()\n",
    "# data_ino[(data_ino.项目代码 == 1004)]# & (data_ino.检查结果 == '阴性')]     # 同一个项目代码对应不同的 项目名称 所以 检查结果 和 异常提示 都不一样\n",
    "\n",
    "#data_ino[data_ino['项目名称'] == '血压']\n",
    "\n",
    "# test_src = res.sample(1)\n",
    "# # test_src.values[0]\n",
    "# test_src\n",
    "\n",
    "# # list(item_DOWN.项目名称.map(lambda x: x.strip()))\n",
    "# test_src.index\n",
    "# item_DOWN.index[0]"
   ]
  },
  {
   "cell_type": "markdown",
   "metadata": {},
   "source": [
    "发现同样的**项目名称**居然对应不一样的**项目代码**， 同样的**项目代码** 对应两个**项目名称** =="
   ]
  },
  {
   "cell_type": "code",
   "execution_count": 36,
   "metadata": {},
   "outputs": [
    {
     "data": {
      "text/html": [
       "<div>\n",
       "<style scoped>\n",
       "    .dataframe tbody tr th:only-of-type {\n",
       "        vertical-align: middle;\n",
       "    }\n",
       "\n",
       "    .dataframe tbody tr th {\n",
       "        vertical-align: top;\n",
       "    }\n",
       "\n",
       "    .dataframe thead th {\n",
       "        text-align: right;\n",
       "    }\n",
       "</style>\n",
       "<table border=\"1\" class=\"dataframe\">\n",
       "  <thead>\n",
       "    <tr style=\"text-align: right;\">\n",
       "      <th></th>\n",
       "      <th>异常提示</th>\n",
       "      <th>+</th>\n",
       "      <th>-</th>\n",
       "      <th>h</th>\n",
       "      <th>l</th>\n",
       "      <th>z</th>\n",
       "      <th>阳性</th>\n",
       "      <th>阴性</th>\n",
       "    </tr>\n",
       "    <tr>\n",
       "      <th>项目代码</th>\n",
       "      <th>项目名称</th>\n",
       "      <th></th>\n",
       "      <th></th>\n",
       "      <th></th>\n",
       "      <th></th>\n",
       "      <th></th>\n",
       "      <th></th>\n",
       "      <th></th>\n",
       "    </tr>\n",
       "  </thead>\n",
       "  <tbody>\n",
       "    <tr>\n",
       "      <th>1002</th>\n",
       "      <th>梅毒抗体实验(TPPA)</th>\n",
       "      <td>NaN</td>\n",
       "      <td>NaN</td>\n",
       "      <td>NaN</td>\n",
       "      <td>NaN</td>\n",
       "      <td>1.0</td>\n",
       "      <td>NaN</td>\n",
       "      <td>NaN</td>\n",
       "    </tr>\n",
       "    <tr>\n",
       "      <th rowspan=\"2\" valign=\"top\">1004</th>\n",
       "      <th>梅毒密螺旋体抗体测定</th>\n",
       "      <td>NaN</td>\n",
       "      <td>NaN</td>\n",
       "      <td>2.0</td>\n",
       "      <td>NaN</td>\n",
       "      <td>80.0</td>\n",
       "      <td>NaN</td>\n",
       "      <td>NaN</td>\n",
       "    </tr>\n",
       "    <tr>\n",
       "      <th>梅毒螺旋体粒子凝集反应</th>\n",
       "      <td>NaN</td>\n",
       "      <td>NaN</td>\n",
       "      <td>1.0</td>\n",
       "      <td>NaN</td>\n",
       "      <td>21.0</td>\n",
       "      <td>2.0</td>\n",
       "      <td>25.0</td>\n",
       "    </tr>\n",
       "    <tr>\n",
       "      <th>1006</th>\n",
       "      <th>霉菌</th>\n",
       "      <td>NaN</td>\n",
       "      <td>NaN</td>\n",
       "      <td>NaN</td>\n",
       "      <td>NaN</td>\n",
       "      <td>43.0</td>\n",
       "      <td>NaN</td>\n",
       "      <td>NaN</td>\n",
       "    </tr>\n",
       "    <tr>\n",
       "      <th>1007</th>\n",
       "      <th>霉菌</th>\n",
       "      <td>NaN</td>\n",
       "      <td>NaN</td>\n",
       "      <td>NaN</td>\n",
       "      <td>NaN</td>\n",
       "      <td>8906.0</td>\n",
       "      <td>NaN</td>\n",
       "      <td>NaN</td>\n",
       "    </tr>\n",
       "    <tr>\n",
       "      <th>...</th>\n",
       "      <th>...</th>\n",
       "      <td>...</td>\n",
       "      <td>...</td>\n",
       "      <td>...</td>\n",
       "      <td>...</td>\n",
       "      <td>...</td>\n",
       "      <td>...</td>\n",
       "      <td>...</td>\n",
       "    </tr>\n",
       "    <tr>\n",
       "      <th>3937</th>\n",
       "      <th>谷丙转氨酶</th>\n",
       "      <td>NaN</td>\n",
       "      <td>NaN</td>\n",
       "      <td>14.0</td>\n",
       "      <td>NaN</td>\n",
       "      <td>408.0</td>\n",
       "      <td>NaN</td>\n",
       "      <td>NaN</td>\n",
       "    </tr>\n",
       "    <tr>\n",
       "      <th>3977</th>\n",
       "      <th>EB IGA</th>\n",
       "      <td>NaN</td>\n",
       "      <td>NaN</td>\n",
       "      <td>NaN</td>\n",
       "      <td>NaN</td>\n",
       "      <td>2.0</td>\n",
       "      <td>NaN</td>\n",
       "      <td>NaN</td>\n",
       "    </tr>\n",
       "    <tr>\n",
       "      <th>3978</th>\n",
       "      <th>EB IGM</th>\n",
       "      <td>NaN</td>\n",
       "      <td>NaN</td>\n",
       "      <td>NaN</td>\n",
       "      <td>NaN</td>\n",
       "      <td>2.0</td>\n",
       "      <td>NaN</td>\n",
       "      <td>NaN</td>\n",
       "    </tr>\n",
       "    <tr>\n",
       "      <th rowspan=\"2\" valign=\"top\">4057</th>\n",
       "      <th>CRP(C反应蛋白）</th>\n",
       "      <td>NaN</td>\n",
       "      <td>NaN</td>\n",
       "      <td>NaN</td>\n",
       "      <td>NaN</td>\n",
       "      <td>5.0</td>\n",
       "      <td>NaN</td>\n",
       "      <td>NaN</td>\n",
       "    </tr>\n",
       "    <tr>\n",
       "      <th>CRP(超敏C反应蛋白）</th>\n",
       "      <td>NaN</td>\n",
       "      <td>NaN</td>\n",
       "      <td>NaN</td>\n",
       "      <td>NaN</td>\n",
       "      <td>1.0</td>\n",
       "      <td>NaN</td>\n",
       "      <td>NaN</td>\n",
       "    </tr>\n",
       "  </tbody>\n",
       "</table>\n",
       "<p>300 rows × 7 columns</p>\n",
       "</div>"
      ],
      "text/plain": [
       "异常提示                +   -     h   l       z   阳性    阴性\n",
       "项目代码 项目名称                                             \n",
       "1002 梅毒抗体实验(TPPA) NaN NaN   NaN NaN     1.0  NaN   NaN\n",
       "1004 梅毒密螺旋体抗体测定   NaN NaN   2.0 NaN    80.0  NaN   NaN\n",
       "     梅毒螺旋体粒子凝集反应  NaN NaN   1.0 NaN    21.0  2.0  25.0\n",
       "1006 霉菌           NaN NaN   NaN NaN    43.0  NaN   NaN\n",
       "1007 霉菌           NaN NaN   NaN NaN  8906.0  NaN   NaN\n",
       "...                ..  ..   ...  ..     ...  ...   ...\n",
       "3937 谷丙转氨酶        NaN NaN  14.0 NaN   408.0  NaN   NaN\n",
       "3977 EB IGA       NaN NaN   NaN NaN     2.0  NaN   NaN\n",
       "3978 EB IGM       NaN NaN   NaN NaN     2.0  NaN   NaN\n",
       "4057 CRP(C反应蛋白）   NaN NaN   NaN NaN     5.0  NaN   NaN\n",
       "     CRP(超敏C反应蛋白） NaN NaN   NaN NaN     1.0  NaN   NaN\n",
       "\n",
       "[300 rows x 7 columns]"
      ]
     },
     "execution_count": 36,
     "metadata": {},
     "output_type": "execute_result"
    }
   ],
   "source": [
    "data_ino.pivot_table(index=['项目代码', '项目名称'], columns='异常提示', values='诊断标志', aggfunc=len)"
   ]
  },
  {
   "cell_type": "code",
   "execution_count": 37,
   "metadata": {},
   "outputs": [
    {
     "data": {
      "text/plain": [
       "<Figure size 1440x504 with 0 Axes>"
      ]
     },
     "execution_count": 37,
     "metadata": {},
     "output_type": "execute_result"
    },
    {
     "data": {
      "text/plain": [
       "<matplotlib.axes._subplots.AxesSubplot at 0x7ff11d8be278>"
      ]
     },
     "execution_count": 37,
     "metadata": {},
     "output_type": "execute_result"
    },
    {
     "data": {
      "text/plain": [
       "Text(0.5, 1.0, 'gender-age')"
      ]
     },
     "execution_count": 37,
     "metadata": {},
     "output_type": "execute_result"
    },
    {
     "data": {
      "image/png": "[encoded data removed]",
      "text/plain": [
       "<Figure size 1440x504 with 1 Axes>"
      ]
     },
     "metadata": {},
     "output_type": "display_data"
    }
   ],
   "source": [
    "data_ino_age = data_ino[['年龄', '病人ID', '性别']].copy()\n",
    "data_ino_age_temp = data_ino_age.rename(columns = {'年龄': 'age', '性别': 'gender'})\n",
    "data_ino_age_temp.loc[data_ino_age_temp.gender == '男', ['gender']] = 'male'               # sns 不支持中文，除非加载字体\n",
    "data_ino_age_temp.loc[data_ino_age_temp.gender == '女', ['gender']] = 'female'\n",
    "data_ino_age_temp = data_ino_age_temp.drop_duplicates()\n",
    "plt.figure(figsize=(20, 7))\n",
    "sns.violinplot(x='age', data=data_ino_age_temp, orient='h', y='gender', split=True, palette='Set2', fontproperties=myfont)\n",
    "plt.title('gender-age')\n",
    "plt.show()"
   ]
  },
  {
   "cell_type": "markdown",
   "metadata": {},
   "source": [
    "男性最大197岁应该是录入错误"
   ]
  },
  {
   "cell_type": "code",
   "execution_count": 38,
   "metadata": {},
   "outputs": [
    {
     "data": {
      "image/png": "[encoded data removed]",
      "text/plain": [
       "<Figure size 1440x432 with 1 Axes>"
      ]
     },
     "metadata": {},
     "output_type": "display_data"
    }
   ],
   "source": [
    "# age = data_ino[['病人ID', '年龄']].groupby(['病人ID'])\n",
    "data_ino_female = data_ino[data_ino.性别.isin([\"女\", ])]\n",
    "data_ino_male = data_ino[data_ino.性别.isin([\"男\", ])]\n",
    "age_female = data_ino_female[['年龄', '病人ID']]\n",
    "age_male = data_ino_male[['年龄', '病人ID']]\n",
    "# age_mask = age.duplicated()\n",
    "age_dup_female = age_female.drop_duplicates()\n",
    "age_dup_male = age_male.drop_duplicates()\n",
    "# age_dup = age_dup[['病人ID', '年龄']].value_counts()\n",
    "\n",
    "# age_dup_female.年龄.value_counts().sort_index().plot.bar(figsize = (20, 5))\n",
    "# age_dup_male_count = age_dup_male.年龄.value_counts().sort_index()\n",
    "# fig, axis1 = plt.subplots(1,1,figsize=(20,5))\n",
    "# age_dup_male_count['age'] = age_dup_male_count.index\n",
    "# age_dup_male_count['count'] = age_dup_male_count[age_dup_male_count['age']]\n",
    "# age_dup_male_count_df = age_dup_male_count.to_frame()\n",
    "# age_dup_male_count_df[age] = age_dup_male_count_df.index\n",
    "# sns.barplot(age_dup_male_count_df.index, age_dup_male_count_df.年龄, data = age_dup_male_count)\n",
    "g = sns.countplot(x='年龄', data = age_dup_male, palette='rainbow')\n",
    "# g.set_axis_labels(\"age\", \"count\")\n",
    "# plt.show()\n",
    "g1 = sns.countplot(x='年龄', data = age_dup_female, palette='ocean_r')\n",
    "# g1.set_axis_labels('age', 'count')\n",
    "# age_dup.年龄.value_counts()\n",
    "# age_dup_male"
   ]
  },
  {
   "cell_type": "code",
   "execution_count": 39,
   "metadata": {
    "scrolled": true
   },
   "outputs": [
    {
     "data": {
      "text/html": [
       "<div>\n",
       "<style scoped>\n",
       "    .dataframe tbody tr th:only-of-type {\n",
       "        vertical-align: middle;\n",
       "    }\n",
       "\n",
       "    .dataframe tbody tr th {\n",
       "        vertical-align: top;\n",
       "    }\n",
       "\n",
       "    .dataframe thead th {\n",
       "        text-align: right;\n",
       "    }\n",
       "</style>\n",
       "<table border=\"1\" class=\"dataframe\">\n",
       "  <thead>\n",
       "    <tr style=\"text-align: right;\">\n",
       "      <th>诊断类型</th>\n",
       "      <th>疾病诊断</th>\n",
       "      <th>阳性体征</th>\n",
       "      <th>label</th>\n",
       "    </tr>\n",
       "    <tr>\n",
       "      <th>诊断名称</th>\n",
       "      <th></th>\n",
       "      <th></th>\n",
       "      <th></th>\n",
       "    </tr>\n",
       "  </thead>\n",
       "  <tbody>\n",
       "    <tr>\n",
       "      <th>A/G增高</th>\n",
       "      <td>0.0</td>\n",
       "      <td>33.0</td>\n",
       "      <td>0.0</td>\n",
       "    </tr>\n",
       "    <tr>\n",
       "      <th>A型预激综合征</th>\n",
       "      <td>2.0</td>\n",
       "      <td>0.0</td>\n",
       "      <td>0.0</td>\n",
       "    </tr>\n",
       "    <tr>\n",
       "      <th>B超 : 胆囊息肉</th>\n",
       "      <td>1.0</td>\n",
       "      <td>0.0</td>\n",
       "      <td>0.0</td>\n",
       "    </tr>\n",
       "    <tr>\n",
       "      <th>B超: 肝硬化？门静脉高压？</th>\n",
       "      <td>0.0</td>\n",
       "      <td>1.0</td>\n",
       "      <td>0.0</td>\n",
       "    </tr>\n",
       "    <tr>\n",
       "      <th>B超子宫异常回声</th>\n",
       "      <td>9.0</td>\n",
       "      <td>0.0</td>\n",
       "      <td>0.0</td>\n",
       "    </tr>\n",
       "    <tr>\n",
       "      <th>...</th>\n",
       "      <td>...</td>\n",
       "      <td>...</td>\n",
       "      <td>...</td>\n",
       "    </tr>\n",
       "    <tr>\n",
       "      <th>鼻中隔偏曲</th>\n",
       "      <td>854.0</td>\n",
       "      <td>0.0</td>\n",
       "      <td>3.0</td>\n",
       "    </tr>\n",
       "    <tr>\n",
       "      <th>鼻咽炎</th>\n",
       "      <td>193.0</td>\n",
       "      <td>0.0</td>\n",
       "      <td>1.0</td>\n",
       "    </tr>\n",
       "    <tr>\n",
       "      <th>鼻息肉</th>\n",
       "      <td>13.0</td>\n",
       "      <td>0.0</td>\n",
       "      <td>0.0</td>\n",
       "    </tr>\n",
       "    <tr>\n",
       "      <th>鼻炎</th>\n",
       "      <td>0.0</td>\n",
       "      <td>258.0</td>\n",
       "      <td>0.0</td>\n",
       "    </tr>\n",
       "    <tr>\n",
       "      <th>（宫颈涂片）查见大量表层细胞及炎细胞，少量中底层细胞、颈管上皮细胞。</th>\n",
       "      <td>2.0</td>\n",
       "      <td>0.0</td>\n",
       "      <td>0.0</td>\n",
       "    </tr>\n",
       "  </tbody>\n",
       "</table>\n",
       "<p>1005 rows × 3 columns</p>\n",
       "</div>"
      ],
      "text/plain": [
       "诊断类型                                 疾病诊断   阳性体征  label\n",
       "诊断名称                                                   \n",
       "A/G增高                                 0.0   33.0    0.0\n",
       "A型预激综合征                               2.0    0.0    0.0\n",
       "B超 : 胆囊息肉                             1.0    0.0    0.0\n",
       "B超: 肝硬化？门静脉高压？                        0.0    1.0    0.0\n",
       "B超子宫异常回声                              9.0    0.0    0.0\n",
       "...                                   ...    ...    ...\n",
       "鼻中隔偏曲                               854.0    0.0    3.0\n",
       "鼻咽炎                                 193.0    0.0    1.0\n",
       "鼻息肉                                  13.0    0.0    0.0\n",
       "鼻炎                                    0.0  258.0    0.0\n",
       "（宫颈涂片）查见大量表层细胞及炎细胞，少量中底层细胞、颈管上皮细胞。    2.0    0.0    0.0\n",
       "\n",
       "[1005 rows x 3 columns]"
      ]
     },
     "execution_count": 39,
     "metadata": {},
     "output_type": "execute_result"
    }
   ],
   "source": [
    "disease_rate = data.groupby('诊断名称')['诊断类型'].value_counts().unstack().fillna(0)\n",
    "# 发病人数：kmeans分箱\n",
    "kmeans_bins = KBinsDiscretizer(n_bins=6, encode='ordinal', strategy='kmeans')    \n",
    "disease_col = disease_rate.loc[:, '疾病诊断'].values.reshape(-1, 1)\n",
    "\n",
    "disease_rate.loc[:, 'label'] = kmeans_bins.fit_transform(disease_col)\n",
    "disease_rate"
   ]
  },
  {
   "cell_type": "markdown",
   "metadata": {},
   "source": [
    "### 在Excel（后面发现Excel未完全显示）中观察体检数据表INO，总结以下：\n",
    "- 1. 诊断标志9 表示**无异常**，只有一个编号759230的体检记录中 一个男的异常提示被记录为h（其他为空白）， 但是阳性为0， 考虑为录入失误, 将'诊断标志'修正为4\n",
    "  2. 诊断标志4 表示**异常**(h/阳性),除了三个：其中一个编号820410的体检记录， 一个男的异常记录为z，阳性为1， 考虑录入失误， 将'异常提示'修正为h \n",
    "  3. 诊断标志3 表示**无异常**(z/心率)   考虑转化为0\n",
    "  4. 诊断标志2 表示**异常**(h)\n",
    "  5. 诊断标志1 表示**异常**(l)/**心率**（无具体数值，并且阳性特征全部为0）\n",
    "  6. 诊断标志0 表示**无异常**(空白)，除了一个编号759224的体检记录,异常记录为'h',阳性为0， 录入失误， 将诊断标志修正为**2**"
   ]
  },
  {
   "cell_type": "markdown",
   "metadata": {},
   "source": [
    "标签：将诊断类型数为0的患者判断为健康，大于0的为非健康"
   ]
  },
  {
   "cell_type": "code",
   "execution_count": 40,
   "metadata": {},
   "outputs": [
    {
     "data": {
      "text/plain": [
       "0.0    25543\n",
       "1.0    19832\n",
       "Name: label, dtype: int64"
      ]
     },
     "execution_count": 40,
     "metadata": {},
     "output_type": "execute_result"
    },
    {
     "data": {
      "text/html": [
       "<div>\n",
       "<style scoped>\n",
       "    .dataframe tbody tr th:only-of-type {\n",
       "        vertical-align: middle;\n",
       "    }\n",
       "\n",
       "    .dataframe tbody tr th {\n",
       "        vertical-align: top;\n",
       "    }\n",
       "\n",
       "    .dataframe thead th {\n",
       "        text-align: right;\n",
       "    }\n",
       "</style>\n",
       "<table border=\"1\" class=\"dataframe\">\n",
       "  <thead>\n",
       "    <tr style=\"text-align: right;\">\n",
       "      <th></th>\n",
       "      <th>AST/ALT</th>\n",
       "      <th>BUN:CREA</th>\n",
       "      <th>P-R间期</th>\n",
       "      <th>P波</th>\n",
       "      <th>Q-T间期</th>\n",
       "      <th>QRS</th>\n",
       "      <th>QRS时间</th>\n",
       "      <th>RBC分布宽度标准差(RDW-SD)</th>\n",
       "      <th>RBC平均HGB浓度(MCHC)</th>\n",
       "      <th>ST段</th>\n",
       "      <th>...</th>\n",
       "      <th>阴离子间隙</th>\n",
       "      <th>高密度脂蛋白胆固醇</th>\n",
       "      <th>年龄</th>\n",
       "      <th>性别</th>\n",
       "      <th>心率值</th>\n",
       "      <th>收缩压</th>\n",
       "      <th>舒张压</th>\n",
       "      <th>0.0</th>\n",
       "      <th>1.0</th>\n",
       "      <th>label</th>\n",
       "    </tr>\n",
       "    <tr>\n",
       "      <th>病人ID</th>\n",
       "      <th></th>\n",
       "      <th></th>\n",
       "      <th></th>\n",
       "      <th></th>\n",
       "      <th></th>\n",
       "      <th></th>\n",
       "      <th></th>\n",
       "      <th></th>\n",
       "      <th></th>\n",
       "      <th></th>\n",
       "      <th></th>\n",
       "      <th></th>\n",
       "      <th></th>\n",
       "      <th></th>\n",
       "      <th></th>\n",
       "      <th></th>\n",
       "      <th></th>\n",
       "      <th></th>\n",
       "      <th></th>\n",
       "      <th></th>\n",
       "      <th></th>\n",
       "    </tr>\n",
       "  </thead>\n",
       "  <tbody>\n",
       "    <tr>\n",
       "      <th>3000045556</th>\n",
       "      <td>0.0</td>\n",
       "      <td>0.0</td>\n",
       "      <td>0.0</td>\n",
       "      <td>0.0</td>\n",
       "      <td>0.0</td>\n",
       "      <td>0.0</td>\n",
       "      <td>0.0</td>\n",
       "      <td>0.0</td>\n",
       "      <td>0.0</td>\n",
       "      <td>0.0</td>\n",
       "      <td>...</td>\n",
       "      <td>0.0</td>\n",
       "      <td>0.0</td>\n",
       "      <td>5.0</td>\n",
       "      <td>1.0</td>\n",
       "      <td>0.0</td>\n",
       "      <td>110.0</td>\n",
       "      <td>70.0</td>\n",
       "      <td>0</td>\n",
       "      <td>1</td>\n",
       "      <td>1.0</td>\n",
       "    </tr>\n",
       "    <tr>\n",
       "      <th>3000099968</th>\n",
       "      <td>0.0</td>\n",
       "      <td>0.0</td>\n",
       "      <td>0.0</td>\n",
       "      <td>0.0</td>\n",
       "      <td>0.0</td>\n",
       "      <td>0.0</td>\n",
       "      <td>0.0</td>\n",
       "      <td>0.0</td>\n",
       "      <td>0.0</td>\n",
       "      <td>0.0</td>\n",
       "      <td>...</td>\n",
       "      <td>0.0</td>\n",
       "      <td>0.0</td>\n",
       "      <td>2.0</td>\n",
       "      <td>0.0</td>\n",
       "      <td>2.0</td>\n",
       "      <td>100.0</td>\n",
       "      <td>60.0</td>\n",
       "      <td>1</td>\n",
       "      <td>0</td>\n",
       "      <td>0.0</td>\n",
       "    </tr>\n",
       "    <tr>\n",
       "      <th>3000138629</th>\n",
       "      <td>0.0</td>\n",
       "      <td>0.0</td>\n",
       "      <td>0.0</td>\n",
       "      <td>0.0</td>\n",
       "      <td>0.0</td>\n",
       "      <td>0.0</td>\n",
       "      <td>0.0</td>\n",
       "      <td>0.0</td>\n",
       "      <td>0.0</td>\n",
       "      <td>0.0</td>\n",
       "      <td>...</td>\n",
       "      <td>0.0</td>\n",
       "      <td>0.0</td>\n",
       "      <td>3.0</td>\n",
       "      <td>1.0</td>\n",
       "      <td>1.0</td>\n",
       "      <td>100.0</td>\n",
       "      <td>70.0</td>\n",
       "      <td>0</td>\n",
       "      <td>1</td>\n",
       "      <td>0.0</td>\n",
       "    </tr>\n",
       "    <tr>\n",
       "      <th>3000139382</th>\n",
       "      <td>0.0</td>\n",
       "      <td>0.0</td>\n",
       "      <td>0.0</td>\n",
       "      <td>0.0</td>\n",
       "      <td>0.0</td>\n",
       "      <td>0.0</td>\n",
       "      <td>0.0</td>\n",
       "      <td>0.0</td>\n",
       "      <td>0.0</td>\n",
       "      <td>0.0</td>\n",
       "      <td>...</td>\n",
       "      <td>2.0</td>\n",
       "      <td>0.0</td>\n",
       "      <td>3.0</td>\n",
       "      <td>1.0</td>\n",
       "      <td>0.0</td>\n",
       "      <td>120.0</td>\n",
       "      <td>80.0</td>\n",
       "      <td>0</td>\n",
       "      <td>1</td>\n",
       "      <td>1.0</td>\n",
       "    </tr>\n",
       "    <tr>\n",
       "      <th>3000174746</th>\n",
       "      <td>0.0</td>\n",
       "      <td>0.0</td>\n",
       "      <td>0.0</td>\n",
       "      <td>0.0</td>\n",
       "      <td>0.0</td>\n",
       "      <td>0.0</td>\n",
       "      <td>0.0</td>\n",
       "      <td>0.0</td>\n",
       "      <td>0.0</td>\n",
       "      <td>0.0</td>\n",
       "      <td>...</td>\n",
       "      <td>0.0</td>\n",
       "      <td>1.0</td>\n",
       "      <td>4.0</td>\n",
       "      <td>1.0</td>\n",
       "      <td>2.0</td>\n",
       "      <td>130.0</td>\n",
       "      <td>86.0</td>\n",
       "      <td>0</td>\n",
       "      <td>1</td>\n",
       "      <td>1.0</td>\n",
       "    </tr>\n",
       "    <tr>\n",
       "      <th>...</th>\n",
       "      <td>...</td>\n",
       "      <td>...</td>\n",
       "      <td>...</td>\n",
       "      <td>...</td>\n",
       "      <td>...</td>\n",
       "      <td>...</td>\n",
       "      <td>...</td>\n",
       "      <td>...</td>\n",
       "      <td>...</td>\n",
       "      <td>...</td>\n",
       "      <td>...</td>\n",
       "      <td>...</td>\n",
       "      <td>...</td>\n",
       "      <td>...</td>\n",
       "      <td>...</td>\n",
       "      <td>...</td>\n",
       "      <td>...</td>\n",
       "      <td>...</td>\n",
       "      <td>...</td>\n",
       "      <td>...</td>\n",
       "      <td>...</td>\n",
       "    </tr>\n",
       "    <tr>\n",
       "      <th>9900451742</th>\n",
       "      <td>0.0</td>\n",
       "      <td>0.0</td>\n",
       "      <td>0.0</td>\n",
       "      <td>0.0</td>\n",
       "      <td>0.0</td>\n",
       "      <td>0.0</td>\n",
       "      <td>0.0</td>\n",
       "      <td>0.0</td>\n",
       "      <td>0.0</td>\n",
       "      <td>0.0</td>\n",
       "      <td>...</td>\n",
       "      <td>0.0</td>\n",
       "      <td>0.0</td>\n",
       "      <td>4.0</td>\n",
       "      <td>1.0</td>\n",
       "      <td>0.0</td>\n",
       "      <td>100.0</td>\n",
       "      <td>70.0</td>\n",
       "      <td>0</td>\n",
       "      <td>1</td>\n",
       "      <td>0.0</td>\n",
       "    </tr>\n",
       "    <tr>\n",
       "      <th>9900481892</th>\n",
       "      <td>0.0</td>\n",
       "      <td>0.0</td>\n",
       "      <td>0.0</td>\n",
       "      <td>0.0</td>\n",
       "      <td>0.0</td>\n",
       "      <td>0.0</td>\n",
       "      <td>0.0</td>\n",
       "      <td>0.0</td>\n",
       "      <td>0.0</td>\n",
       "      <td>0.0</td>\n",
       "      <td>...</td>\n",
       "      <td>0.0</td>\n",
       "      <td>0.0</td>\n",
       "      <td>2.0</td>\n",
       "      <td>0.0</td>\n",
       "      <td>3.0</td>\n",
       "      <td>100.0</td>\n",
       "      <td>70.0</td>\n",
       "      <td>1</td>\n",
       "      <td>0</td>\n",
       "      <td>1.0</td>\n",
       "    </tr>\n",
       "    <tr>\n",
       "      <th>9900485423</th>\n",
       "      <td>0.0</td>\n",
       "      <td>0.0</td>\n",
       "      <td>0.0</td>\n",
       "      <td>0.0</td>\n",
       "      <td>0.0</td>\n",
       "      <td>0.0</td>\n",
       "      <td>0.0</td>\n",
       "      <td>0.0</td>\n",
       "      <td>0.0</td>\n",
       "      <td>0.0</td>\n",
       "      <td>...</td>\n",
       "      <td>0.0</td>\n",
       "      <td>0.0</td>\n",
       "      <td>1.0</td>\n",
       "      <td>1.0</td>\n",
       "      <td>0.0</td>\n",
       "      <td>130.0</td>\n",
       "      <td>80.0</td>\n",
       "      <td>0</td>\n",
       "      <td>1</td>\n",
       "      <td>1.0</td>\n",
       "    </tr>\n",
       "    <tr>\n",
       "      <th>9900492476</th>\n",
       "      <td>0.0</td>\n",
       "      <td>0.0</td>\n",
       "      <td>0.0</td>\n",
       "      <td>0.0</td>\n",
       "      <td>0.0</td>\n",
       "      <td>0.0</td>\n",
       "      <td>0.0</td>\n",
       "      <td>0.0</td>\n",
       "      <td>0.0</td>\n",
       "      <td>0.0</td>\n",
       "      <td>...</td>\n",
       "      <td>0.0</td>\n",
       "      <td>0.0</td>\n",
       "      <td>1.0</td>\n",
       "      <td>0.0</td>\n",
       "      <td>3.0</td>\n",
       "      <td>100.0</td>\n",
       "      <td>60.0</td>\n",
       "      <td>1</td>\n",
       "      <td>0</td>\n",
       "      <td>1.0</td>\n",
       "    </tr>\n",
       "    <tr>\n",
       "      <th>9900537646</th>\n",
       "      <td>0.0</td>\n",
       "      <td>0.0</td>\n",
       "      <td>0.0</td>\n",
       "      <td>0.0</td>\n",
       "      <td>0.0</td>\n",
       "      <td>0.0</td>\n",
       "      <td>0.0</td>\n",
       "      <td>0.0</td>\n",
       "      <td>0.0</td>\n",
       "      <td>0.0</td>\n",
       "      <td>...</td>\n",
       "      <td>0.0</td>\n",
       "      <td>0.0</td>\n",
       "      <td>2.0</td>\n",
       "      <td>1.0</td>\n",
       "      <td>0.0</td>\n",
       "      <td>100.0</td>\n",
       "      <td>70.0</td>\n",
       "      <td>0</td>\n",
       "      <td>1</td>\n",
       "      <td>1.0</td>\n",
       "    </tr>\n",
       "  </tbody>\n",
       "</table>\n",
       "<p>45375 rows × 104 columns</p>\n",
       "</div>"
      ],
      "text/plain": [
       "            AST/ALT  BUN:CREA  P-R间期   P波  Q-T间期  QRS  QRS时间  \\\n",
       "病人ID                                                           \n",
       "3000045556      0.0       0.0    0.0  0.0    0.0  0.0    0.0   \n",
       "3000099968      0.0       0.0    0.0  0.0    0.0  0.0    0.0   \n",
       "3000138629      0.0       0.0    0.0  0.0    0.0  0.0    0.0   \n",
       "3000139382      0.0       0.0    0.0  0.0    0.0  0.0    0.0   \n",
       "3000174746      0.0       0.0    0.0  0.0    0.0  0.0    0.0   \n",
       "...             ...       ...    ...  ...    ...  ...    ...   \n",
       "9900451742      0.0       0.0    0.0  0.0    0.0  0.0    0.0   \n",
       "9900481892      0.0       0.0    0.0  0.0    0.0  0.0    0.0   \n",
       "9900485423      0.0       0.0    0.0  0.0    0.0  0.0    0.0   \n",
       "9900492476      0.0       0.0    0.0  0.0    0.0  0.0    0.0   \n",
       "9900537646      0.0       0.0    0.0  0.0    0.0  0.0    0.0   \n",
       "\n",
       "            RBC分布宽度标准差(RDW-SD)  RBC平均HGB浓度(MCHC)  ST段  ...  阴离子间隙  高密度脂蛋白胆固醇  \\\n",
       "病人ID                                                   ...                     \n",
       "3000045556                 0.0               0.0  0.0  ...    0.0        0.0   \n",
       "3000099968                 0.0               0.0  0.0  ...    0.0        0.0   \n",
       "3000138629                 0.0               0.0  0.0  ...    0.0        0.0   \n",
       "3000139382                 0.0               0.0  0.0  ...    2.0        0.0   \n",
       "3000174746                 0.0               0.0  0.0  ...    0.0        1.0   \n",
       "...                        ...               ...  ...  ...    ...        ...   \n",
       "9900451742                 0.0               0.0  0.0  ...    0.0        0.0   \n",
       "9900481892                 0.0               0.0  0.0  ...    0.0        0.0   \n",
       "9900485423                 0.0               0.0  0.0  ...    0.0        0.0   \n",
       "9900492476                 0.0               0.0  0.0  ...    0.0        0.0   \n",
       "9900537646                 0.0               0.0  0.0  ...    0.0        0.0   \n",
       "\n",
       "             年龄   性别  心率值    收缩压   舒张压  0.0  1.0  label  \n",
       "病人ID                                                     \n",
       "3000045556  5.0  1.0  0.0  110.0  70.0    0    1    1.0  \n",
       "3000099968  2.0  0.0  2.0  100.0  60.0    1    0    0.0  \n",
       "3000138629  3.0  1.0  1.0  100.0  70.0    0    1    0.0  \n",
       "3000139382  3.0  1.0  0.0  120.0  80.0    0    1    1.0  \n",
       "3000174746  4.0  1.0  2.0  130.0  86.0    0    1    1.0  \n",
       "...         ...  ...  ...    ...   ...  ...  ...    ...  \n",
       "9900451742  4.0  1.0  0.0  100.0  70.0    0    1    0.0  \n",
       "9900481892  2.0  0.0  3.0  100.0  70.0    1    0    1.0  \n",
       "9900485423  1.0  1.0  0.0  130.0  80.0    0    1    1.0  \n",
       "9900492476  1.0  0.0  3.0  100.0  60.0    1    0    1.0  \n",
       "9900537646  2.0  1.0  0.0  100.0  70.0    0    1    1.0  \n",
       "\n",
       "[45375 rows x 104 columns]"
      ]
     },
     "execution_count": 40,
     "metadata": {},
     "output_type": "execute_result"
    }
   ],
   "source": [
    "check_temp = data.groupby('病人ID')['诊断类型'].value_counts().unstack()\n",
    "check_temp.fillna(0, inplace=True)\n",
    "check_temp['label'] = np.where(check_temp['疾病诊断'] == 0, 0, 1)\n",
    "check_temp.drop(columns=['疾病诊断', '阳性体征'], axis=1, inplace=True)\n",
    "train_x = combined_temp.copy()\n",
    "train_input = pd.merge(train_x, check_temp, on='病人ID', how='left')\n",
    "train_input.fillna(0, inplace=True)\n",
    "train_input['label'].value_counts()\n",
    "train_input"
   ]
  },
  {
   "cell_type": "code",
   "execution_count": 49,
   "metadata": {},
   "outputs": [],
   "source": [
    "items = train_x.columns[:-4]\n",
    "floor_train = np.floor(train_input)\n",
    "#  全部取 整数部分\n",
    "# floor_train = train_x.copy()\n",
    "# 对数据清洗 ，针对不同的情况 ： 正常、低、高进行dummies处理\n",
    "for item in items:\n",
    "#     floor_train.loc[:, item].value_counts()\n",
    "#  Series.index .values\n",
    "#     floor_train.loc[:, item].value_counts()\n",
    "    index = floor_train.loc[:, item].value_counts().index\n",
    "    index = list(index)\n",
    "    if len(index) == 0 or len(index) > 4 :\n",
    "        continue\n",
    "    elif index == [0, 4]:\n",
    "        floor_train[item] = np.where(floor_train[item] == 4, 1, 0)\n",
    "    elif index == [0, 2, 4]:\n",
    "        floor_train[item] = np.where(floor_train[item] == 4, 2, floor_train[item])\n",
    "\n",
    "        floor_train[item] = np.where(floor_train[item] == 2, 1, 0)\n",
    "        \n",
    "    elif index == [0, 1, 2, 4]:\n",
    "        floor_train[item] = np.where(floor_train[item] == 4, 2, floor_train[item])\n",
    "        \n",
    "        bins = pd.get_dummies(floor_train[item])\n",
    "        bins.rename(columns={0: item+'_正常', 1: item+'_低', 2: item+'_高'}, inplace=True)   \n",
    "        floor_train = pd.concat([floor_train, bins], axis=1)\n",
    "\n",
    "        floor_train = floor_train.drop(columns = [item])  \n",
    "    elif index == [0, 1, 2]:\n",
    "        bins = pd.get_dummies(floor_train[item])\n",
    "        bins.rename(columns={0: item+'_正常', 1: item+'_低', 2: item+'_高'}, inplace=True)   \n",
    "        floor_train = pd.concat([floor_train, bins], axis=1)\n",
    "\n",
    "        floor_train = floor_train.drop(columns = [item])  \n",
    "\n",
    "# gender_bin = pd.get_dummies(combined_temp['性别'])\n",
    "# gender_bin.rename(columns={0:'男', 1:'女'}, inplace=True)   \n",
    "# combined_temp = pd.concat([combined_temp, gender_bin], axis=1)\n",
    "\n",
    "# combined_temp = combined_temp.drop(columns=['性别'])  "
   ]
  },
  {
   "cell_type": "code",
   "execution_count": 47,
   "metadata": {},
   "outputs": [
    {
     "data": {
      "text/html": [
       "<div>\n",
       "<style scoped>\n",
       "    .dataframe tbody tr th:only-of-type {\n",
       "        vertical-align: middle;\n",
       "    }\n",
       "\n",
       "    .dataframe tbody tr th {\n",
       "        vertical-align: top;\n",
       "    }\n",
       "\n",
       "    .dataframe thead th {\n",
       "        text-align: right;\n",
       "    }\n",
       "</style>\n",
       "<table border=\"1\" class=\"dataframe\">\n",
       "  <thead>\n",
       "    <tr style=\"text-align: right;\">\n",
       "      <th></th>\n",
       "      <th>AST/ALT</th>\n",
       "      <th>BUN:CREA</th>\n",
       "      <th>P-R间期</th>\n",
       "      <th>P波</th>\n",
       "      <th>Q-T间期</th>\n",
       "      <th>QRS</th>\n",
       "      <th>QRS时间</th>\n",
       "      <th>RBC平均HGB浓度(MCHC)</th>\n",
       "      <th>ST段</th>\n",
       "      <th>T波</th>\n",
       "      <th>...</th>\n",
       "      <th>血清钾(K)_高</th>\n",
       "      <th>血红蛋白(HGB)_正常</th>\n",
       "      <th>血红蛋白(HGB)_低</th>\n",
       "      <th>血红蛋白(HGB)_高</th>\n",
       "      <th>载脂蛋白A1(APOA1)_正常</th>\n",
       "      <th>载脂蛋白A1(APOA1)_低</th>\n",
       "      <th>载脂蛋白A1(APOA1)_高</th>\n",
       "      <th>高密度脂蛋白胆固醇_正常</th>\n",
       "      <th>高密度脂蛋白胆固醇_低</th>\n",
       "      <th>高密度脂蛋白胆固醇_高</th>\n",
       "    </tr>\n",
       "    <tr>\n",
       "      <th>病人ID</th>\n",
       "      <th></th>\n",
       "      <th></th>\n",
       "      <th></th>\n",
       "      <th></th>\n",
       "      <th></th>\n",
       "      <th></th>\n",
       "      <th></th>\n",
       "      <th></th>\n",
       "      <th></th>\n",
       "      <th></th>\n",
       "      <th></th>\n",
       "      <th></th>\n",
       "      <th></th>\n",
       "      <th></th>\n",
       "      <th></th>\n",
       "      <th></th>\n",
       "      <th></th>\n",
       "      <th></th>\n",
       "      <th></th>\n",
       "      <th></th>\n",
       "      <th></th>\n",
       "    </tr>\n",
       "  </thead>\n",
       "  <tbody>\n",
       "    <tr>\n",
       "      <th>3000045556</th>\n",
       "      <td>0.0</td>\n",
       "      <td>0.0</td>\n",
       "      <td>0.0</td>\n",
       "      <td>0.0</td>\n",
       "      <td>0.0</td>\n",
       "      <td>0.0</td>\n",
       "      <td>0.0</td>\n",
       "      <td>0.0</td>\n",
       "      <td>0.0</td>\n",
       "      <td>0.0</td>\n",
       "      <td>...</td>\n",
       "      <td>0</td>\n",
       "      <td>1</td>\n",
       "      <td>0</td>\n",
       "      <td>0</td>\n",
       "      <td>1</td>\n",
       "      <td>0</td>\n",
       "      <td>0</td>\n",
       "      <td>1</td>\n",
       "      <td>0</td>\n",
       "      <td>0</td>\n",
       "    </tr>\n",
       "    <tr>\n",
       "      <th>3000099968</th>\n",
       "      <td>0.0</td>\n",
       "      <td>0.0</td>\n",
       "      <td>0.0</td>\n",
       "      <td>0.0</td>\n",
       "      <td>0.0</td>\n",
       "      <td>0.0</td>\n",
       "      <td>0.0</td>\n",
       "      <td>0.0</td>\n",
       "      <td>0.0</td>\n",
       "      <td>0.0</td>\n",
       "      <td>...</td>\n",
       "      <td>0</td>\n",
       "      <td>1</td>\n",
       "      <td>0</td>\n",
       "      <td>0</td>\n",
       "      <td>0</td>\n",
       "      <td>1</td>\n",
       "      <td>0</td>\n",
       "      <td>1</td>\n",
       "      <td>0</td>\n",
       "      <td>0</td>\n",
       "    </tr>\n",
       "    <tr>\n",
       "      <th>3000138629</th>\n",
       "      <td>0.0</td>\n",
       "      <td>0.0</td>\n",
       "      <td>0.0</td>\n",
       "      <td>0.0</td>\n",
       "      <td>0.0</td>\n",
       "      <td>0.0</td>\n",
       "      <td>0.0</td>\n",
       "      <td>0.0</td>\n",
       "      <td>0.0</td>\n",
       "      <td>0.0</td>\n",
       "      <td>...</td>\n",
       "      <td>0</td>\n",
       "      <td>1</td>\n",
       "      <td>0</td>\n",
       "      <td>0</td>\n",
       "      <td>1</td>\n",
       "      <td>0</td>\n",
       "      <td>0</td>\n",
       "      <td>1</td>\n",
       "      <td>0</td>\n",
       "      <td>0</td>\n",
       "    </tr>\n",
       "    <tr>\n",
       "      <th>3000139382</th>\n",
       "      <td>0.0</td>\n",
       "      <td>0.0</td>\n",
       "      <td>0.0</td>\n",
       "      <td>0.0</td>\n",
       "      <td>0.0</td>\n",
       "      <td>0.0</td>\n",
       "      <td>0.0</td>\n",
       "      <td>0.0</td>\n",
       "      <td>0.0</td>\n",
       "      <td>0.0</td>\n",
       "      <td>...</td>\n",
       "      <td>0</td>\n",
       "      <td>1</td>\n",
       "      <td>0</td>\n",
       "      <td>0</td>\n",
       "      <td>1</td>\n",
       "      <td>0</td>\n",
       "      <td>0</td>\n",
       "      <td>1</td>\n",
       "      <td>0</td>\n",
       "      <td>0</td>\n",
       "    </tr>\n",
       "    <tr>\n",
       "      <th>3000174746</th>\n",
       "      <td>0.0</td>\n",
       "      <td>0.0</td>\n",
       "      <td>0.0</td>\n",
       "      <td>0.0</td>\n",
       "      <td>0.0</td>\n",
       "      <td>0.0</td>\n",
       "      <td>0.0</td>\n",
       "      <td>0.0</td>\n",
       "      <td>0.0</td>\n",
       "      <td>0.0</td>\n",
       "      <td>...</td>\n",
       "      <td>0</td>\n",
       "      <td>1</td>\n",
       "      <td>0</td>\n",
       "      <td>0</td>\n",
       "      <td>1</td>\n",
       "      <td>0</td>\n",
       "      <td>0</td>\n",
       "      <td>0</td>\n",
       "      <td>1</td>\n",
       "      <td>0</td>\n",
       "    </tr>\n",
       "    <tr>\n",
       "      <th>...</th>\n",
       "      <td>...</td>\n",
       "      <td>...</td>\n",
       "      <td>...</td>\n",
       "      <td>...</td>\n",
       "      <td>...</td>\n",
       "      <td>...</td>\n",
       "      <td>...</td>\n",
       "      <td>...</td>\n",
       "      <td>...</td>\n",
       "      <td>...</td>\n",
       "      <td>...</td>\n",
       "      <td>...</td>\n",
       "      <td>...</td>\n",
       "      <td>...</td>\n",
       "      <td>...</td>\n",
       "      <td>...</td>\n",
       "      <td>...</td>\n",
       "      <td>...</td>\n",
       "      <td>...</td>\n",
       "      <td>...</td>\n",
       "      <td>...</td>\n",
       "    </tr>\n",
       "    <tr>\n",
       "      <th>9900451742</th>\n",
       "      <td>0.0</td>\n",
       "      <td>0.0</td>\n",
       "      <td>0.0</td>\n",
       "      <td>0.0</td>\n",
       "      <td>0.0</td>\n",
       "      <td>0.0</td>\n",
       "      <td>0.0</td>\n",
       "      <td>0.0</td>\n",
       "      <td>0.0</td>\n",
       "      <td>0.0</td>\n",
       "      <td>...</td>\n",
       "      <td>0</td>\n",
       "      <td>1</td>\n",
       "      <td>0</td>\n",
       "      <td>0</td>\n",
       "      <td>1</td>\n",
       "      <td>0</td>\n",
       "      <td>0</td>\n",
       "      <td>1</td>\n",
       "      <td>0</td>\n",
       "      <td>0</td>\n",
       "    </tr>\n",
       "    <tr>\n",
       "      <th>9900481892</th>\n",
       "      <td>0.0</td>\n",
       "      <td>0.0</td>\n",
       "      <td>0.0</td>\n",
       "      <td>0.0</td>\n",
       "      <td>0.0</td>\n",
       "      <td>0.0</td>\n",
       "      <td>0.0</td>\n",
       "      <td>0.0</td>\n",
       "      <td>0.0</td>\n",
       "      <td>0.0</td>\n",
       "      <td>...</td>\n",
       "      <td>0</td>\n",
       "      <td>1</td>\n",
       "      <td>0</td>\n",
       "      <td>0</td>\n",
       "      <td>1</td>\n",
       "      <td>0</td>\n",
       "      <td>0</td>\n",
       "      <td>1</td>\n",
       "      <td>0</td>\n",
       "      <td>0</td>\n",
       "    </tr>\n",
       "    <tr>\n",
       "      <th>9900485423</th>\n",
       "      <td>0.0</td>\n",
       "      <td>0.0</td>\n",
       "      <td>0.0</td>\n",
       "      <td>0.0</td>\n",
       "      <td>0.0</td>\n",
       "      <td>0.0</td>\n",
       "      <td>0.0</td>\n",
       "      <td>0.0</td>\n",
       "      <td>0.0</td>\n",
       "      <td>0.0</td>\n",
       "      <td>...</td>\n",
       "      <td>0</td>\n",
       "      <td>1</td>\n",
       "      <td>0</td>\n",
       "      <td>0</td>\n",
       "      <td>1</td>\n",
       "      <td>0</td>\n",
       "      <td>0</td>\n",
       "      <td>1</td>\n",
       "      <td>0</td>\n",
       "      <td>0</td>\n",
       "    </tr>\n",
       "    <tr>\n",
       "      <th>9900492476</th>\n",
       "      <td>0.0</td>\n",
       "      <td>0.0</td>\n",
       "      <td>0.0</td>\n",
       "      <td>0.0</td>\n",
       "      <td>0.0</td>\n",
       "      <td>0.0</td>\n",
       "      <td>0.0</td>\n",
       "      <td>0.0</td>\n",
       "      <td>0.0</td>\n",
       "      <td>0.0</td>\n",
       "      <td>...</td>\n",
       "      <td>0</td>\n",
       "      <td>1</td>\n",
       "      <td>0</td>\n",
       "      <td>0</td>\n",
       "      <td>1</td>\n",
       "      <td>0</td>\n",
       "      <td>0</td>\n",
       "      <td>1</td>\n",
       "      <td>0</td>\n",
       "      <td>0</td>\n",
       "    </tr>\n",
       "    <tr>\n",
       "      <th>9900537646</th>\n",
       "      <td>0.0</td>\n",
       "      <td>0.0</td>\n",
       "      <td>0.0</td>\n",
       "      <td>0.0</td>\n",
       "      <td>0.0</td>\n",
       "      <td>0.0</td>\n",
       "      <td>0.0</td>\n",
       "      <td>0.0</td>\n",
       "      <td>0.0</td>\n",
       "      <td>0.0</td>\n",
       "      <td>...</td>\n",
       "      <td>0</td>\n",
       "      <td>1</td>\n",
       "      <td>0</td>\n",
       "      <td>0</td>\n",
       "      <td>1</td>\n",
       "      <td>0</td>\n",
       "      <td>0</td>\n",
       "      <td>1</td>\n",
       "      <td>0</td>\n",
       "      <td>0</td>\n",
       "    </tr>\n",
       "  </tbody>\n",
       "</table>\n",
       "<p>45375 rows × 148 columns</p>\n",
       "</div>"
      ],
      "text/plain": [
       "            AST/ALT  BUN:CREA  P-R间期   P波  Q-T间期  QRS  QRS时间  \\\n",
       "病人ID                                                           \n",
       "3000045556      0.0       0.0    0.0  0.0    0.0  0.0    0.0   \n",
       "3000099968      0.0       0.0    0.0  0.0    0.0  0.0    0.0   \n",
       "3000138629      0.0       0.0    0.0  0.0    0.0  0.0    0.0   \n",
       "3000139382      0.0       0.0    0.0  0.0    0.0  0.0    0.0   \n",
       "3000174746      0.0       0.0    0.0  0.0    0.0  0.0    0.0   \n",
       "...             ...       ...    ...  ...    ...  ...    ...   \n",
       "9900451742      0.0       0.0    0.0  0.0    0.0  0.0    0.0   \n",
       "9900481892      0.0       0.0    0.0  0.0    0.0  0.0    0.0   \n",
       "9900485423      0.0       0.0    0.0  0.0    0.0  0.0    0.0   \n",
       "9900492476      0.0       0.0    0.0  0.0    0.0  0.0    0.0   \n",
       "9900537646      0.0       0.0    0.0  0.0    0.0  0.0    0.0   \n",
       "\n",
       "            RBC平均HGB浓度(MCHC)  ST段   T波  ...  血清钾(K)_高  血红蛋白(HGB)_正常  \\\n",
       "病人ID                                    ...                           \n",
       "3000045556               0.0  0.0  0.0  ...         0             1   \n",
       "3000099968               0.0  0.0  0.0  ...         0             1   \n",
       "3000138629               0.0  0.0  0.0  ...         0             1   \n",
       "3000139382               0.0  0.0  0.0  ...         0             1   \n",
       "3000174746               0.0  0.0  0.0  ...         0             1   \n",
       "...                      ...  ...  ...  ...       ...           ...   \n",
       "9900451742               0.0  0.0  0.0  ...         0             1   \n",
       "9900481892               0.0  0.0  0.0  ...         0             1   \n",
       "9900485423               0.0  0.0  0.0  ...         0             1   \n",
       "9900492476               0.0  0.0  0.0  ...         0             1   \n",
       "9900537646               0.0  0.0  0.0  ...         0             1   \n",
       "\n",
       "            血红蛋白(HGB)_低  血红蛋白(HGB)_高  载脂蛋白A1(APOA1)_正常  载脂蛋白A1(APOA1)_低  \\\n",
       "病人ID                                                                      \n",
       "3000045556            0            0                 1                0   \n",
       "3000099968            0            0                 0                1   \n",
       "3000138629            0            0                 1                0   \n",
       "3000139382            0            0                 1                0   \n",
       "3000174746            0            0                 1                0   \n",
       "...                 ...          ...               ...              ...   \n",
       "9900451742            0            0                 1                0   \n",
       "9900481892            0            0                 1                0   \n",
       "9900485423            0            0                 1                0   \n",
       "9900492476            0            0                 1                0   \n",
       "9900537646            0            0                 1                0   \n",
       "\n",
       "            载脂蛋白A1(APOA1)_高  高密度脂蛋白胆固醇_正常  高密度脂蛋白胆固醇_低  高密度脂蛋白胆固醇_高  \n",
       "病人ID                                                                 \n",
       "3000045556                0             1            0            0  \n",
       "3000099968                0             1            0            0  \n",
       "3000138629                0             1            0            0  \n",
       "3000139382                0             1            0            0  \n",
       "3000174746                0             0            1            0  \n",
       "...                     ...           ...          ...          ...  \n",
       "9900451742                0             1            0            0  \n",
       "9900481892                0             1            0            0  \n",
       "9900485423                0             1            0            0  \n",
       "9900492476                0             1            0            0  \n",
       "9900537646                0             1            0            0  \n",
       "\n",
       "[45375 rows x 148 columns]"
      ]
     },
     "execution_count": 47,
     "metadata": {},
     "output_type": "execute_result"
    }
   ],
   "source": [
    "floor_train"
   ]
  },
  {
   "cell_type": "code",
   "execution_count": null,
   "metadata": {},
   "outputs": [],
   "source": [
    "train_input['QRS'].value_counts()"
   ]
  },
  {
   "cell_type": "markdown",
   "metadata": {},
   "source": [
    "很好奇最后的结果和男女性别的关系。\n",
    "\n",
    "结果是，男性会不健康点（可能和样本男性年龄大于女性有关）\n",
    "\n",
    "而女性特征的被LassoLR筛选了，即认为女性和健康概率无关系\n",
    "\n",
    "男 coef :0.004779096114211341\n",
    "\n",
    "女 coef :-0.0"
   ]
  },
  {
   "cell_type": "code",
   "execution_count": null,
   "metadata": {},
   "outputs": [],
   "source": [
    "X_train = train_input.loc[ :, train_input.columns[:-1] ]   # 取 输入\n",
    " \n",
    "# ss = StandardScaler()     # 根据方差来缩放，标准化\n",
    "mm = MinMaxScaler()         #根据极大极小值，归一化\n",
    "# X_train.loc[: ] = ss.fit_transform(X_train)\n",
    "X_train.loc[: ] = mm.fit_transform(X_train)\n",
    "X_train\n",
    "\n",
    "y = train_input.loc[:, 'label']\n",
    "model_lasso = LassoCV(alphas = [1, 0.1, 0.001, 0.0005]).fit(X_train, y) # 此处 alpha 为通常值 #fit 把数据套进模型里跑\n",
    "coef = pd.Series(model_lasso.coef_, index = X_train.columns)             # .coef_ 可以返回经过学习后的所有 feature 的参数。\n",
    "print(\"Lasso picked \" + str(sum(coef != 0)) + \" variables and eliminated the other \" +  str(sum(coef == 0)) + \" variables\")\n",
    "for c in coef.index:\n",
    "    print(c + \" coef :\" + str(coef[c]))\n",
    "imp_coef = pd.concat([coef.sort_values().head(12), \n",
    "                     coef.sort_values().tail(12)])                       #选头尾各10条，.sort_values() 可以将某一列的值进行排序。\n",
    "# matplotlib.rcParams['figure.figsize'] = (8.0, 10.0)\n",
    "plt.figure(figsize=(20,15))\n",
    "imp_coef.plot(kind = \"barh\")\n",
    "plt.title(\"Coefficients in the Lasso Model\")   "
   ]
  },
  {
   "cell_type": "code",
   "execution_count": null,
   "metadata": {},
   "outputs": [],
   "source": [
    "predict_res = model_lasso.predict(X_train)\n",
    "def calculate_score(prob):\n",
    "    A = 62.698058\n",
    "    B = 28.853900\n",
    "    return A -  B * math.log(prob / (1 - prob))\n",
    "score_list = list(map(calculate_score, predict_res))"
   ]
  },
  {
   "cell_type": "code",
   "execution_count": null,
   "metadata": {},
   "outputs": [],
   "source": [
    "plt.figure(figsize=(20, 10))    # 指定画布尺寸\n",
    "axis = sns.distplot(a=score_list, color='b')\n",
    "axis.set_xlabel(u\"分数\")\n",
    "axis.set_ylabel('占比')\n",
    "plt.title(\"分数分布\")\n",
    "plt.show()"
   ]
  },
  {
   "cell_type": "markdown",
   "metadata": {},
   "source": [
    "xgbdt的模型比线性回归表现好一点，前者分数0.182 后者0.192"
   ]
  },
  {
   "cell_type": "code",
   "execution_count": null,
   "metadata": {},
   "outputs": [],
   "source": [
    "linear_model = LinearRegression(normalize=True)\n",
    "ridge_model = Ridge()\n",
    "gbdt_model = GradientBoostingRegressor()\n",
    "rf_model = RandomForestRegressor()\n",
    "svr_model = SVR(gamma=0.01)\n",
    "xgb_model = XGBRegressor()\n",
    "\n",
    "# models = [linear_model,ridge_model,gbdt_model,rf_model,svr_model,xgb_model]\n",
    "# models_names = ['linear_model','ridge_model','gbdt_model','rf_model','svr_model','xgb_model']\n",
    "# models_scores_mean = []\n",
    "# st_kflod = StratifiedKFold(n_splits=10,shuffle=False,random_state=0)\n",
    "# for index,model in enumerate(models):\n",
    "#     score = cross_val_score(estimator=model,X=X_train,y=y,scoring='neg_mean_squared_error',cv=10)\n",
    "#     models_scores_mean.append(-score.mean())\n",
    "#     print(f'{models_names[index]}'+'分数:' + f'{score}'+'平均分:'+f'{-score.mean()}')\n",
    "#     print('-'*50)"
   ]
  },
  {
   "cell_type": "code",
   "execution_count": null,
   "metadata": {},
   "outputs": [],
   "source": [
    "data_ino.项目名称.value_counts()"
   ]
  },
  {
   "cell_type": "code",
   "execution_count": null,
   "metadata": {},
   "outputs": [],
   "source": [
    "age = data_ino.groupby(\"病人ID\")[\"年龄\"].min()\n",
    "# age = age.value_counts()\n",
    "# age = age.unstack()\n",
    "# type(age)\n",
    "\n",
    "# data.top(5)"
   ]
  },
  {
   "cell_type": "code",
   "execution_count": null,
   "metadata": {},
   "outputs": [],
   "source": [
    "# DataFrame(data,index=[0])\n",
    "\n",
    "# data[\"体检总结\"]\n",
    "\n",
    "# data.to_pickle('diag_all.pkl')\n",
    "check = data.groupby(\"病人ID\")['诊断类型'].value_counts()\n",
    "# check.fillna(0)\n",
    "check_res = check.unstack().fillna(0) #.describe()\n",
    "# check_res.apply(lambda x: x['label'] = 0 if x['疾病诊断'] > 0 else 1)\n",
    "check_res['label'] = np.where(check_res['阳性体征']==0, 0, 1)"
   ]
  },
  {
   "cell_type": "code",
   "execution_count": null,
   "metadata": {},
   "outputs": [],
   "source": [
    "check_res"
   ]
  },
  {
   "cell_type": "markdown",
   "metadata": {},
   "source": [
    "随机病人ID，检查data_ino和data，分别是检查结果和诊断结果"
   ]
  },
  {
   "cell_type": "code",
   "execution_count": null,
   "metadata": {},
   "outputs": [],
   "source": [
    "ID = tuple(data_ino.病人ID)\n",
    "sample_ID = random.sample(ID, 1)\n",
    "# sample = random.sample(data, 5)\n",
    "sample_ID\n",
    "\n",
    "# sample_ID\n",
    "# sample_ID = list(sample_ID)\n",
    "sample_diag = data[data.病人ID.isin(sample_ID)]\n",
    "sample_diag\n",
    "sample_ino = data_ino[data_ino.病人ID.isin(sample_ID)]\n",
    "\n",
    "sample_ino.异常提示.value_counts()\n",
    "sample_ino\n",
    "sample_ino[-((sample_ino.异常提示.isnull()) & (sample_ino.阳性标志.isnull()) & (sample_ino.诊断标志.isnull()))]"
   ]
  },
  {
   "cell_type": "code",
   "execution_count": null,
   "metadata": {},
   "outputs": [],
   "source": []
  }
 ],
 "metadata": {
  "kernelspec": {
   "display_name": "Python 3",
   "language": "python",
   "name": "python3"
  },
  "language_info": {
   "codemirror_mode": {
    "name": "ipython",
    "version": 3
   },
   "file_extension": ".py",
   "mimetype": "text/x-python",
   "name": "python",
   "nbconvert_exporter": "python",
   "pygments_lexer": "ipython3",
   "version": "3.6.10"
  }
 },
 "nbformat": 4,
 "nbformat_minor": 4
}
